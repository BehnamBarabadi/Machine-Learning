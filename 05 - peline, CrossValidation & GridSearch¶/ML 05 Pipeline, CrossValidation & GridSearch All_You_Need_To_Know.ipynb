{
 "cells": [
  {
   "cell_type": "markdown",
   "metadata": {},
   "source": [
    "# **Pipeline, CrossValidation & GridSearch**\n",
    "\n",
    "- All You Need To Know"
   ]
  },
  {
   "cell_type": "markdown",
   "metadata": {},
   "source": [
    "We will draw couple of plots during the lecture. We activate matplotlib to show the plots inline in the notebook."
   ]
  },
  {
   "cell_type": "code",
   "execution_count": 2,
   "metadata": {},
   "outputs": [
    {
     "data": {
      "text/html": [
       "<style>.container { width:90% !important; }</style>"
      ],
      "text/plain": [
       "<IPython.core.display.HTML object>"
      ]
     },
     "metadata": {},
     "output_type": "display_data"
    }
   ],
   "source": [
    "from IPython.core.display import display, HTML\n",
    "display(HTML(\"<style>.container { width:90% !important; }</style>\"))"
   ]
  },
  {
   "cell_type": "code",
   "execution_count": 3,
   "metadata": {},
   "outputs": [],
   "source": [
    "import numpy as np\n",
    "np.set_printoptions(suppress=True)\n",
    "#Not using scientific numbers in numpy"
   ]
  },
  {
   "cell_type": "code",
   "execution_count": 4,
   "metadata": {},
   "outputs": [],
   "source": [
    "%matplotlib inline\n",
    "import matplotlib.pyplot as plt"
   ]
  },
  {
   "cell_type": "markdown",
   "metadata": {},
   "source": [
    "`scikit-learn` provides state-of-the-art machine learning algorithms. \n",
    "These algorithms, however, cannot be directly used on raw data. Raw data needs to be preprocessed beforehand. Thus, besides machine learning algorithms, `scikit-learn` provides a set of preprocessing methods. Furthermore, `scikit-learn` provides connectors for pipelining these estimators (i.e., transformer, regressor, classifier, clusterer, etc.).\n",
    "\n",
    "In this lecture, we will present the set of `scikit-learn` functionalities allowing for pipelining estimators, evaluating those pipelines, tuning those pipelines using hyper-parameters optimization, and creating complex preprocessing steps."
   ]
  },
  {
   "cell_type": "markdown",
   "metadata": {},
   "source": [
    "## 1. Basic use-case: train and test a classifier"
   ]
  },
  {
   "cell_type": "markdown",
   "metadata": {},
   "source": [
    "For this first example, we will train and test a classifier on a dataset. We will use this example to recall the API of `scikit-learn`."
   ]
  },
  {
   "cell_type": "markdown",
   "metadata": {},
   "source": [
    "We will use the `digits` dataset which is a dataset of hand-written digits."
   ]
  },
  {
   "cell_type": "code",
   "execution_count": 5,
   "metadata": {},
   "outputs": [],
   "source": [
    "from sklearn.datasets import load_digits\n",
    "X, y = load_digits(return_X_y = True)"
   ]
  },
  {
   "cell_type": "markdown",
   "metadata": {},
   "source": [
    "Each row in `X` contains the intensities of the 64 image pixels. For each sample in `X`, we get the ground-truth `y` indicating the digit written."
   ]
  },
  {
   "cell_type": "code",
   "execution_count": 6,
   "metadata": {},
   "outputs": [
    {
     "data": {
      "text/plain": [
       "array([ 0.,  0.,  5., 13.,  9.,  1.,  0.,  0.,  0.,  0., 13., 15., 10.,\n",
       "       15.,  5.,  0.,  0.,  3., 15.,  2.,  0., 11.,  8.,  0.,  0.,  4.,\n",
       "       12.,  0.,  0.,  8.,  8.,  0.,  0.,  5.,  8.,  0.,  0.,  9.,  8.,\n",
       "        0.,  0.,  4., 11.,  0.,  1., 12.,  7.,  0.,  0.,  2., 14.,  5.,\n",
       "       10., 12.,  0.,  0.,  0.,  0.,  6., 13., 10.,  0.,  0.,  0.])"
      ]
     },
     "execution_count": 6,
     "metadata": {},
     "output_type": "execute_result"
    }
   ],
   "source": [
    "X[0]"
   ]
  },
  {
   "cell_type": "code",
   "execution_count": 7,
   "metadata": {},
   "outputs": [
    {
     "name": "stdout",
     "output_type": "stream",
     "text": [
      "The digit in the image is: 0\n"
     ]
    },
    {
     "data": {
      "image/png": "[encoded data removed]",
      "text/plain": [
       "<Figure size 432x288 with 1 Axes>"
      ]
     },
     "metadata": {
      "needs_background": "light"
     },
     "output_type": "display_data"
    }
   ],
   "source": [
    "plt.imshow(X[0].reshape(8,8), cmap = 'gray');\n",
    "plt.axis('off') #not showing the x axe\n",
    "print(f'The digit in the image is: {y[0]}')"
   ]
  },
  {
   "cell_type": "markdown",
   "metadata": {},
   "source": [
    "In machine learning, we should evaluate our model by training and testing it on distinct sets of data. `train_test_split` is a utility function to split the data into two independent sets. The `stratify` parameter enforces the classes distribution of the train and test datasets to be the same than the one of the entire dataset."
   ]
  },
  {
   "cell_type": "code",
   "execution_count": 8,
   "metadata": {},
   "outputs": [],
   "source": [
    "from sklearn.model_selection import train_test_split\n",
    "X_train, X_test, y_train, y_test = train_test_split(X, y, stratify = y, random_state = 42)\n",
    "# Stratify makes sure that the distribution remains consistant in training and test set\n",
    "# Balance of classes remain the same"
   ]
  },
  {
   "cell_type": "markdown",
   "metadata": {},
   "source": [
    "### <span style=\"color:red\">**Stratify:** </span>\n",
    "\n",
    "\n",
    "#### Stratify makes sure that the distribution remains consistant in training and test set \n",
    "- Balance of classes remain the same\n",
    "\n",
    "- Always set `stratify = y`"
   ]
  },
  {
   "cell_type": "markdown",
   "metadata": {},
   "source": [
    "Once we have independent training and testing sets, we can learn a machine learning model using the `fit` method. We will use the `score` method to test this method, relying on the default accuracy metric."
   ]
  },
  {
   "cell_type": "code",
   "execution_count": 9,
   "metadata": {},
   "outputs": [],
   "source": [
    "from sklearn.linear_model import LogisticRegression\n",
    "\n",
    "clf = LogisticRegression(solver = 'lbfgs', multi_class = 'auto', max_iter = 5000, random_state = 42)"
   ]
  },
  {
   "cell_type": "markdown",
   "metadata": {},
   "source": [
    "### **penalty:**\n",
    "- by default we have $l2$ penalty, elasticnet is the combination of $l1$ and $l2$\n",
    "\n",
    "### **$C$:**\n",
    "\n",
    "- is sepecifies the strength of the regularization but it's the opposite of $lambda$\n",
    "\n",
    "### **tol:**\n",
    "\n",
    "- the percision we want from the model to converge before stops the iterations\n",
    "\n",
    "### **max_iter:**\n",
    "\n",
    "- is the number of iterations before the model stops\n",
    "\n",
    "### **n_jobs:**\n",
    "\n",
    "- how many cores do you want to use? (-1 for the maximum core usage)"
   ]
  },
  {
   "cell_type": "code",
   "execution_count": 10,
   "metadata": {},
   "outputs": [
    {
     "name": "stdout",
     "output_type": "stream",
     "text": [
      " accuracy score of the LogisticRegression is 0.95\n",
      "Wall time: 3.71 s\n"
     ]
    }
   ],
   "source": [
    "%%time\n",
    "clf.fit(X_train, y_train)\n",
    "accuracy = clf.score(X_test, y_test)\n",
    "print(f\" accuracy score of the {clf.__class__.__name__} is {accuracy:0.2f}\" )"
   ]
  },
  {
   "cell_type": "code",
   "execution_count": 11,
   "metadata": {},
   "outputs": [
    {
     "name": "stdout",
     "output_type": "stream",
     "text": [
      "auc score of the LogisticRegression is 1.00\n"
     ]
    }
   ],
   "source": [
    "from sklearn.metrics import roc_auc_score\n",
    "\n",
    "y_pred_proba = clf.predict_proba(X_test)\n",
    "auc = roc_auc_score(y_test, y_pred_proba, multi_class = 'ovo')\n",
    "print(f\"auc score of the {clf.__class__.__name__} is {auc:0.2f}\" )"
   ]
  },
  {
   "cell_type": "markdown",
   "metadata": {},
   "source": [
    "The API of `scikit-learn` is consistent across classifiers. Thus, we can easily replace the `LogisticRegression` classifier by a `RandomForestClassifier`. These changes are minimal and only related to the creation of the classifier instance."
   ]
  },
  {
   "cell_type": "code",
   "execution_count": 12,
   "metadata": {},
   "outputs": [],
   "source": [
    "from sklearn.ensemble import RandomForestClassifier"
   ]
  },
  {
   "cell_type": "code",
   "execution_count": 13,
   "metadata": {},
   "outputs": [
    {
     "name": "stdout",
     "output_type": "stream",
     "text": [
      " accuracy score of the RandomForestClassifier is 0.96\n",
      "Wall time: 469 ms\n"
     ]
    }
   ],
   "source": [
    "%%time\n",
    "clf = RandomForestClassifier(n_estimators=100, n_jobs=-1, random_state=42)\n",
    "clf.fit(X_train, y_train)\n",
    "accuracy = clf.score(X_test, y_test)\n",
    "print(f\" accuracy score of the {clf.__class__.__name__} is {accuracy:0.2f}\" )\n",
    "%timeit"
   ]
  },
  {
   "cell_type": "markdown",
   "metadata": {},
   "source": [
    "### Exercise\n",
    "\n",
    "Do the following exercise:"
   ]
  },
  {
   "cell_type": "markdown",
   "metadata": {},
   "source": [
    "* Load the breast cancer dataset. Import the functions `load_breast_cancer` from `sklearn.datasets`"
   ]
  },
  {
   "cell_type": "code",
   "execution_count": 14,
   "metadata": {},
   "outputs": [],
   "source": [
    "from sklearn.datasets import load_breast_cancer\n",
    "X_b, y_b = load_breast_cancer(return_X_y = True)"
   ]
  },
  {
   "cell_type": "code",
   "execution_count": 15,
   "metadata": {},
   "outputs": [
    {
     "data": {
      "text/plain": [
       "(569, 30)"
      ]
     },
     "execution_count": 15,
     "metadata": {},
     "output_type": "execute_result"
    }
   ],
   "source": [
    "X_b.shape"
   ]
  },
  {
   "cell_type": "code",
   "execution_count": 16,
   "metadata": {},
   "outputs": [
    {
     "data": {
      "text/plain": [
       "0"
      ]
     },
     "execution_count": 16,
     "metadata": {},
     "output_type": "execute_result"
    }
   ],
   "source": [
    "y_b[0]"
   ]
  },
  {
   "cell_type": "code",
   "execution_count": 17,
   "metadata": {},
   "outputs": [
    {
     "data": {
      "text/plain": [
       "array([0, 1])"
      ]
     },
     "execution_count": 17,
     "metadata": {},
     "output_type": "execute_result"
    }
   ],
   "source": [
    "np.unique(y_b)"
   ]
  },
  {
   "cell_type": "markdown",
   "metadata": {},
   "source": [
    "### Binary classification probelm"
   ]
  },
  {
   "cell_type": "markdown",
   "metadata": {},
   "source": [
    "* Split the dataset to keep 30% of it for testing using `sklearn.model_selection.train_test_split`. Make sure to stratify the data (i.e., use the `stratify` parameter) and set the `random_state` to `0`."
   ]
  },
  {
   "cell_type": "code",
   "execution_count": 18,
   "metadata": {},
   "outputs": [],
   "source": [
    "X_train_b, X_test_b, y_train_b, y_test_b = train_test_split(X_b, y_b, test_size = 0.3, stratify = y_b, random_state = 0)"
   ]
  },
  {
   "cell_type": "markdown",
   "metadata": {},
   "source": [
    "### Attention: Because we have `y_b` instead of `y`, for stratify also we need to write `stratify = y_b`"
   ]
  },
  {
   "cell_type": "markdown",
   "metadata": {},
   "source": [
    "* Train a supervised classifier using the training data using GradientBoostingClassifier."
   ]
  },
  {
   "cell_type": "code",
   "execution_count": 19,
   "metadata": {},
   "outputs": [],
   "source": [
    "from sklearn.ensemble import GradientBoostingClassifier\n",
    "clf_gb = GradientBoostingClassifier(n_estimators=100, random_state=0).fit(X_train_b, y_train_b)"
   ]
  },
  {
   "cell_type": "markdown",
   "metadata": {},
   "source": [
    "* Use the fitted classifier to predict the classification labels for the testing set."
   ]
  },
  {
   "cell_type": "code",
   "execution_count": 20,
   "metadata": {},
   "outputs": [
    {
     "data": {
      "text/plain": [
       "array([0, 1, 0, 1, 0, 1, 0, 0, 0, 0, 1, 1, 1, 1, 0, 0, 0, 1, 0, 0, 1, 1,\n",
       "       1, 0, 0, 1, 1, 0, 1, 0, 0, 1, 0, 1, 1, 1, 1, 0, 1, 0, 0, 0, 1, 0,\n",
       "       1, 0, 0, 1, 1, 1, 1, 0, 1, 0, 1, 1, 1, 1, 1, 1, 1, 1, 0, 0, 0, 0,\n",
       "       0, 0, 0, 1, 1, 0, 1, 1, 1, 1, 1, 0, 0, 1, 1, 1, 1, 0, 1, 1, 0, 0,\n",
       "       0, 0, 0, 0, 1, 1, 1, 0, 0, 1, 0, 0, 0, 1, 1, 0, 1, 0, 1, 0, 1, 1,\n",
       "       1, 0, 1, 1, 1, 1, 1, 0, 1, 1, 1, 1, 1, 1, 0, 1, 1, 1, 1, 1, 1, 1,\n",
       "       1, 1, 0, 1, 1, 0, 0, 0, 1, 0, 1, 0, 1, 0, 1, 1, 1, 1, 1, 1, 1, 1,\n",
       "       0, 1, 1, 1, 1, 1, 0, 1, 1, 1, 0, 1, 1, 0, 1, 1, 1])"
      ]
     },
     "execution_count": 20,
     "metadata": {},
     "output_type": "execute_result"
    }
   ],
   "source": [
    "y_pred_b = clf_gb.predict(X_test_b)\n",
    "y_pred_b"
   ]
  },
  {
   "cell_type": "markdown",
   "metadata": {},
   "source": [
    "* Compute the balanced accuracy on the testing set. You need to import `balanced_accuracy_score` from `sklearn.metrics`"
   ]
  },
  {
   "cell_type": "markdown",
   "metadata": {},
   "source": [
    "## **The balanced accuracy:**\n",
    "- in binary and multiclass classification problems to deal with imbalanced datasets.\n",
    "\n",
    "- It is defined as the average of recall obtained on each class.\n",
    "\n",
    "- The best value is 1 and the worst value is 0 when `adjusted=False`"
   ]
  },
  {
   "cell_type": "code",
   "execution_count": 21,
   "metadata": {},
   "outputs": [],
   "source": [
    "from sklearn.metrics import balanced_accuracy_score, roc_auc_score"
   ]
  },
  {
   "cell_type": "markdown",
   "metadata": {},
   "source": [
    "## **AUC:**"
   ]
  },
  {
   "cell_type": "code",
   "execution_count": 22,
   "metadata": {},
   "outputs": [
    {
     "data": {
      "text/plain": [
       "array([0, 1])"
      ]
     },
     "execution_count": 22,
     "metadata": {},
     "output_type": "execute_result"
    }
   ],
   "source": [
    "clf_gb.classes_"
   ]
  },
  {
   "cell_type": "markdown",
   "metadata": {},
   "source": [
    "### This means that the 2nd column of `_pred_proba_b` is for class 1\n",
    "\n",
    "`y_pred_proba_b = clf_gb.predict_proba(X_test_b)[:,1]`\n",
    "\n",
    ">we must use the column belongs to the class with higher number for y_pred_proba in binary classification "
   ]
  },
  {
   "cell_type": "code",
   "execution_count": 23,
   "metadata": {},
   "outputs": [
    {
     "data": {
      "text/plain": [
       "0.9865654205607477"
      ]
     },
     "execution_count": 23,
     "metadata": {},
     "output_type": "execute_result"
    }
   ],
   "source": [
    "import sklearn.metrics as met\n",
    "y_pred_proba_b = clf_gb.predict_proba(X_test_b)[:,1]\n",
    "y_pred_proba_b\n",
    "roc_auc_score(y_test_b, y_pred_proba_b)"
   ]
  },
  {
   "cell_type": "code",
   "execution_count": 24,
   "metadata": {
    "scrolled": true
   },
   "outputs": [
    {
     "name": "stdout",
     "output_type": "stream",
     "text": [
      "The balanced accuracy score is 0.941\n",
      "The mean accuracy score is     0.942\n",
      "The AUC score is               0.987\n"
     ]
    }
   ],
   "source": [
    "print(f\"The balanced accuracy score is {balanced_accuracy_score(y_test_b, y_pred_b):0.3f}\")\n",
    "print(f\"The mean accuracy score is     {clf_gb.score(X_test_b, y_test_b):0.3f}\")\n",
    "print(f\"The AUC score is               {roc_auc_score(y_test_b, y_pred_proba_b):0.3f}\")"
   ]
  },
  {
   "cell_type": "markdown",
   "metadata": {},
   "source": [
    "## 2. More advanced use-case: preprocess the data before training and testing a classifier"
   ]
  },
  {
   "cell_type": "markdown",
   "metadata": {},
   "source": [
    "### 2.1 Standardize your data"
   ]
  },
  {
   "cell_type": "markdown",
   "metadata": {},
   "source": [
    "Preprocessing might be required before learning a model. For instance, a user could be interested in creating hand-crafted features or an algorithm might make some apriori assumptions about the data. \n",
    "\n",
    "In our case, the solver used by the `LogisticRegression` expects the data to be normalized. Thus, we need to standardize the data before training the model. To observe this necessary condition, we will check the number of iterations required to train the model."
   ]
  },
  {
   "cell_type": "code",
   "execution_count": 25,
   "metadata": {},
   "outputs": [
    {
     "name": "stdout",
     "output_type": "stream",
     "text": [
      "Required number of iteration to fit the model LogisticRegression, 2366\n",
      "Wall time: 3.21 s\n"
     ]
    }
   ],
   "source": [
    "%%time\n",
    "clf = LogisticRegression(solver='lbfgs', multi_class='auto', max_iter=5000, random_state=42)\n",
    "clf.fit(X_train, y_train)\n",
    "accuracy = clf.score(X_test, y_test)\n",
    "print(f\"Required number of iteration to fit the model {clf.__class__.__name__}, {clf.n_iter_[0]}\" )"
   ]
  },
  {
   "cell_type": "markdown",
   "metadata": {},
   "source": [
    "The `MinMaxScaler` transformer is used to normalise the data. Other scalers include `StandardScaler`, `RobustScaler`, and `Normalizer`. The scaler should be applied in the following way: learn (i.e., `fit` method) the statistics on a training set and standardize (i.e., `transform` method) both the training and testing sets. Finally, we will train and test the model and the scaled datasets."
   ]
  },
  {
   "cell_type": "markdown",
   "metadata": {},
   "source": [
    "### StandardScaler:\n",
    "\n",
    "$$ \\frac{x - \\mu}{\\sigma} $$\n",
    "\n",
    "$\\mu$: mean of all $X$ values\n",
    "\n",
    "$\\sigma$: standrad deviation"
   ]
  },
  {
   "cell_type": "markdown",
   "metadata": {},
   "source": [
    "### RobustScaler:\n",
    "\n",
    "$$ \\frac{x - M}{Q_3 - Q_1} $$\n",
    "\n",
    "$M$: Median of all $X$ values\n",
    "\n",
    "$Q_3 - Q_1$: 75% - 25% percentiles"
   ]
  },
  {
   "cell_type": "markdown",
   "metadata": {},
   "source": [
    "### MinMaxScaler:\n",
    "$$\\frac{x -x_{min}} {x_{max} -x_{min}}$$"
   ]
  },
  {
   "cell_type": "code",
   "execution_count": 26,
   "metadata": {},
   "outputs": [
    {
     "name": "stdout",
     "output_type": "stream",
     "text": [
      "The mean accuracy accuracy score is 0.96\n",
      "Required number of iteration to fit the model LogisticRegression: 186\n"
     ]
    }
   ],
   "source": [
    "from sklearn.preprocessing import MinMaxScaler\n",
    "\n",
    "scaler = MinMaxScaler()\n",
    "X_train_Scaled = scaler.fit_transform(X_train)\n",
    "#Use X_train to find the min and max in the train dataset, and execute the scaler on train set\n",
    "\n",
    "X_test_Scaled = scaler.transform(X_test)\n",
    "#Then execute the scaling on test as well with the same scsler created out of X_train\n",
    "\n",
    "clf.fit(X_train_Scaled, y_train)\n",
    "accuracy = clf.score(X_test_Scaled, y_test)\n",
    "\n",
    "print(f\"The mean accuracy accuracy score is {accuracy:0.2f}\")\n",
    "print(f\"Required number of iteration to fit the model {clf.__class__.__name__}: {clf.n_iter_[0]}\" )"
   ]
  },
  {
   "cell_type": "code",
   "execution_count": 27,
   "metadata": {},
   "outputs": [
    {
     "name": "stdout",
     "output_type": "stream",
     "text": [
      "The mean accuracy score is 0.978\n",
      "required number of iteration to fit the model LogisticRegressionis 89\n"
     ]
    }
   ],
   "source": [
    "from sklearn.preprocessing import StandardScaler\n",
    "\n",
    "scaler = StandardScaler()\n",
    "X_train_Scaled = scaler.fit_transform(X_train)\n",
    "#Use X_train to find the min and max in the train dataset, and execute the scaler on train set\n",
    "\n",
    "X_test_Scaled = scaler.transform(X_test)\n",
    "#Then execute the scaling on test as well with the same scsler created out of X_train\n",
    "\n",
    "clf.fit(X_train_Scaled, y_train)\n",
    "accuracy = clf.score(X_test_Scaled, y_test)\n",
    "\n",
    "print(f\"The mean accuracy score is {accuracy:0.3f}\")\n",
    "print(f\"required number of iteration to fit the model {clf.__class__.__name__}is {clf.n_iter_[0]}\" )"
   ]
  },
  {
   "cell_type": "markdown",
   "metadata": {},
   "source": [
    "By scaling the data, the convergence of the model happened much faster than with the unscaled data."
   ]
  },
  {
   "cell_type": "code",
   "execution_count": 28,
   "metadata": {},
   "outputs": [
    {
     "data": {
      "text/plain": [
       "array([ 0.,  2., 12., 16., 12.,  0.,  0.,  0.,  0.,  7., 16., 13., 16.,\n",
       "        3.,  0.,  0.,  0.,  0.,  3.,  5., 16.,  0.,  0.,  0.,  0.,  0.,\n",
       "        3., 15.,  7.,  0.,  0.,  0.,  0.,  0., 11., 13.,  0.,  0.,  0.,\n",
       "        0.,  0.,  6., 13.,  1.,  0.,  0.,  0.,  0.,  0.,  6., 16., 11.,\n",
       "        8., 11.,  5.,  0.,  0.,  0., 15., 16., 16., 15.,  3.,  0.])"
      ]
     },
     "execution_count": 28,
     "metadata": {},
     "output_type": "execute_result"
    }
   ],
   "source": [
    "X_train[0]"
   ]
  },
  {
   "cell_type": "code",
   "execution_count": 29,
   "metadata": {},
   "outputs": [
    {
     "name": "stdout",
     "output_type": "stream",
     "text": [
      "[ 0.          0.30512249  5.16926503 11.80920564 11.8515219   5.82999258\n",
      "  1.32887899  0.11581292  0.00593912  2.         10.45953972 11.93986637\n",
      " 10.25612472  8.34298441  1.82553823  0.09948033  0.00148478  2.63474388\n",
      "  9.96139569  6.93986637  7.06087602  7.87082405  1.74832962  0.04899777\n",
      "  0.00074239  2.48626578  9.15961396  8.85449146  9.89012621  7.51373422\n",
      "  2.29398664  0.00222717  0.          2.32739421  7.61618411  9.10838901\n",
      " 10.36228656  8.67928731  2.88789903  0.          0.00668151  1.59910913\n",
      "  6.87973274  7.28062361  7.68819599  8.19970304  3.46993318  0.02524128\n",
      "  0.00890869  0.72531552  7.54862658  9.59020045  9.39717892  8.75426875\n",
      "  3.76169265  0.18708241  0.00074239  0.27839644  5.52115813 12.13511507\n",
      " 11.79213066  6.86043059  2.06533036  0.31848552]\n"
     ]
    }
   ],
   "source": [
    "print(scaler.mean_)\n",
    "# mean of all columns in trin data (because sclaer is fitted on train data)"
   ]
  },
  {
   "cell_type": "markdown",
   "metadata": {},
   "source": [
    "## 2.2 The wrong preprocessing patterns"
   ]
  },
  {
   "cell_type": "markdown",
   "metadata": {},
   "source": [
    "We highlighted how to preprocess and adequately train a machine learning model. It is also interesting to spot what would be the wrong way of preprocessing data. There are two potential mistakes which are easy to make but easy to spot."
   ]
  },
  {
   "cell_type": "markdown",
   "metadata": {},
   "source": [
    "The first pattern is to standardize the data before spliting the full set into training and testing sets."
   ]
  },
  {
   "cell_type": "markdown",
   "metadata": {},
   "source": [
    "### Information leackage\n",
    "\n",
    "- Don't scale before spliting"
   ]
  },
  {
   "cell_type": "code",
   "execution_count": 30,
   "metadata": {},
   "outputs": [
    {
     "name": "stdout",
     "output_type": "stream",
     "text": [
      "The mean accuracy score is 0.96\n"
     ]
    }
   ],
   "source": [
    "scaler = MinMaxScaler()\n",
    "X_scaled = scaler.fit_transform(X)\n",
    "X_train_prescaled, X_test_prescaled, y_train_prescaled, y_test_prescaled = train_test_split(X_scaled, y, stratify=y, random_state=42)\n",
    "\n",
    "clf = LogisticRegression(solver='lbfgs', multi_class='auto', max_iter=1000, random_state=42)\n",
    "clf.fit(X_train_prescaled, y_train_prescaled)\n",
    "accuracy = clf.score(X_test_prescaled, y_test_prescaled)\n",
    "print(f\"The mean accuracy score is {accuracy:0.2f}\")"
   ]
  },
  {
   "cell_type": "markdown",
   "metadata": {},
   "source": [
    "The second pattern is to standardize the training and testing sets independently. It comes back to call the `fit` methods on both training and testing sets. Thus, the training and testing sets are standardized differently.\n",
    "\n"
   ]
  },
  {
   "cell_type": "markdown",
   "metadata": {},
   "source": [
    "### Information leackage\n",
    "\n",
    "-  Don't fit() test set!"
   ]
  },
  {
   "cell_type": "code",
   "execution_count": 31,
   "metadata": {},
   "outputs": [
    {
     "name": "stdout",
     "output_type": "stream",
     "text": [
      "The mean accuracy score is 0.96\n"
     ]
    }
   ],
   "source": [
    "scaler = MinMaxScaler()\n",
    "X_train_prescaled = scaler.fit_transform(X_train)\n",
    "X_test_prescaled = scaler.fit_transform(X_test)\n",
    "\n",
    "clf = LogisticRegression(solver='lbfgs', multi_class='auto', max_iter=1000, random_state=42)\n",
    "clf.fit(X_train_prescaled, y_train)\n",
    "accuracy = clf.score(X_test_prescaled, y_test)\n",
    "print(f\"The mean accuracy score is {accuracy:0.2f}\")"
   ]
  },
  {
   "cell_type": "markdown",
   "metadata": {},
   "source": [
    "## 2.3 Keep it simple, stupid: use the pipeline connector from `scikit-learn`"
   ]
  },
  {
   "cell_type": "markdown",
   "metadata": {},
   "source": [
    "The two previous patterns are an issue with data leaking. However, this is difficult to prevent such a mistake when one has to do the preprocessing by hand. Thus, `scikit-learn` introduced the `Pipeline` object. It sequentially connects several transformers and a classifier (or a regressor). We can create a pipeline as:"
   ]
  },
  {
   "cell_type": "code",
   "execution_count": 32,
   "metadata": {},
   "outputs": [],
   "source": [
    "plt.style.use('ggplot')"
   ]
  },
  {
   "cell_type": "code",
   "execution_count": 33,
   "metadata": {},
   "outputs": [
    {
     "name": "stderr",
     "output_type": "stream",
     "text": [
      "C:\\Users\\Behnam\\Anaconda3\\lib\\site-packages\\sklearn\\externals\\six.py:31: FutureWarning: The module is deprecated in version 0.21 and will be removed in version 0.23 since we've dropped support for Python 2.7. Please rely on the official version of six (https://pypi.org/project/six/).\n",
      "  \"(https://pypi.org/project/six/).\", FutureWarning)\n",
      "C:\\Users\\Behnam\\Anaconda3\\lib\\site-packages\\sklearn\\externals\\joblib\\__init__.py:15: FutureWarning: sklearn.externals.joblib is deprecated in 0.21 and will be removed in 0.23. Please import this functionality directly from joblib, which can be installed with: pip install joblib. If this warning is raised when loading pickled models, you may need to re-serialize those models with scikit-learn 0.21+.\n",
      "  warnings.warn(msg, category=FutureWarning)\n"
     ]
    },
    {
     "data": {
      "image/png": "[encoded data removed]",
      "text/plain": [
       "<Figure size 1080x720 with 2 Axes>"
      ]
     },
     "metadata": {},
     "output_type": "display_data"
    }
   ],
   "source": [
    "import mglearn\n",
    "mglearn.plots.plot_improper_processing()"
   ]
  },
  {
   "cell_type": "code",
   "execution_count": 34,
   "metadata": {
    "scrolled": false
   },
   "outputs": [
    {
     "data": {
      "image/png": "[encoded data removed]",
      "text/plain": [
       "<Figure size 1080x576 with 2 Axes>"
      ]
     },
     "metadata": {},
     "output_type": "display_data"
    }
   ],
   "source": [
    "mglearn.plots.plot_proper_processing()"
   ]
  },
  {
   "cell_type": "code",
   "execution_count": 35,
   "metadata": {},
   "outputs": [],
   "source": [
    "from sklearn.preprocessing import MinMaxScaler\n",
    "scaler = MinMaxScaler()\n"
   ]
  },
  {
   "cell_type": "markdown",
   "metadata": {},
   "source": [
    "### Pipeline of transforms with a final estimator\n",
    "\n",
    "- Inside pipeline we have tuples `('object name', function() )`"
   ]
  },
  {
   "cell_type": "code",
   "execution_count": 36,
   "metadata": {},
   "outputs": [],
   "source": [
    "from sklearn.pipeline import Pipeline\n",
    "\n",
    "pipe = Pipeline( steps = [ ('scaler', MinMaxScaler()), ('clf', LogisticRegression(solver = 'lbfgs', random_state = 42)) ] )"
   ]
  },
  {
   "cell_type": "markdown",
   "metadata": {},
   "source": [
    "We see that this pipeline contains the parameters of both the scaler and the classifier. Sometimes, it can be tedious to give a name to each estimator in the pipeline. `make_pipeline` will give a name automatically to each estimator which is the lower case of the class name."
   ]
  },
  {
   "cell_type": "markdown",
   "metadata": {},
   "source": [
    "### Using make_pipeline to avoid choosing stepes (chosing names)"
   ]
  },
  {
   "cell_type": "code",
   "execution_count": 37,
   "metadata": {},
   "outputs": [],
   "source": [
    "from sklearn.pipeline import make_pipeline\n",
    "\n",
    "pipe = make_pipeline( MinMaxScaler(), LogisticRegression(solver = 'lbfgs', random_state = 42, max_iter = 5000)  )"
   ]
  },
  {
   "cell_type": "code",
   "execution_count": 38,
   "metadata": {},
   "outputs": [],
   "source": [
    "from sklearn.preprocessing import PolynomialFeatures"
   ]
  },
  {
   "cell_type": "code",
   "execution_count": 39,
   "metadata": {},
   "outputs": [],
   "source": [
    "pipe2 = make_pipeline( MinMaxScaler(), PolynomialFeatures(degree = 2),\n",
    "                           LogisticRegression(solver = 'lbfgs', random_state = 42, max_iter = 5000), verbose  = True   )"
   ]
  },
  {
   "cell_type": "markdown",
   "metadata": {},
   "source": [
    "#### `verbose  = True` prints the time needed to execute each step of the pipeline"
   ]
  },
  {
   "cell_type": "code",
   "execution_count": 40,
   "metadata": {},
   "outputs": [
    {
     "data": {
      "text/plain": [
       "{'minmaxscaler': MinMaxScaler(copy=True, feature_range=(0, 1)),\n",
       " 'logisticregression': LogisticRegression(C=1.0, class_weight=None, dual=False, fit_intercept=True,\n",
       "                    intercept_scaling=1, l1_ratio=None, max_iter=5000,\n",
       "                    multi_class='auto', n_jobs=None, penalty='l2',\n",
       "                    random_state=42, solver='lbfgs', tol=0.0001, verbose=0,\n",
       "                    warm_start=False)}"
      ]
     },
     "execution_count": 40,
     "metadata": {},
     "output_type": "execute_result"
    }
   ],
   "source": [
    "pipe.named_steps"
   ]
  },
  {
   "cell_type": "markdown",
   "metadata": {},
   "source": [
    "The pipeline will have an identical API. We use `fit` to train the classifier and `score` to check the accuracy. However, calling `fit` will call the method `fit_transform` of all transformers in the pipeline. Calling `score` (or `predict` and `predict_proba`) will call internally `transform` of all transformers in the pipeline. "
   ]
  },
  {
   "cell_type": "code",
   "execution_count": 41,
   "metadata": {},
   "outputs": [
    {
     "data": {
      "text/plain": [
       "((1347, 64), (1347,))"
      ]
     },
     "execution_count": 41,
     "metadata": {},
     "output_type": "execute_result"
    }
   ],
   "source": [
    "X_train.shape, y_train.shape"
   ]
  },
  {
   "cell_type": "code",
   "execution_count": 42,
   "metadata": {},
   "outputs": [
    {
     "name": "stdout",
     "output_type": "stream",
     "text": [
      "Accuracy of the model is: Pipeline: 0.96\n"
     ]
    }
   ],
   "source": [
    "pipe.fit(X_train, y_train)\n",
    "accuracy = pipe.score(X_test, y_test)\n",
    "\n",
    "print(f\"Accuracy of the model is: {pipe.__class__.__name__}: {accuracy:0.2f}\" )"
   ]
  },
  {
   "cell_type": "code",
   "execution_count": 43,
   "metadata": {},
   "outputs": [
    {
     "name": "stdout",
     "output_type": "stream",
     "text": [
      "[Pipeline] ...... (step 1 of 3) Processing minmaxscaler, total=   0.0s\n",
      "[Pipeline]  (step 2 of 3) Processing polynomialfeatures, total=   0.0s\n",
      "[Pipeline]  (step 3 of 3) Processing logisticregression, total=   4.1s\n",
      "Accuracy of the model is: Pipeline: 0.99\n"
     ]
    }
   ],
   "source": [
    "pipe2.fit(X_train, y_train)\n",
    "accuracy2 = pipe2.score(X_test, y_test)\n",
    "print(f\"Accuracy of the model is: {pipe.__class__.__name__}: {accuracy2:0.2f}\" )"
   ]
  },
  {
   "cell_type": "markdown",
   "metadata": {},
   "source": [
    "### Showing the train set after scaling¶"
   ]
  },
  {
   "cell_type": "code",
   "execution_count": 44,
   "metadata": {},
   "outputs": [
    {
     "data": {
      "text/plain": [
       "array([0.    , 0.    , 0.    , 0.8125, 0.875 , 0.    , 0.    , 0.    ,\n",
       "       0.    , 0.    , 0.    , 0.8125, 1.    , 0.1875, 0.    , 0.    ,\n",
       "       0.    , 0.    , 0.125 , 1.    , 0.9375, 0.1875, 0.    , 0.    ,\n",
       "       0.    , 0.    , 0.25  , 1.    , 0.875 , 0.    , 0.    , 0.    ,\n",
       "       0.    , 0.    , 0.1875, 1.    , 0.6875, 0.    , 0.    , 0.    ,\n",
       "       0.    , 0.    , 0.5   , 1.    , 0.625 , 0.    , 0.    , 0.    ,\n",
       "       0.    , 0.    , 0.375 , 1.    , 0.4375, 0.    , 0.    , 0.    ,\n",
       "       0.    , 0.    , 0.0625, 0.6875, 0.5625, 0.    , 0.    , 0.    ])"
      ]
     },
     "execution_count": 44,
     "metadata": {},
     "output_type": "execute_result"
    }
   ],
   "source": [
    "np.set_printoptions(threshold=np.inf)\n",
    "pipe.named_steps[\"minmaxscaler\"].transform(X_train)[1]\n"
   ]
  },
  {
   "cell_type": "code",
   "execution_count": 45,
   "metadata": {},
   "outputs": [
    {
     "data": {
      "text/plain": [
       "array([  1.,   0.,   0.,   0.,  13.,  14.,   0.,   0.,   0.,   0.,   0.,\n",
       "         0.,  13.,  16.,   3.,   0.,   0.,   0.,   0.,   2.,  16.,  15.,\n",
       "         3.,   0.,   0.,   0.,   0.,   4.,  16.,  14.,   0.,   0.,   0.,\n",
       "         0.,   0.,   3.,  16.,  11.,   0.,   0.,   0.,   0.,   0.,   8.,\n",
       "        16.,  10.,   0.,   0.,   0.,   0.,   0.,   6.,  16.,   7.,   0.,\n",
       "         0.,   0.,   0.,   0.,   1.,  11.,   9.,   0.,   0.,   0.,   0.,\n",
       "         0.,   0.,   0.,   0.,   0.,   0.,   0.,   0.,   0.,   0.,   0.,\n",
       "         0.,   0.,   0.,   0.,   0.,   0.,   0.,   0.,   0.,   0.,   0.,\n",
       "         0.,   0.,   0.,   0.,   0.,   0.,   0.,   0.,   0.,   0.,   0.,\n",
       "         0.,   0.,   0.,   0.,   0.,   0.,   0.,   0.,   0.,   0.,   0.,\n",
       "         0.,   0.,   0.,   0.,   0.,   0.,   0.,   0.,   0.,   0.,   0.,\n",
       "         0.,   0.,   0.,   0.,   0.,   0.,   0.,   0.,   0.,   0.,   0.,\n",
       "         0.,   0.,   0.,   0.,   0.,   0.,   0.,   0.,   0.,   0.,   0.,\n",
       "         0.,   0.,   0.,   0.,   0.,   0.,   0.,   0.,   0.,   0.,   0.,\n",
       "         0.,   0.,   0.,   0.,   0.,   0.,   0.,   0.,   0.,   0.,   0.,\n",
       "         0.,   0.,   0.,   0.,   0.,   0.,   0.,   0.,   0.,   0.,   0.,\n",
       "         0.,   0.,   0.,   0.,   0.,   0.,   0.,   0.,   0.,   0.,   0.,\n",
       "         0.,   0.,   0.,   0.,   0.,   0.,   0.,   0.,   0.,   0.,   0.,\n",
       "         0.,   0.,   0.,   0.,   0.,   0.,   0.,   0.,   0.,   0.,   0.,\n",
       "         0.,   0.,   0.,   0.,   0.,   0.,   0.,   0.,   0.,   0.,   0.,\n",
       "         0.,   0.,   0.,   0.,   0.,   0.,   0.,   0.,   0.,   0.,   0.,\n",
       "         0.,   0.,   0.,   0.,   0.,   0.,   0.,   0.,   0.,   0.,   0.,\n",
       "         0.,   0.,   0.,   0.,   0.,   0.,   0.,   0.,   0.,   0.,   0.,\n",
       "         0., 169., 182.,   0.,   0.,   0.,   0.,   0.,   0., 169., 208.,\n",
       "        39.,   0.,   0.,   0.,   0.,  26., 208., 195.,  39.,   0.,   0.,\n",
       "         0.,   0.,  52., 208., 182.,   0.,   0.,   0.,   0.,   0.,  39.,\n",
       "       208., 143.,   0.,   0.,   0.,   0.,   0., 104., 208., 130.,   0.,\n",
       "         0.,   0.,   0.,   0.,  78., 208.,  91.,   0.,   0.,   0.,   0.,\n",
       "         0.,  13., 143., 117.,   0.,   0.,   0., 196.,   0.,   0.,   0.,\n",
       "         0.,   0.,   0., 182., 224.,  42.,   0.,   0.,   0.,   0.,  28.,\n",
       "       224., 210.,  42.,   0.,   0.,   0.,   0.,  56., 224., 196.,   0.,\n",
       "         0.,   0.,   0.,   0.,  42., 224., 154.,   0.,   0.,   0.,   0.,\n",
       "         0., 112., 224., 140.,   0.,   0.,   0.,   0.,   0.,  84., 224.,\n",
       "        98.,   0.,   0.,   0.,   0.,   0.,  14., 154., 126.,   0.,   0.,\n",
       "         0.,   0.,   0.,   0.,   0.,   0.,   0.,   0.,   0.,   0.,   0.,\n",
       "         0.,   0.,   0.,   0.,   0.,   0.,   0.,   0.,   0.,   0.,   0.,\n",
       "         0.,   0.,   0.,   0.,   0.,   0.,   0.,   0.,   0.,   0.,   0.,\n",
       "         0.,   0.,   0.,   0.,   0.,   0.,   0.,   0.,   0.,   0.,   0.,\n",
       "         0.,   0.,   0.,   0.,   0.,   0.,   0.,   0.,   0.,   0.,   0.,\n",
       "         0.,   0.,   0.,   0.,   0.,   0.,   0.,   0.,   0.,   0.,   0.,\n",
       "         0.,   0.,   0.,   0.,   0.,   0.,   0.,   0.,   0.,   0.,   0.,\n",
       "         0.,   0.,   0.,   0.,   0.,   0.,   0.,   0.,   0.,   0.,   0.,\n",
       "         0.,   0.,   0.,   0.,   0.,   0.,   0.,   0.,   0.,   0.,   0.,\n",
       "         0.,   0.,   0.,   0.,   0.,   0.,   0.,   0.,   0.,   0.,   0.,\n",
       "         0.,   0.,   0.,   0.,   0.,   0.,   0.,   0.,   0.,   0.,   0.,\n",
       "         0.,   0.,   0.,   0.,   0.,   0.,   0.,   0.,   0.,   0.,   0.,\n",
       "         0.,   0.,   0.,   0.,   0.,   0.,   0.,   0.,   0.,   0.,   0.,\n",
       "         0.,   0.,   0.,   0.,   0.,   0.,   0.,   0.,   0.,   0.,   0.,\n",
       "         0.,   0.,   0.,   0.,   0.,   0.,   0.,   0.,   0.,   0.,   0.,\n",
       "         0.,   0.,   0.,   0.,   0.,   0.,   0.,   0.,   0.,   0.,   0.,\n",
       "         0.,   0.,   0.,   0.,   0.,   0.,   0.,   0.,   0.,   0.,   0.,\n",
       "         0.,   0.,   0.,   0.,   0.,   0.,   0.,   0.,   0.,   0.,   0.,\n",
       "         0.,   0.,   0.,   0.,   0.,   0.,   0.,   0.,   0.,   0.,   0.,\n",
       "         0.,   0.,   0.,   0.,   0.,   0.,   0.,   0.,   0.,   0.,   0.,\n",
       "         0.,   0.,   0.,   0.,   0.,   0.,   0.,   0.,   0.,   0.,   0.,\n",
       "         0.,   0.,   0.,   0.,   0.,   0.,   0.,   0.,   0.,   0.,   0.,\n",
       "         0.,   0.,   0.,   0.,   0.,   0.,   0.,   0.,   0.,   0.,   0.,\n",
       "         0.,   0.,   0.,   0.,   0.,   0.,   0.,   0.,   0.,   0.,   0.,\n",
       "         0.,   0.,   0.,   0.,   0.,   0.,   0.,   0.,   0.,   0.,   0.,\n",
       "         0.,   0.,   0.,   0.,   0.,   0.,   0.,   0.,   0.,   0.,   0.,\n",
       "         0.,   0.,   0.,   0.,   0.,   0.,   0.,   0.,   0.,   0.,   0.,\n",
       "         0.,   0.,   0.,   0.,   0.,   0.,   0.,   0.,   0.,   0.,   0.,\n",
       "         0.,   0.,   0.,   0.,   0.,   0.,   0.,   0.,   0.,   0.,   0.,\n",
       "         0.,   0.,   0.,   0.,   0.,   0.,   0.,   0.,   0.,   0.,   0.,\n",
       "         0.,   0.,   0.,   0.,   0.,   0.,   0.,   0.,   0.,   0., 169.,\n",
       "       208.,  39.,   0.,   0.,   0.,   0.,  26., 208., 195.,  39.,   0.,\n",
       "         0.,   0.,   0.,  52., 208., 182.,   0.,   0.,   0.,   0.,   0.,\n",
       "        39., 208., 143.,   0.,   0.,   0.,   0.,   0., 104., 208., 130.,\n",
       "         0.,   0.,   0.,   0.,   0.,  78., 208.,  91.,   0.,   0.,   0.,\n",
       "         0.,   0.,  13., 143., 117.,   0.,   0.,   0., 256.,  48.,   0.,\n",
       "         0.,   0.,   0.,  32., 256., 240.,  48.,   0.,   0.,   0.,   0.,\n",
       "        64., 256., 224.,   0.,   0.,   0.,   0.,   0.,  48., 256., 176.,\n",
       "         0.,   0.,   0.,   0.,   0., 128., 256., 160.,   0.,   0.,   0.,\n",
       "         0.,   0.,  96., 256., 112.,   0.,   0.,   0.,   0.,   0.,  16.,\n",
       "       176., 144.,   0.,   0.,   0.,   9.,   0.,   0.,   0.,   0.,   6.,\n",
       "        48.,  45.,   9.,   0.,   0.,   0.,   0.,  12.,  48.,  42.,   0.,\n",
       "         0.,   0.,   0.,   0.,   9.,  48.,  33.,   0.,   0.,   0.,   0.,\n",
       "         0.,  24.,  48.,  30.,   0.,   0.,   0.,   0.,   0.,  18.,  48.,\n",
       "        21.,   0.,   0.,   0.,   0.,   0.,   3.,  33.,  27.,   0.,   0.,\n",
       "         0.,   0.,   0.,   0.,   0.,   0.,   0.,   0.,   0.,   0.,   0.,\n",
       "         0.,   0.,   0.,   0.,   0.,   0.,   0.,   0.,   0.,   0.,   0.,\n",
       "         0.,   0.,   0.,   0.,   0.,   0.,   0.,   0.,   0.,   0.,   0.,\n",
       "         0.,   0.,   0.,   0.,   0.,   0.,   0.,   0.,   0.,   0.,   0.,\n",
       "         0.,   0.,   0.,   0.,   0.,   0.,   0.,   0.,   0.,   0.,   0.,\n",
       "         0.,   0.,   0.,   0.,   0.,   0.,   0.,   0.,   0.,   0.,   0.,\n",
       "         0.,   0.,   0.,   0.,   0.,   0.,   0.,   0.,   0.,   0.,   0.,\n",
       "         0.,   0.,   0.,   0.,   0.,   0.,   0.,   0.,   0.,   0.,   0.,\n",
       "         0.,   0.,   0.,   0.,   0.,   0.,   0.,   0.,   0.,   0.,   0.,\n",
       "         0.,   0.,   0.,   0.,   0.,   0.,   0.,   0.,   0.,   0.,   0.,\n",
       "         0.,   0.,   0.,   0.,   0.,   0.,   0.,   0.,   0.,   0.,   0.,\n",
       "         0.,   0.,   0.,   0.,   0.,   0.,   0.,   0.,   0.,   0.,   0.,\n",
       "         0.,   0.,   0.,   0.,   0.,   0.,   0.,   0.,   0.,   0.,   0.,\n",
       "         0.,   0.,   0.,   0.,   0.,   0.,   0.,   0.,   0.,   0.,   0.,\n",
       "         0.,   0.,   0.,   0.,   0.,   0.,   0.,   0.,   0.,   0.,   0.,\n",
       "         0.,   0.,   0.,   0.,   0.,   0.,   0.,   0.,   0.,   0.,   0.,\n",
       "         0.,   0.,   0.,   0.,   0.,   0.,   0.,   0.,   0.,   0.,   0.,\n",
       "         0.,   0.,   0.,   0.,   0.,   0.,   0.,   0.,   4.,  32.,  30.,\n",
       "         6.,   0.,   0.,   0.,   0.,   8.,  32.,  28.,   0.,   0.,   0.,\n",
       "         0.,   0.,   6.,  32.,  22.,   0.,   0.,   0.,   0.,   0.,  16.,\n",
       "        32.,  20.,   0.,   0.,   0.,   0.,   0.,  12.,  32.,  14.,   0.,\n",
       "         0.,   0.,   0.,   0.,   2.,  22.,  18.,   0.,   0.,   0., 256.,\n",
       "       240.,  48.,   0.,   0.,   0.,   0.,  64., 256., 224.,   0.,   0.,\n",
       "         0.,   0.,   0.,  48., 256., 176.,   0.,   0.,   0.,   0.,   0.,\n",
       "       128., 256., 160.,   0.,   0.,   0.,   0.,   0.,  96., 256., 112.,\n",
       "         0.,   0.,   0.,   0.,   0.,  16., 176., 144.,   0.,   0.,   0.,\n",
       "       225.,  45.,   0.,   0.,   0.,   0.,  60., 240., 210.,   0.,   0.,\n",
       "         0.,   0.,   0.,  45., 240., 165.,   0.,   0.,   0.,   0.,   0.,\n",
       "       120., 240., 150.,   0.,   0.,   0.,   0.,   0.,  90., 240., 105.,\n",
       "         0.,   0.,   0.,   0.,   0.,  15., 165., 135.,   0.,   0.,   0.,\n",
       "         9.,   0.,   0.,   0.,   0.,  12.,  48.,  42.,   0.,   0.,   0.,\n",
       "         0.,   0.,   9.,  48.,  33.,   0.,   0.,   0.,   0.,   0.,  24.,\n",
       "        48.,  30.,   0.,   0.,   0.,   0.,   0.,  18.,  48.,  21.,   0.,\n",
       "         0.,   0.,   0.,   0.,   3.,  33.,  27.,   0.,   0.,   0.,   0.,\n",
       "         0.,   0.,   0.,   0.,   0.,   0.,   0.,   0.,   0.,   0.,   0.,\n",
       "         0.,   0.,   0.,   0.,   0.,   0.,   0.,   0.,   0.,   0.,   0.,\n",
       "         0.,   0.,   0.,   0.,   0.,   0.,   0.,   0.,   0.,   0.,   0.,\n",
       "         0.,   0.,   0.,   0.,   0.,   0.,   0.,   0.,   0.,   0.,   0.,\n",
       "         0.,   0.,   0.,   0.,   0.,   0.,   0.,   0.,   0.,   0.,   0.,\n",
       "         0.,   0.,   0.,   0.,   0.,   0.,   0.,   0.,   0.,   0.,   0.,\n",
       "         0.,   0.,   0.,   0.,   0.,   0.,   0.,   0.,   0.,   0.,   0.,\n",
       "         0.,   0.,   0.,   0.,   0.,   0.,   0.,   0.,   0.,   0.,   0.,\n",
       "         0.,   0.,   0.,   0.,   0.,   0.,   0.,   0.,   0.,   0.,   0.,\n",
       "         0.,   0.,   0.,   0.,   0.,   0.,   0.,   0.,   0.,   0.,   0.,\n",
       "         0.,   0.,   0.,   0.,   0.,   0.,   0.,   0.,   0.,   0.,   0.,\n",
       "         0.,   0.,   0.,   0.,   0.,   0.,   0.,   0.,   0.,   0.,   0.,\n",
       "         0.,   0.,   0.,   0.,   0.,   0.,   0.,   0.,   0.,   0.,   0.,\n",
       "         0.,   0.,   0.,   0.,   0.,   0.,   0.,   0.,   0.,   0.,   0.,\n",
       "         0.,   0.,   0.,   0.,   0.,   0.,   0.,  16.,  64.,  56.,   0.,\n",
       "         0.,   0.,   0.,   0.,  12.,  64.,  44.,   0.,   0.,   0.,   0.,\n",
       "         0.,  32.,  64.,  40.,   0.,   0.,   0.,   0.,   0.,  24.,  64.,\n",
       "        28.,   0.,   0.,   0.,   0.,   0.,   4.,  44.,  36.,   0.,   0.,\n",
       "         0., 256., 224.,   0.,   0.,   0.,   0.,   0.,  48., 256., 176.,\n",
       "         0.,   0.,   0.,   0.,   0., 128., 256., 160.,   0.,   0.,   0.,\n",
       "         0.,   0.,  96., 256., 112.,   0.,   0.,   0.,   0.,   0.,  16.,\n",
       "       176., 144.,   0.,   0.,   0., 196.,   0.,   0.,   0.,   0.,   0.,\n",
       "        42., 224., 154.,   0.,   0.,   0.,   0.,   0., 112., 224., 140.,\n",
       "         0.,   0.,   0.,   0.,   0.,  84., 224.,  98.,   0.,   0.,   0.,\n",
       "         0.,   0.,  14., 154., 126.,   0.,   0.,   0.,   0.,   0.,   0.,\n",
       "         0.,   0.,   0.,   0.,   0.,   0.,   0.,   0.,   0.,   0.,   0.,\n",
       "         0.,   0.,   0.,   0.,   0.,   0.,   0.,   0.,   0.,   0.,   0.,\n",
       "         0.,   0.,   0.,   0.,   0.,   0.,   0.,   0.,   0.,   0.,   0.,\n",
       "         0.,   0.,   0.,   0.,   0.,   0.,   0.,   0.,   0.,   0.,   0.,\n",
       "         0.,   0.,   0.,   0.,   0.,   0.,   0.,   0.,   0.,   0.,   0.,\n",
       "         0.,   0.,   0.,   0.,   0.,   0.,   0.,   0.,   0.,   0.,   0.,\n",
       "         0.,   0.,   0.,   0.,   0.,   0.,   0.,   0.,   0.,   0.,   0.,\n",
       "         0.,   0.,   0.,   0.,   0.,   0.,   0.,   0.,   0.,   0.,   0.,\n",
       "         0.,   0.,   0.,   0.,   0.,   0.,   0.,   0.,   0.,   0.,   0.,\n",
       "         0.,   0.,   0.,   0.,   0.,   0.,   0.,   0.,   0.,   0.,   0.,\n",
       "         0.,   0.,   0.,   0.,   0.,   0.,   0.,   0.,   0.,   0.,   0.,\n",
       "         0.,   0.,   0.,   0.,   0.,   0.,   0.,   0.,   0.,   0.,   0.,\n",
       "         0.,   0.,   0.,   0.,   0.,   0.,   0.,   0.,   0.,   0.,   0.,\n",
       "         0.,   0.,   0.,   0.,   0.,   0.,   0.,   0.,   0.,   0.,   0.,\n",
       "         0.,   0.,   0.,   0.,   0.,   0.,   0.,   0.,   9.,  48.,  33.,\n",
       "         0.,   0.,   0.,   0.,   0.,  24.,  48.,  30.,   0.,   0.,   0.,\n",
       "         0.,   0.,  18.,  48.,  21.,   0.,   0.,   0.,   0.,   0.,   3.,\n",
       "        33.,  27.,   0.,   0.,   0., 256., 176.,   0.,   0.,   0.,   0.,\n",
       "         0., 128., 256., 160.,   0.,   0.,   0.,   0.,   0.,  96., 256.,\n",
       "       112.,   0.,   0.,   0.,   0.,   0.,  16., 176., 144.,   0.,   0.,\n",
       "         0., 121.,   0.,   0.,   0.,   0.,   0.,  88., 176., 110.,   0.,\n",
       "         0.,   0.,   0.,   0.,  66., 176.,  77.,   0.,   0.,   0.,   0.,\n",
       "         0.,  11., 121.,  99.,   0.,   0.,   0.,   0.,   0.,   0.,   0.,\n",
       "         0.,   0.,   0.,   0.,   0.,   0.,   0.,   0.,   0.,   0.,   0.,\n",
       "         0.,   0.,   0.,   0.,   0.,   0.,   0.,   0.,   0.,   0.,   0.,\n",
       "         0.,   0.,   0.,   0.,   0.,   0.,   0.,   0.,   0.,   0.,   0.,\n",
       "         0.,   0.,   0.,   0.,   0.,   0.,   0.,   0.,   0.,   0.,   0.,\n",
       "         0.,   0.,   0.,   0.,   0.,   0.,   0.,   0.,   0.,   0.,   0.,\n",
       "         0.,   0.,   0.,   0.,   0.,   0.,   0.,   0.,   0.,   0.,   0.,\n",
       "         0.,   0.,   0.,   0.,   0.,   0.,   0.,   0.,   0.,   0.,   0.,\n",
       "         0.,   0.,   0.,   0.,   0.,   0.,   0.,   0.,   0.,   0.,   0.,\n",
       "         0.,   0.,   0.,   0.,   0.,   0.,   0.,   0.,   0.,   0.,   0.,\n",
       "         0.,   0.,   0.,   0.,   0.,   0.,   0.,   0.,   0.,   0.,   0.,\n",
       "         0.,   0.,   0.,   0.,   0.,   0.,   0.,   0.,   0.,   0.,   0.,\n",
       "        64., 128.,  80.,   0.,   0.,   0.,   0.,   0.,  48., 128.,  56.,\n",
       "         0.,   0.,   0.,   0.,   0.,   8.,  88.,  72.,   0.,   0.,   0.,\n",
       "       256., 160.,   0.,   0.,   0.,   0.,   0.,  96., 256., 112.,   0.,\n",
       "         0.,   0.,   0.,   0.,  16., 176., 144.,   0.,   0.,   0., 100.,\n",
       "         0.,   0.,   0.,   0.,   0.,  60., 160.,  70.,   0.,   0.,   0.,\n",
       "         0.,   0.,  10., 110.,  90.,   0.,   0.,   0.,   0.,   0.,   0.,\n",
       "         0.,   0.,   0.,   0.,   0.,   0.,   0.,   0.,   0.,   0.,   0.,\n",
       "         0.,   0.,   0.,   0.,   0.,   0.,   0.,   0.,   0.,   0.,   0.,\n",
       "         0.,   0.,   0.,   0.,   0.,   0.,   0.,   0.,   0.,   0.,   0.,\n",
       "         0.,   0.,   0.,   0.,   0.,   0.,   0.,   0.,   0.,   0.,   0.,\n",
       "         0.,   0.,   0.,   0.,   0.,   0.,   0.,   0.,   0.,   0.,   0.,\n",
       "         0.,   0.,   0.,   0.,   0.,   0.,   0.,   0.,   0.,   0.,   0.,\n",
       "         0.,   0.,   0.,   0.,   0.,   0.,   0.,   0.,   0.,   0.,   0.,\n",
       "         0.,   0.,   0.,   0.,   0.,  36.,  96.,  42.,   0.,   0.,   0.,\n",
       "         0.,   0.,   6.,  66.,  54.,   0.,   0.,   0., 256., 112.,   0.,\n",
       "         0.,   0.,   0.,   0.,  16., 176., 144.,   0.,   0.,   0.,  49.,\n",
       "         0.,   0.,   0.,   0.,   0.,   7.,  77.,  63.,   0.,   0.,   0.,\n",
       "         0.,   0.,   0.,   0.,   0.,   0.,   0.,   0.,   0.,   0.,   0.,\n",
       "         0.,   0.,   0.,   0.,   0.,   0.,   0.,   0.,   0.,   0.,   0.,\n",
       "         0.,   0.,   0.,   0.,   0.,   0.,   0.,   0.,   0.,   0.,   0.,\n",
       "         0.,   0.,   0.,   0.,   0.,   0.,   0.,   0.,   0.,   0.,   0.,\n",
       "         0.,   1.,  11.,   9.,   0.,   0.,   0., 121.,  99.,   0.,   0.,\n",
       "         0.,  81.,   0.,   0.,   0.,   0.,   0.,   0.,   0.,   0.,   0.])"
      ]
     },
     "execution_count": 45,
     "metadata": {},
     "output_type": "execute_result"
    }
   ],
   "source": [
    "pipe2.named_steps['polynomialfeatures'].transform(X_train)[1]"
   ]
  },
  {
   "cell_type": "markdown",
   "metadata": {},
   "source": [
    "We can check all the parameters of the pipeline using `get_params()`."
   ]
  },
  {
   "cell_type": "code",
   "execution_count": 46,
   "metadata": {},
   "outputs": [
    {
     "data": {
      "text/plain": [
       "{'memory': None,\n",
       " 'steps': [('minmaxscaler', MinMaxScaler(copy=True, feature_range=(0, 1))),\n",
       "  ('logisticregression',\n",
       "   LogisticRegression(C=1.0, class_weight=None, dual=False, fit_intercept=True,\n",
       "                      intercept_scaling=1, l1_ratio=None, max_iter=5000,\n",
       "                      multi_class='auto', n_jobs=None, penalty='l2',\n",
       "                      random_state=42, solver='lbfgs', tol=0.0001, verbose=0,\n",
       "                      warm_start=False))],\n",
       " 'verbose': False,\n",
       " 'minmaxscaler': MinMaxScaler(copy=True, feature_range=(0, 1)),\n",
       " 'logisticregression': LogisticRegression(C=1.0, class_weight=None, dual=False, fit_intercept=True,\n",
       "                    intercept_scaling=1, l1_ratio=None, max_iter=5000,\n",
       "                    multi_class='auto', n_jobs=None, penalty='l2',\n",
       "                    random_state=42, solver='lbfgs', tol=0.0001, verbose=0,\n",
       "                    warm_start=False),\n",
       " 'minmaxscaler__copy': True,\n",
       " 'minmaxscaler__feature_range': (0, 1),\n",
       " 'logisticregression__C': 1.0,\n",
       " 'logisticregression__class_weight': None,\n",
       " 'logisticregression__dual': False,\n",
       " 'logisticregression__fit_intercept': True,\n",
       " 'logisticregression__intercept_scaling': 1,\n",
       " 'logisticregression__l1_ratio': None,\n",
       " 'logisticregression__max_iter': 5000,\n",
       " 'logisticregression__multi_class': 'auto',\n",
       " 'logisticregression__n_jobs': None,\n",
       " 'logisticregression__penalty': 'l2',\n",
       " 'logisticregression__random_state': 42,\n",
       " 'logisticregression__solver': 'lbfgs',\n",
       " 'logisticregression__tol': 0.0001,\n",
       " 'logisticregression__verbose': 0,\n",
       " 'logisticregression__warm_start': False}"
      ]
     },
     "execution_count": 46,
     "metadata": {},
     "output_type": "execute_result"
    }
   ],
   "source": [
    "pipe.get_params()"
   ]
  },
  {
   "cell_type": "markdown",
   "metadata": {},
   "source": [
    "### 2.4 Exercise\n",
    "\n",
    "Reuse the breast dataset of the first exercise to train a `SGDClassifier` which you can import from `linear_model`. Make a pipeline with this classifier and a `StandardScaler` transformer imported from `sklearn.preprocessing`. Train and test this pipeline."
   ]
  },
  {
   "cell_type": "code",
   "execution_count": 47,
   "metadata": {},
   "outputs": [
    {
     "data": {
      "text/plain": [
       "(569, 30)"
      ]
     },
     "execution_count": 47,
     "metadata": {},
     "output_type": "execute_result"
    }
   ],
   "source": [
    "X_b.shape"
   ]
  },
  {
   "cell_type": "code",
   "execution_count": 48,
   "metadata": {},
   "outputs": [],
   "source": [
    "from sklearn.preprocessing import StandardScaler\n",
    "from sklearn.preprocessing import PolynomialFeatures\n",
    "from sklearn.linear_model import SGDClassifier"
   ]
  },
  {
   "cell_type": "code",
   "execution_count": 49,
   "metadata": {},
   "outputs": [],
   "source": [
    "pipe_b = make_pipeline( StandardScaler(), PolynomialFeatures(degree = 2), SGDClassifier())"
   ]
  },
  {
   "cell_type": "code",
   "execution_count": 50,
   "metadata": {},
   "outputs": [
    {
     "data": {
      "text/plain": [
       "((398, 30), (398,))"
      ]
     },
     "execution_count": 50,
     "metadata": {},
     "output_type": "execute_result"
    }
   ],
   "source": [
    "X_train_b.shape , y_train_b.shape"
   ]
  },
  {
   "cell_type": "code",
   "execution_count": 51,
   "metadata": {},
   "outputs": [
    {
     "data": {
      "text/plain": [
       "Pipeline(memory=None,\n",
       "         steps=[('standardscaler',\n",
       "                 StandardScaler(copy=True, with_mean=True, with_std=True)),\n",
       "                ('polynomialfeatures',\n",
       "                 PolynomialFeatures(degree=2, include_bias=True,\n",
       "                                    interaction_only=False, order='C')),\n",
       "                ('sgdclassifier',\n",
       "                 SGDClassifier(alpha=0.0001, average=False, class_weight=None,\n",
       "                               early_stopping=False, epsilon=0.1, eta0=0.0,\n",
       "                               fit_intercept=True, l1_ratio=0.15,\n",
       "                               learning_rate='optimal', loss='hinge',\n",
       "                               max_iter=1000, n_iter_no_change=5, n_jobs=None,\n",
       "                               penalty='l2', power_t=0.5, random_state=None,\n",
       "                               shuffle=True, tol=0.001, validation_fraction=0.1,\n",
       "                               verbose=0, warm_start=False))],\n",
       "         verbose=False)"
      ]
     },
     "execution_count": 51,
     "metadata": {},
     "output_type": "execute_result"
    }
   ],
   "source": [
    "pipe_b.fit(X_train_b, y_train_b)"
   ]
  },
  {
   "cell_type": "code",
   "execution_count": 52,
   "metadata": {},
   "outputs": [],
   "source": [
    "y_pred_b = pipe_b.predict(X_test_b)\n",
    "y_pred_proba_b = pipe_b.decision_function(X_test_b)"
   ]
  },
  {
   "cell_type": "code",
   "execution_count": 53,
   "metadata": {
    "scrolled": true
   },
   "outputs": [
    {
     "name": "stdout",
     "output_type": "stream",
     "text": [
      "The balanced accuracy score is      0.928\n",
      "The mean accuracy accuracy score is 0.930\n"
     ]
    }
   ],
   "source": [
    "print(f\"The balanced accuracy score is      {balanced_accuracy_score(y_test_b, y_pred_b):0.3f}\")\n",
    "print(f\"The mean accuracy accuracy score is {pipe_b.score(X_test_b, y_test_b):0.3f}\")"
   ]
  },
  {
   "cell_type": "code",
   "execution_count": 54,
   "metadata": {},
   "outputs": [
    {
     "data": {
      "text/plain": [
       "Pipeline(memory=None,\n",
       "         steps=[('standardscaler',\n",
       "                 StandardScaler(copy=True, with_mean=True, with_std=True)),\n",
       "                ('svc',\n",
       "                 SVC(C=1.0, break_ties=False, cache_size=200, class_weight=None,\n",
       "                     coef0=0.0, decision_function_shape='ovr', degree=3,\n",
       "                     gamma='scale', kernel='rbf', max_iter=-1, probability=True,\n",
       "                     random_state=None, shrinking=True, tol=0.001,\n",
       "                     verbose=False))],\n",
       "         verbose=False)"
      ]
     },
     "execution_count": 54,
     "metadata": {},
     "output_type": "execute_result"
    }
   ],
   "source": [
    "from sklearn.svm import SVC\n",
    "\n",
    "pipe_b2 = make_pipeline(StandardScaler(), SVC(probability = True) )\n",
    "pipe_b2.fit(X_train_b, y_train_b)"
   ]
  },
  {
   "cell_type": "code",
   "execution_count": 55,
   "metadata": {},
   "outputs": [
    {
     "name": "stdout",
     "output_type": "stream",
     "text": [
      "The balanced accuracy score is 0.950\n",
      "The mean accuracy score is     0.930\n",
      "The AUC score is               0.993\n"
     ]
    }
   ],
   "source": [
    "y_pred_proba_b2 = pipe_b2.predict_proba(X_test_b)[:,1]\n",
    "y_pred_b2= pipe_b2.predict(X_test_b)\n",
    "\n",
    "print(f\"The balanced accuracy score is {balanced_accuracy_score(y_test_b, y_pred_b2):0.3f}\")\n",
    "print(f\"The mean accuracy score is     {pipe_b.score(X_test_b, y_test_b):0.3f}\")\n",
    "print(f\"The AUC score is               {roc_auc_score(y_test_b, y_pred_proba_b2):0.3f}\")"
   ]
  },
  {
   "cell_type": "markdown",
   "metadata": {},
   "source": [
    "## 2.5 Interactions and polynomials"
   ]
  },
  {
   "cell_type": "code",
   "execution_count": 56,
   "metadata": {},
   "outputs": [],
   "source": [
    "from sklearn.datasets import load_boston\n",
    "\n",
    "boston = load_boston()\n",
    "X_train2, X_test2, y_train2, y_test2 = train_test_split(boston.data, boston.target, random_state = 0)\n"
   ]
  },
  {
   "cell_type": "code",
   "execution_count": 57,
   "metadata": {},
   "outputs": [
    {
     "data": {
      "text/plain": [
       "array([18.5, 19.6, 33.2, 13.1,  7.5, 13.6, 17.4,  8.4, 35.4, 24. ])"
      ]
     },
     "execution_count": 57,
     "metadata": {},
     "output_type": "execute_result"
    }
   ],
   "source": [
    "y_train2[:10]"
   ]
  },
  {
   "cell_type": "markdown",
   "metadata": {},
   "source": [
    "### This is a Regression problem"
   ]
  },
  {
   "cell_type": "markdown",
   "metadata": {},
   "source": [
    "### Scale the data before adding polynomial features"
   ]
  },
  {
   "cell_type": "code",
   "execution_count": 58,
   "metadata": {},
   "outputs": [],
   "source": [
    "scaler = MinMaxScaler()\n",
    "X_train2_Scaled = scaler.fit_transform(X_train2)\n",
    "X_test2_Scaled = scaler.transform(X_test2)"
   ]
  },
  {
   "cell_type": "markdown",
   "metadata": {},
   "source": [
    "### Adding polynomial features"
   ]
  },
  {
   "cell_type": "code",
   "execution_count": 59,
   "metadata": {},
   "outputs": [
    {
     "name": "stdout",
     "output_type": "stream",
     "text": [
      " X_train: (379, 13)\n",
      " X_test.shape: (379, 105)\n"
     ]
    }
   ],
   "source": [
    "poly = PolynomialFeatures(degree = 2)\n",
    "X_train2_poly = poly.fit_transform(X_train2_Scaled)\n",
    "X_test2_poly = poly.transform(X_test2_Scaled)\n",
    "print(f\" X_train: {X_train2.shape}\")\n",
    "print(f\" X_test.shape: {X_train2_poly.shape}\")"
   ]
  },
  {
   "cell_type": "code",
   "execution_count": 60,
   "metadata": {},
   "outputs": [
    {
     "name": "stdout",
     "output_type": "stream",
     "text": [
      "Polynomial feature names:\n",
      "['1', 'x0', 'x1', 'x2', 'x3', 'x4', 'x5', 'x6', 'x7', 'x8', 'x9', 'x10', 'x11', 'x12', 'x0^2', 'x0 x1', 'x0 x2', 'x0 x3', 'x0 x4', 'x0 x5', 'x0 x6', 'x0 x7', 'x0 x8', 'x0 x9', 'x0 x10', 'x0 x11', 'x0 x12', 'x1^2', 'x1 x2', 'x1 x3', 'x1 x4', 'x1 x5', 'x1 x6', 'x1 x7', 'x1 x8', 'x1 x9', 'x1 x10', 'x1 x11', 'x1 x12', 'x2^2', 'x2 x3', 'x2 x4', 'x2 x5', 'x2 x6', 'x2 x7', 'x2 x8', 'x2 x9', 'x2 x10', 'x2 x11', 'x2 x12', 'x3^2', 'x3 x4', 'x3 x5', 'x3 x6', 'x3 x7', 'x3 x8', 'x3 x9', 'x3 x10', 'x3 x11', 'x3 x12', 'x4^2', 'x4 x5', 'x4 x6', 'x4 x7', 'x4 x8', 'x4 x9', 'x4 x10', 'x4 x11', 'x4 x12', 'x5^2', 'x5 x6', 'x5 x7', 'x5 x8', 'x5 x9', 'x5 x10', 'x5 x11', 'x5 x12', 'x6^2', 'x6 x7', 'x6 x8', 'x6 x9', 'x6 x10', 'x6 x11', 'x6 x12', 'x7^2', 'x7 x8', 'x7 x9', 'x7 x10', 'x7 x11', 'x7 x12', 'x8^2', 'x8 x9', 'x8 x10', 'x8 x11', 'x8 x12', 'x9^2', 'x9 x10', 'x9 x11', 'x9 x12', 'x10^2', 'x10 x11', 'x10 x12', 'x11^2', 'x11 x12', 'x12^2']\n"
     ]
    }
   ],
   "source": [
    "print(\"Polynomial feature names:\\n{}\".format(poly.get_feature_names()))"
   ]
  },
  {
   "cell_type": "code",
   "execution_count": 61,
   "metadata": {},
   "outputs": [
    {
     "name": "stdout",
     "output_type": "stream",
     "text": [
      " Score after scaling:  0.621\n",
      " Score after scaling and adding polynomail features:  0.753\n"
     ]
    }
   ],
   "source": [
    "from sklearn.linear_model import Ridge\n",
    "\n",
    "ridge = Ridge().fit(X_train2_Scaled, y_train2)\n",
    "print(f\" Score after scaling: {ridge.score(X_test2_Scaled, y_test2) : 0.3f}\")\n",
    "\n",
    "ridge = Ridge().fit(X_train2_poly, y_train2)\n",
    "print(f\" Score after scaling and adding polynomail features: {ridge.score(X_test2_poly, y_test2): 0.3f}\")"
   ]
  },
  {
   "cell_type": "code",
   "execution_count": 62,
   "metadata": {},
   "outputs": [
    {
     "name": "stdout",
     "output_type": "stream",
     "text": [
      "  Score after scaling:  0.805\n",
      " Score after scaling and adding polynomail features:  0.789\n"
     ]
    }
   ],
   "source": [
    "from sklearn.ensemble import RandomForestRegressor\n",
    "rf = RandomForestRegressor(n_estimators=100).fit(X_train2_Scaled, y_train2)\n",
    "\n",
    "print(f\"  Score after scaling: {rf.score(X_test2_Scaled, y_test2) : 0.3f}\")\n",
    "\n",
    "rf = RandomForestRegressor(n_estimators=100).fit(X_train2_poly, y_train2)\n",
    "\n",
    "print(f\" Score after scaling and adding polynomail features: {rf.score(X_test2_poly, y_test2): 0.3f}\")"
   ]
  },
  {
   "cell_type": "markdown",
   "metadata": {},
   "source": [
    "## 3. When more is better than less: cross-validation instead of single split"
   ]
  },
  {
   "cell_type": "markdown",
   "metadata": {},
   "source": [
    "Splitting the data is necessary to evaluate the statistical model performance. However, it reduces the number of samples which can be used to learn the model. Therefore, one should use cross-validation whenever possible. Having multiple splits will give information about the model stability as well. "
   ]
  },
  {
   "cell_type": "markdown",
   "metadata": {},
   "source": [
    "### 3.1. How to split"
   ]
  },
  {
   "cell_type": "code",
   "execution_count": 63,
   "metadata": {},
   "outputs": [
    {
     "data": {
      "image/png": "[encoded data removed]",
      "text/plain": [
       "<Figure size 864x360 with 2 Axes>"
      ]
     },
     "metadata": {},
     "output_type": "display_data"
    }
   ],
   "source": [
    "mglearn.plots.plot_stratified_cross_validation()"
   ]
  },
  {
   "cell_type": "code",
   "execution_count": 64,
   "metadata": {},
   "outputs": [
    {
     "name": "stdout",
     "output_type": "stream",
     "text": [
      "Iris labels:\n",
      "[0 0 0 0 0 0 0 0 0 0 0 0 0 0 0 0 0 0 0 0 0 0 0 0 0 0 0 0 0 0 0 0 0 0 0 0 0\n",
      " 0 0 0 0 0 0 0 0 0 0 0 0 0 1 1 1 1 1 1 1 1 1 1 1 1 1 1 1 1 1 1 1 1 1 1 1 1\n",
      " 1 1 1 1 1 1 1 1 1 1 1 1 1 1 1 1 1 1 1 1 1 1 1 1 1 1 2 2 2 2 2 2 2 2 2 2 2\n",
      " 2 2 2 2 2 2 2 2 2 2 2 2 2 2 2 2 2 2 2 2 2 2 2 2 2 2 2 2 2 2 2 2 2 2 2 2 2\n",
      " 2 2]\n"
     ]
    }
   ],
   "source": [
    "from sklearn.datasets import load_iris\n",
    "iris = load_iris()\n",
    "print(\"Iris labels:\\n{}\".format(iris.target))"
   ]
  },
  {
   "cell_type": "markdown",
   "metadata": {},
   "source": [
    "### It's a multiclass classification problem (with 3 classes)"
   ]
  },
  {
   "cell_type": "code",
   "execution_count": 65,
   "metadata": {},
   "outputs": [
    {
     "name": "stdout",
     "output_type": "stream",
     "text": [
      "cross val score: [0. 0. 0.]\n"
     ]
    }
   ],
   "source": [
    "from sklearn.model_selection import cross_val_score\n",
    "from sklearn.model_selection import KFold\n",
    "\n",
    "kfold = KFold(n_splits = 3)\n",
    "logreg = LogisticRegression(max_iter = 5000)\n",
    "scores  = cross_val_score(logreg, iris.data, iris.target, cv=kfold)\n",
    "print( f'cross val score: {scores}' )"
   ]
  },
  {
   "cell_type": "markdown",
   "metadata": {},
   "source": [
    "### The above kfold doesn't shuffle or stritify data so all the folds include only one class of data"
   ]
  },
  {
   "cell_type": "code",
   "execution_count": 66,
   "metadata": {},
   "outputs": [
    {
     "name": "stdout",
     "output_type": "stream",
     "text": [
      "cross val score: [1.    1.    0.867 0.933 0.833]\n"
     ]
    }
   ],
   "source": [
    "kfold = KFold(n_splits = 5)\n",
    "logreg = LogisticRegression(max_iter = 5000, multi_class= 'auto')\n",
    "scores  = cross_val_score(logreg, iris.data, iris.target, cv=kfold)\n",
    "print( f'cross val score: {np.round(scores, 3)}' )"
   ]
  },
  {
   "cell_type": "markdown",
   "metadata": {},
   "source": [
    "### In the next cell we change the metrics for scoring and set it to `scoring='roc_auc_ovr'` to find  `auc` of a multiclass classification"
   ]
  },
  {
   "cell_type": "code",
   "execution_count": 67,
   "metadata": {},
   "outputs": [
    {
     "data": {
      "text/plain": [
       "array([0.993, 1.   , 0.997, 0.993, 1.   ])"
      ]
     },
     "execution_count": 67,
     "metadata": {},
     "output_type": "execute_result"
    }
   ],
   "source": [
    "scores = cross_val_score(logreg, iris.data, iris.target, cv=5, scoring='roc_auc_ovr')\n",
    "np.round(scores, 3)"
   ]
  },
  {
   "cell_type": "markdown",
   "metadata": {},
   "source": [
    "### shuffle:\n",
    "\n",
    "- is pure random and doesn't sustain the distribution inside each class"
   ]
  },
  {
   "cell_type": "code",
   "execution_count": 68,
   "metadata": {},
   "outputs": [
    {
     "name": "stdout",
     "output_type": "stream",
     "text": [
      "cross val score: [0.98 0.96 0.96]\n"
     ]
    }
   ],
   "source": [
    "kfold = KFold(n_splits = 3, shuffle = True , random_state=0)\n",
    "\n",
    "print(f'cross val score: {cross_val_score(logreg, iris.data, iris.target, cv=kfold)}')"
   ]
  },
  {
   "cell_type": "markdown",
   "metadata": {},
   "source": [
    "## cv:\n",
    "- specifties number of folds and automatically stratifies the data\n",
    "\n",
    "- The best one"
   ]
  },
  {
   "cell_type": "code",
   "execution_count": 69,
   "metadata": {},
   "outputs": [
    {
     "name": "stdout",
     "output_type": "stream",
     "text": [
      "cross val score: [0.98 0.96 0.98] \n"
     ]
    }
   ],
   "source": [
    "print(f'cross val score: {cross_val_score(logreg, iris.data, iris.target, cv = 3)} ' )"
   ]
  },
  {
   "cell_type": "markdown",
   "metadata": {},
   "source": [
    "### StratifiedKFold\n",
    "\n",
    "- The folds are made by preserving the percentage of samples for each class."
   ]
  },
  {
   "cell_type": "code",
   "execution_count": 70,
   "metadata": {},
   "outputs": [
    {
     "name": "stdout",
     "output_type": "stream",
     "text": [
      "cross val score: [0.998 0.996 0.998]\n"
     ]
    }
   ],
   "source": [
    "from sklearn.model_selection import StratifiedKFold\n",
    "from sklearn.model_selection import KFold\n",
    "kfold = StratifiedKFold(n_splits = 3)\n",
    "sc  = cross_val_score(logreg, iris.data, iris.target, cv=kfold, scoring='roc_auc_ovr')\n",
    "print(f'cross val score: {np.round(sc, 3)}')"
   ]
  },
  {
   "cell_type": "markdown",
   "metadata": {},
   "source": [
    "### Leave-one-out cross-validation:\n",
    "\n",
    "- Special case of Kfolds where in each iteration only one sample is used as test and all other samples used as train\n",
    "\n",
    "- K here is equals the number of samples"
   ]
  },
  {
   "cell_type": "code",
   "execution_count": 71,
   "metadata": {},
   "outputs": [
    {
     "name": "stdout",
     "output_type": "stream",
     "text": [
      "cross val score: [1. 1. 1. 1. 1. 1. 1. 1. 1. 1. 1. 1. 1. 1. 1. 1. 1. 1. 1. 1. 1. 1. 1. 1.\n",
      " 1. 1. 1. 1. 1. 1. 1. 1. 1. 1. 1. 1. 1. 1. 1. 1. 1. 1. 1. 1. 1. 1. 1. 1.\n",
      " 1. 1. 1. 1. 1. 1. 1. 1. 1. 1. 1. 1. 1. 1. 1. 1. 1. 1. 1. 1. 1. 1. 0. 1.\n",
      " 1. 1. 1. 1. 1. 0. 1. 1. 1. 1. 1. 0. 1. 1. 1. 1. 1. 1. 1. 1. 1. 1. 1. 1.\n",
      " 1. 1. 1. 1. 1. 1. 1. 1. 1. 1. 0. 1. 1. 1. 1. 1. 1. 1. 1. 1. 1. 1. 1. 0.\n",
      " 1. 1. 1. 1. 1. 1. 1. 1. 1. 1. 1. 1. 1. 1. 1. 1. 1. 1. 1. 1. 1. 1. 1. 1.\n",
      " 1. 1. 1. 1. 1. 1.]\n",
      "mean accuracy:  0.97\n",
      "number of iteration: 150\n",
      "Wall time: 4.13 s\n"
     ]
    }
   ],
   "source": [
    "%%time\n",
    "from sklearn.model_selection import LeaveOneOut\n",
    "\n",
    "loo = LeaveOneOut()#Instead of Kfold\n",
    "\n",
    "logreg = LogisticRegression(max_iter = 10000)\n",
    "scores = cross_val_score(logreg, iris.data, iris.target, cv=loo)\n",
    "print(f'cross val score: {scores}')\n",
    "print(f'mean accuracy: {scores.mean() : 0.2f}')\n",
    "print(f'number of iteration: {len(scores)}')"
   ]
  },
  {
   "cell_type": "markdown",
   "metadata": {},
   "source": [
    "#### Shuffle-split cross-validation:\n",
    "\n",
    "- In each iteration we choose only a sample of data as train and test\n",
    "\n",
    "- Only use when data is too large and you have limited time"
   ]
  },
  {
   "cell_type": "code",
   "execution_count": 72,
   "metadata": {
    "hide_input": false,
    "scrolled": true
   },
   "outputs": [
    {
     "data": {
      "image/png": "[encoded data removed]",
      "text/plain": [
       "<Figure size 720x144 with 1 Axes>"
      ]
     },
     "metadata": {},
     "output_type": "display_data"
    }
   ],
   "source": [
    "mglearn.plots.plot_shuffle_split()"
   ]
  },
  {
   "cell_type": "code",
   "execution_count": 73,
   "metadata": {},
   "outputs": [
    {
     "name": "stdout",
     "output_type": "stream",
     "text": [
      "cross val score: [0.96  0.853 0.933 0.96  0.973 0.947 0.947 0.947 0.96  0.973]\n",
      "mean accuracy:  0.95\n"
     ]
    }
   ],
   "source": [
    "from sklearn.model_selection import ShuffleSplit\n",
    "\n",
    "shuffle_split = ShuffleSplit(n_splits= 10, test_size= 0.5, train_size = 0.5)#Instead of KFold\n",
    "\n",
    "scores = cross_val_score(logreg, iris.data, iris.target, cv = shuffle_split)\n",
    "print(f'cross val score: {np.round(scores, 3)}')\n",
    "print(f'mean accuracy: {scores.mean() : 0.2f}')"
   ]
  },
  {
   "cell_type": "markdown",
   "metadata": {},
   "source": [
    "### Cross-validation with groups:\n",
    "\n",
    "- Groups here refers to X\n",
    "\n",
    "- In each iteration, one group is in test and others in train\n",
    "\n",
    "- The same group will not appear in two different folds \n",
    "\n",
    "- The number of distinct groups has to be at least equal to the number of folds\n",
    "\n",
    "- read more here: http://yaoyao.codes/sklearn/2018/01/25/scikit-learn-a-walk-through-of-groupkfoldsplit"
   ]
  },
  {
   "cell_type": "code",
   "execution_count": 74,
   "metadata": {
    "hide_input": false,
    "scrolled": false
   },
   "outputs": [
    {
     "data": {
      "image/png": "[encoded data removed]",
      "text/plain": [
       "<Figure size 720x144 with 1 Axes>"
      ]
     },
     "metadata": {},
     "output_type": "display_data"
    }
   ],
   "source": [
    "mglearn.plots.plot_group_kfold()"
   ]
  },
  {
   "cell_type": "code",
   "execution_count": 75,
   "metadata": {},
   "outputs": [
    {
     "name": "stdout",
     "output_type": "stream",
     "text": [
      "cross val score: [0.75       0.6        0.66666667]\n"
     ]
    }
   ],
   "source": [
    "from sklearn.datasets import make_blobs\n",
    "from sklearn.model_selection import GroupKFold\n",
    "x3,y3 = make_blobs( n_samples=12, random_state=0)\n",
    "groups = [0,0,0,1,1,1,1,2,2,3,3,3]\n",
    "scores = cross_val_score(logreg, x3, y3, groups,  cv=GroupKFold(n_splits= 3))\n",
    "print(f'cross val score: {scores}')"
   ]
  },
  {
   "cell_type": "markdown",
   "metadata": {},
   "source": [
    "### 3.2 Back to the example"
   ]
  },
  {
   "cell_type": "markdown",
   "metadata": {},
   "source": [
    "`scikit-learn` provides three functions: `cross_val_score`, `cross_val_predict`, and [`cross_validate`](https://scikit-learn.org/stable/modules/generated/sklearn.model_selection.cross_validate.html). The latter provides more information regarding fitting time, training and testing scores. It can also return multiple scores at once."
   ]
  },
  {
   "cell_type": "code",
   "execution_count": 76,
   "metadata": {},
   "outputs": [],
   "source": [
    "from sklearn.model_selection import cross_validate\n",
    "\n",
    "pipe = make_pipeline(MinMaxScaler(), LogisticRegression(solver='lbfgs', multi_class='auto', max_iter=1000, random_state=42))\n",
    "\n",
    "scores = cross_validate(pipe, X, y, cv=3, return_train_score=True)"
   ]
  },
  {
   "cell_type": "markdown",
   "metadata": {},
   "source": [
    "Using the cross-validate function, we can quickly check the training and testing scores and make a quick plot using `pandas`."
   ]
  },
  {
   "cell_type": "markdown",
   "metadata": {},
   "source": [
    "### Convert the result into a dataframe"
   ]
  },
  {
   "cell_type": "code",
   "execution_count": 77,
   "metadata": {},
   "outputs": [
    {
     "data": {
      "text/html": [
       "<div>\n",
       "<style scoped>\n",
       "    .dataframe tbody tr th:only-of-type {\n",
       "        vertical-align: middle;\n",
       "    }\n",
       "\n",
       "    .dataframe tbody tr th {\n",
       "        vertical-align: top;\n",
       "    }\n",
       "\n",
       "    .dataframe thead th {\n",
       "        text-align: right;\n",
       "    }\n",
       "</style>\n",
       "<table border=\"1\" class=\"dataframe\">\n",
       "  <thead>\n",
       "    <tr style=\"text-align: right;\">\n",
       "      <th></th>\n",
       "      <th>fit_time</th>\n",
       "      <th>score_time</th>\n",
       "      <th>test_score</th>\n",
       "      <th>train_score</th>\n",
       "    </tr>\n",
       "  </thead>\n",
       "  <tbody>\n",
       "    <tr>\n",
       "      <td>0</td>\n",
       "      <td>0.278262</td>\n",
       "      <td>0.000992</td>\n",
       "      <td>0.926544</td>\n",
       "      <td>0.988314</td>\n",
       "    </tr>\n",
       "    <tr>\n",
       "      <td>1</td>\n",
       "      <td>0.227392</td>\n",
       "      <td>0.000997</td>\n",
       "      <td>0.943239</td>\n",
       "      <td>0.984975</td>\n",
       "    </tr>\n",
       "    <tr>\n",
       "      <td>2</td>\n",
       "      <td>0.213434</td>\n",
       "      <td>0.000991</td>\n",
       "      <td>0.924875</td>\n",
       "      <td>0.993322</td>\n",
       "    </tr>\n",
       "  </tbody>\n",
       "</table>\n",
       "</div>"
      ],
      "text/plain": [
       "   fit_time  score_time  test_score  train_score\n",
       "0  0.278262    0.000992    0.926544     0.988314\n",
       "1  0.227392    0.000997    0.943239     0.984975\n",
       "2  0.213434    0.000991    0.924875     0.993322"
      ]
     },
     "execution_count": 77,
     "metadata": {},
     "output_type": "execute_result"
    }
   ],
   "source": [
    "import pandas as pd\n",
    "df_scores = pd.DataFrame(scores)\n",
    "df_scores"
   ]
  },
  {
   "cell_type": "code",
   "execution_count": 78,
   "metadata": {},
   "outputs": [
    {
     "data": {
      "text/plain": [
       "fit_time       0.239696\n",
       "score_time     0.000994\n",
       "test_score     0.931553\n",
       "train_score    0.988870\n",
       "dtype: float64"
      ]
     },
     "execution_count": 78,
     "metadata": {},
     "output_type": "execute_result"
    }
   ],
   "source": [
    "df_scores.mean()"
   ]
  },
  {
   "cell_type": "code",
   "execution_count": 79,
   "metadata": {},
   "outputs": [
    {
     "data": {
      "text/plain": [
       "<matplotlib.axes._subplots.AxesSubplot at 0x1dc91367808>"
      ]
     },
     "execution_count": 79,
     "metadata": {},
     "output_type": "execute_result"
    },
    {
     "data": {
      "image/png": "[encoded data removed]",
      "text/plain": [
       "<Figure size 432x288 with 1 Axes>"
      ]
     },
     "metadata": {},
     "output_type": "display_data"
    }
   ],
   "source": [
    "df_scores[['train_score', 'test_score' ]].boxplot()"
   ]
  },
  {
   "cell_type": "markdown",
   "metadata": {},
   "source": [
    "###  If 2 numbers are close and high:\n",
    "\n",
    "> Bravo, you did a good job!\n",
    "\n",
    "### If 2 numbers are close and low:\n",
    "\n",
    "> *Underfitting*, we need to create a more complex model or add more features\n",
    "\n",
    "### If 2 numbers gap is too large:\n",
    "\n",
    "> *Overfitting*, reduce the complexity(features) by regularization or include more data"
   ]
  },
  {
   "cell_type": "markdown",
   "metadata": {},
   "source": [
    "### 3.3 Exercise\n",
    "\n",
    "Use the pipeline of the previous exercise and make a cross-validation instead of a single split evaluation."
   ]
  },
  {
   "cell_type": "code",
   "execution_count": 80,
   "metadata": {},
   "outputs": [
    {
     "data": {
      "text/plain": [
       "<bound method Pipeline.get_params of Pipeline(memory=None,\n",
       "         steps=[('standardscaler',\n",
       "                 StandardScaler(copy=True, with_mean=True, with_std=True)),\n",
       "                ('polynomialfeatures',\n",
       "                 PolynomialFeatures(degree=2, include_bias=True,\n",
       "                                    interaction_only=False, order='C')),\n",
       "                ('sgdclassifier',\n",
       "                 SGDClassifier(alpha=0.0001, average=False, class_weight=None,\n",
       "                               early_stopping=False, epsilon=0.1, eta0=0.0,\n",
       "                               fit_intercept=True, l1_ratio=0.15,\n",
       "                               learning_rate='optimal', loss='hinge',\n",
       "                               max_iter=1000, n_iter_no_change=5, n_jobs=None,\n",
       "                               penalty='l2', power_t=0.5, random_state=None,\n",
       "                               shuffle=True, tol=0.001, validation_fraction=0.1,\n",
       "                               verbose=0, warm_start=False))],\n",
       "         verbose=False)>"
      ]
     },
     "execution_count": 80,
     "metadata": {},
     "output_type": "execute_result"
    }
   ],
   "source": [
    "pipe_b = make_pipeline( StandardScaler(), PolynomialFeatures(degree = 2), SGDClassifier(max_iter=1000))\n",
    "pipe_b.get_params\n"
   ]
  },
  {
   "cell_type": "code",
   "execution_count": 81,
   "metadata": {},
   "outputs": [
    {
     "data": {
      "text/plain": [
       "((569, 30),)"
      ]
     },
     "execution_count": 81,
     "metadata": {},
     "output_type": "execute_result"
    }
   ],
   "source": [
    "X_b.shape,"
   ]
  },
  {
   "cell_type": "code",
   "execution_count": 82,
   "metadata": {},
   "outputs": [
    {
     "name": "stdout",
     "output_type": "stream",
     "text": [
      "cross val score for boston dataset: {'fit_time': array([0.02393103, 0.02194071, 0.01694846, 0.0129652 , 0.01495886]), 'score_time': array([0.00199318, 0.00199556, 0.00397897, 0.00299215, 0.0029943 ]), 'test_score': array([0.98919096, 0.99050115, 0.97420635, 0.9781746 , 0.99329309]), 'train_score': array([1.        , 0.99977242, 1.        , 1.        , 1.        ])}\n"
     ]
    }
   ],
   "source": [
    "scores_b = cross_validate(pipe_b, X_b, y_b, cv = 5, return_train_score=True, scoring= 'roc_auc' )\n",
    "print(f'cross val score for boston dataset: {scores_b}')"
   ]
  },
  {
   "cell_type": "code",
   "execution_count": 83,
   "metadata": {},
   "outputs": [
    {
     "data": {
      "text/html": [
       "<div>\n",
       "<style scoped>\n",
       "    .dataframe tbody tr th:only-of-type {\n",
       "        vertical-align: middle;\n",
       "    }\n",
       "\n",
       "    .dataframe tbody tr th {\n",
       "        vertical-align: top;\n",
       "    }\n",
       "\n",
       "    .dataframe thead th {\n",
       "        text-align: right;\n",
       "    }\n",
       "</style>\n",
       "<table border=\"1\" class=\"dataframe\">\n",
       "  <thead>\n",
       "    <tr style=\"text-align: right;\">\n",
       "      <th></th>\n",
       "      <th>fit_time</th>\n",
       "      <th>score_time</th>\n",
       "      <th>test_score</th>\n",
       "      <th>train_score</th>\n",
       "    </tr>\n",
       "  </thead>\n",
       "  <tbody>\n",
       "    <tr>\n",
       "      <td>0</td>\n",
       "      <td>0.023931</td>\n",
       "      <td>0.001993</td>\n",
       "      <td>0.989191</td>\n",
       "      <td>1.000000</td>\n",
       "    </tr>\n",
       "    <tr>\n",
       "      <td>1</td>\n",
       "      <td>0.021941</td>\n",
       "      <td>0.001996</td>\n",
       "      <td>0.990501</td>\n",
       "      <td>0.999772</td>\n",
       "    </tr>\n",
       "    <tr>\n",
       "      <td>2</td>\n",
       "      <td>0.016948</td>\n",
       "      <td>0.003979</td>\n",
       "      <td>0.974206</td>\n",
       "      <td>1.000000</td>\n",
       "    </tr>\n",
       "    <tr>\n",
       "      <td>3</td>\n",
       "      <td>0.012965</td>\n",
       "      <td>0.002992</td>\n",
       "      <td>0.978175</td>\n",
       "      <td>1.000000</td>\n",
       "    </tr>\n",
       "    <tr>\n",
       "      <td>4</td>\n",
       "      <td>0.014959</td>\n",
       "      <td>0.002994</td>\n",
       "      <td>0.993293</td>\n",
       "      <td>1.000000</td>\n",
       "    </tr>\n",
       "  </tbody>\n",
       "</table>\n",
       "</div>"
      ],
      "text/plain": [
       "   fit_time  score_time  test_score  train_score\n",
       "0  0.023931    0.001993    0.989191     1.000000\n",
       "1  0.021941    0.001996    0.990501     0.999772\n",
       "2  0.016948    0.003979    0.974206     1.000000\n",
       "3  0.012965    0.002992    0.978175     1.000000\n",
       "4  0.014959    0.002994    0.993293     1.000000"
      ]
     },
     "execution_count": 83,
     "metadata": {},
     "output_type": "execute_result"
    }
   ],
   "source": [
    "import pandas as pd\n",
    "df_scores_b = pd.DataFrame(scores_b)\n",
    "df_scores_b"
   ]
  },
  {
   "cell_type": "code",
   "execution_count": 84,
   "metadata": {},
   "outputs": [
    {
     "data": {
      "text/plain": [
       "fit_time       0.018149\n",
       "score_time     0.002791\n",
       "test_score     0.985073\n",
       "train_score    0.999954\n",
       "dtype: float64"
      ]
     },
     "execution_count": 84,
     "metadata": {},
     "output_type": "execute_result"
    }
   ],
   "source": [
    "df_scores_b.mean()"
   ]
  },
  {
   "cell_type": "code",
   "execution_count": 85,
   "metadata": {},
   "outputs": [
    {
     "data": {
      "text/plain": [
       "<matplotlib.axes._subplots.AxesSubplot at 0x1dc91414748>"
      ]
     },
     "execution_count": 85,
     "metadata": {},
     "output_type": "execute_result"
    },
    {
     "data": {
      "image/png": "[encoded data removed]",
      "text/plain": [
       "<Figure size 432x288 with 1 Axes>"
      ]
     },
     "metadata": {},
     "output_type": "display_data"
    }
   ],
   "source": [
    "df_scores_b[['train_score', 'test_score' ]].boxplot()"
   ]
  },
  {
   "cell_type": "markdown",
   "metadata": {},
   "source": [
    "## 4. Hyper-parameters optimization: fine-tune the inside of a pipeline"
   ]
  },
  {
   "cell_type": "markdown",
   "metadata": {},
   "source": [
    "Sometimes you would like to find the parameters of a component of the pipeline which lead to the best accuracy. We already saw that we could check the parameters of a pipeline using `get_params()`."
   ]
  },
  {
   "cell_type": "markdown",
   "metadata": {},
   "source": [
    "Hyper-parameters can be optimized by an exhaustive search. [`GridSearchCV`](https://scikit-learn.org/stable/modules/generated/sklearn.model_selection.GridSearchCV.html) provides such utility and does a cross-validated grid-search over a parameter grid.\n",
    "\n",
    "Let's give an example in which we would like to optimize the `C` and `penalty` parameters of the `LogisticRegression` classifier."
   ]
  },
  {
   "cell_type": "code",
   "execution_count": 86,
   "metadata": {},
   "outputs": [
    {
     "data": {
      "text/plain": [
       "(array([ 0.,  0.,  0., 13., 14.,  0.,  0.,  0.,  0.,  0.,  0., 13., 16.,\n",
       "         3.,  0.,  0.,  0.,  0.,  2., 16., 15.,  3.,  0.,  0.,  0.,  0.,\n",
       "         4., 16., 14.,  0.,  0.,  0.,  0.,  0.,  3., 16., 11.,  0.,  0.,\n",
       "         0.,  0.,  0.,  8., 16., 10.,  0.,  0.,  0.,  0.,  0.,  6., 16.,\n",
       "         7.,  0.,  0.,  0.,  0.,  0.,  1., 11.,  9.,  0.,  0.,  0.]), 1)"
      ]
     },
     "execution_count": 86,
     "metadata": {},
     "output_type": "execute_result"
    }
   ],
   "source": [
    "(X_train[1], y_train[1])"
   ]
  },
  {
   "cell_type": "markdown",
   "metadata": {},
   "source": [
    "### This is a multiclass classification problem"
   ]
  },
  {
   "cell_type": "code",
   "execution_count": 87,
   "metadata": {},
   "outputs": [
    {
     "data": {
      "text/plain": [
       "GridSearchCV(cv=3, error_score=nan,\n",
       "             estimator=Pipeline(memory=None,\n",
       "                                steps=[('minmaxscaler',\n",
       "                                        MinMaxScaler(copy=True,\n",
       "                                                     feature_range=(0, 1))),\n",
       "                                       ('logisticregression',\n",
       "                                        LogisticRegression(C=1.0,\n",
       "                                                           class_weight=None,\n",
       "                                                           dual=False,\n",
       "                                                           fit_intercept=True,\n",
       "                                                           intercept_scaling=1,\n",
       "                                                           l1_ratio=None,\n",
       "                                                           max_iter=5000,\n",
       "                                                           multi_class='auto',\n",
       "                                                           n_jobs=None,\n",
       "                                                           penalty='l2',\n",
       "                                                           random_state=42,\n",
       "                                                           solver='saga',\n",
       "                                                           tol=0.0001,\n",
       "                                                           verbose=0,\n",
       "                                                           warm_start=False))],\n",
       "                                verbose=False),\n",
       "             iid='deprecated', n_jobs=-1,\n",
       "             param_grid={'logisticregression__C': [0.1, 1, 10],\n",
       "                         'logisticregression__penalty': ['l2', 'l1']},\n",
       "             pre_dispatch='2*n_jobs', refit=True, return_train_score=True,\n",
       "             scoring=None, verbose=0)"
      ]
     },
     "execution_count": 87,
     "metadata": {},
     "output_type": "execute_result"
    }
   ],
   "source": [
    "from sklearn.model_selection import GridSearchCV, cross_validate\n",
    "from sklearn.pipeline import Pipeline\n",
    "\n",
    "pipe = make_pipeline( MinMaxScaler(), LogisticRegression(solver = 'saga', multi_class='auto', max_iter = 5000, random_state = 42) )\n",
    "\n",
    "param_grid = {'logisticregression__C' : [0.1, 1, 10],\\\n",
    "               'logisticregression__penalty' : ['l2', 'l1'] }\n",
    "\n",
    "grid = GridSearchCV(pipe, param_grid, cv = 3, n_jobs=-1, return_train_score = True #, scoring='roc_auc_ovr'\n",
    "                   )\n",
    "# scoring='roc_auc_ovr' bacuse it's a multiclass classification\n",
    "\n",
    "grid.fit(X_train, y_train) #grid is the new classifier higher level than pipe\n"
   ]
  },
  {
   "cell_type": "markdown",
   "metadata": {},
   "source": [
    "### Upto here, everything is done on train data"
   ]
  },
  {
   "cell_type": "markdown",
   "metadata": {},
   "source": [
    "When fitting the grid-search object, it finds the best possible parameter combination on the training set (using cross-validation). We can introspect the results of the grid-search by accessing the attribute `cv_results_`. It allows us to check the effect of the parameters on the model performance."
   ]
  },
  {
   "cell_type": "code",
   "execution_count": 88,
   "metadata": {},
   "outputs": [
    {
     "data": {
      "text/html": [
       "<div>\n",
       "<style scoped>\n",
       "    .dataframe tbody tr th:only-of-type {\n",
       "        vertical-align: middle;\n",
       "    }\n",
       "\n",
       "    .dataframe tbody tr th {\n",
       "        vertical-align: top;\n",
       "    }\n",
       "\n",
       "    .dataframe thead th {\n",
       "        text-align: right;\n",
       "    }\n",
       "</style>\n",
       "<table border=\"1\" class=\"dataframe\">\n",
       "  <thead>\n",
       "    <tr style=\"text-align: right;\">\n",
       "      <th></th>\n",
       "      <th>mean_fit_time</th>\n",
       "      <th>std_fit_time</th>\n",
       "      <th>mean_score_time</th>\n",
       "      <th>std_score_time</th>\n",
       "      <th>param_logisticregression__C</th>\n",
       "      <th>param_logisticregression__penalty</th>\n",
       "      <th>params</th>\n",
       "      <th>split0_test_score</th>\n",
       "      <th>split1_test_score</th>\n",
       "      <th>split2_test_score</th>\n",
       "      <th>mean_test_score</th>\n",
       "      <th>std_test_score</th>\n",
       "      <th>split0_train_score</th>\n",
       "      <th>split1_train_score</th>\n",
       "      <th>split2_train_score</th>\n",
       "      <th>mean_train_score</th>\n",
       "      <th>std_train_score</th>\n",
       "    </tr>\n",
       "    <tr>\n",
       "      <th>rank_test_score</th>\n",
       "      <th></th>\n",
       "      <th></th>\n",
       "      <th></th>\n",
       "      <th></th>\n",
       "      <th></th>\n",
       "      <th></th>\n",
       "      <th></th>\n",
       "      <th></th>\n",
       "      <th></th>\n",
       "      <th></th>\n",
       "      <th></th>\n",
       "      <th></th>\n",
       "      <th></th>\n",
       "      <th></th>\n",
       "      <th></th>\n",
       "      <th></th>\n",
       "      <th></th>\n",
       "    </tr>\n",
       "  </thead>\n",
       "  <tbody>\n",
       "    <tr>\n",
       "      <td>1</td>\n",
       "      <td>2.009624</td>\n",
       "      <td>0.196453</td>\n",
       "      <td>0.000997</td>\n",
       "      <td>1.123916e-07</td>\n",
       "      <td>10</td>\n",
       "      <td>l2</td>\n",
       "      <td>{'logisticregression__C': 10, 'logisticregress...</td>\n",
       "      <td>0.977728</td>\n",
       "      <td>0.964365</td>\n",
       "      <td>0.964365</td>\n",
       "      <td>0.968820</td>\n",
       "      <td>0.006299</td>\n",
       "      <td>1.000000</td>\n",
       "      <td>1.000000</td>\n",
       "      <td>1.000000</td>\n",
       "      <td>1.000000</td>\n",
       "      <td>0.000000</td>\n",
       "    </tr>\n",
       "    <tr>\n",
       "      <td>2</td>\n",
       "      <td>0.749660</td>\n",
       "      <td>0.022601</td>\n",
       "      <td>0.000998</td>\n",
       "      <td>8.147827e-04</td>\n",
       "      <td>1</td>\n",
       "      <td>l2</td>\n",
       "      <td>{'logisticregression__C': 1, 'logisticregressi...</td>\n",
       "      <td>0.979955</td>\n",
       "      <td>0.955457</td>\n",
       "      <td>0.957684</td>\n",
       "      <td>0.964365</td>\n",
       "      <td>0.011061</td>\n",
       "      <td>0.984410</td>\n",
       "      <td>0.988864</td>\n",
       "      <td>0.986637</td>\n",
       "      <td>0.986637</td>\n",
       "      <td>0.001818</td>\n",
       "    </tr>\n",
       "    <tr>\n",
       "      <td>3</td>\n",
       "      <td>8.765901</td>\n",
       "      <td>0.761393</td>\n",
       "      <td>0.001000</td>\n",
       "      <td>7.370010e-07</td>\n",
       "      <td>10</td>\n",
       "      <td>l1</td>\n",
       "      <td>{'logisticregression__C': 10, 'logisticregress...</td>\n",
       "      <td>0.973274</td>\n",
       "      <td>0.957684</td>\n",
       "      <td>0.951002</td>\n",
       "      <td>0.960653</td>\n",
       "      <td>0.009332</td>\n",
       "      <td>1.000000</td>\n",
       "      <td>1.000000</td>\n",
       "      <td>1.000000</td>\n",
       "      <td>1.000000</td>\n",
       "      <td>0.000000</td>\n",
       "    </tr>\n",
       "    <tr>\n",
       "      <td>4</td>\n",
       "      <td>3.237671</td>\n",
       "      <td>0.471431</td>\n",
       "      <td>0.001330</td>\n",
       "      <td>4.700217e-04</td>\n",
       "      <td>1</td>\n",
       "      <td>l1</td>\n",
       "      <td>{'logisticregression__C': 1, 'logisticregressi...</td>\n",
       "      <td>0.964365</td>\n",
       "      <td>0.951002</td>\n",
       "      <td>0.944321</td>\n",
       "      <td>0.953229</td>\n",
       "      <td>0.008333</td>\n",
       "      <td>0.977728</td>\n",
       "      <td>0.978842</td>\n",
       "      <td>0.982183</td>\n",
       "      <td>0.979584</td>\n",
       "      <td>0.001893</td>\n",
       "    </tr>\n",
       "    <tr>\n",
       "      <td>5</td>\n",
       "      <td>0.234372</td>\n",
       "      <td>0.008808</td>\n",
       "      <td>0.001330</td>\n",
       "      <td>4.701903e-04</td>\n",
       "      <td>0.1</td>\n",
       "      <td>l2</td>\n",
       "      <td>{'logisticregression__C': 0.1, 'logisticregres...</td>\n",
       "      <td>0.953229</td>\n",
       "      <td>0.935412</td>\n",
       "      <td>0.942094</td>\n",
       "      <td>0.943578</td>\n",
       "      <td>0.007349</td>\n",
       "      <td>0.953229</td>\n",
       "      <td>0.957684</td>\n",
       "      <td>0.952116</td>\n",
       "      <td>0.954343</td>\n",
       "      <td>0.002406</td>\n",
       "    </tr>\n",
       "    <tr>\n",
       "      <td>6</td>\n",
       "      <td>0.619676</td>\n",
       "      <td>0.108198</td>\n",
       "      <td>0.000000</td>\n",
       "      <td>0.000000e+00</td>\n",
       "      <td>0.1</td>\n",
       "      <td>l1</td>\n",
       "      <td>{'logisticregression__C': 0.1, 'logisticregres...</td>\n",
       "      <td>0.886414</td>\n",
       "      <td>0.906459</td>\n",
       "      <td>0.884187</td>\n",
       "      <td>0.892353</td>\n",
       "      <td>0.010015</td>\n",
       "      <td>0.903118</td>\n",
       "      <td>0.902004</td>\n",
       "      <td>0.902004</td>\n",
       "      <td>0.902376</td>\n",
       "      <td>0.000525</td>\n",
       "    </tr>\n",
       "  </tbody>\n",
       "</table>\n",
       "</div>"
      ],
      "text/plain": [
       "                 mean_fit_time  std_fit_time  mean_score_time  std_score_time  \\\n",
       "rank_test_score                                                                 \n",
       "1                     2.009624      0.196453         0.000997    1.123916e-07   \n",
       "2                     0.749660      0.022601         0.000998    8.147827e-04   \n",
       "3                     8.765901      0.761393         0.001000    7.370010e-07   \n",
       "4                     3.237671      0.471431         0.001330    4.700217e-04   \n",
       "5                     0.234372      0.008808         0.001330    4.701903e-04   \n",
       "6                     0.619676      0.108198         0.000000    0.000000e+00   \n",
       "\n",
       "                param_logisticregression__C param_logisticregression__penalty  \\\n",
       "rank_test_score                                                                 \n",
       "1                                        10                                l2   \n",
       "2                                         1                                l2   \n",
       "3                                        10                                l1   \n",
       "4                                         1                                l1   \n",
       "5                                       0.1                                l2   \n",
       "6                                       0.1                                l1   \n",
       "\n",
       "                                                            params  \\\n",
       "rank_test_score                                                      \n",
       "1                {'logisticregression__C': 10, 'logisticregress...   \n",
       "2                {'logisticregression__C': 1, 'logisticregressi...   \n",
       "3                {'logisticregression__C': 10, 'logisticregress...   \n",
       "4                {'logisticregression__C': 1, 'logisticregressi...   \n",
       "5                {'logisticregression__C': 0.1, 'logisticregres...   \n",
       "6                {'logisticregression__C': 0.1, 'logisticregres...   \n",
       "\n",
       "                 split0_test_score  split1_test_score  split2_test_score  \\\n",
       "rank_test_score                                                            \n",
       "1                         0.977728           0.964365           0.964365   \n",
       "2                         0.979955           0.955457           0.957684   \n",
       "3                         0.973274           0.957684           0.951002   \n",
       "4                         0.964365           0.951002           0.944321   \n",
       "5                         0.953229           0.935412           0.942094   \n",
       "6                         0.886414           0.906459           0.884187   \n",
       "\n",
       "                 mean_test_score  std_test_score  split0_train_score  \\\n",
       "rank_test_score                                                        \n",
       "1                       0.968820        0.006299            1.000000   \n",
       "2                       0.964365        0.011061            0.984410   \n",
       "3                       0.960653        0.009332            1.000000   \n",
       "4                       0.953229        0.008333            0.977728   \n",
       "5                       0.943578        0.007349            0.953229   \n",
       "6                       0.892353        0.010015            0.903118   \n",
       "\n",
       "                 split1_train_score  split2_train_score  mean_train_score  \\\n",
       "rank_test_score                                                             \n",
       "1                          1.000000            1.000000          1.000000   \n",
       "2                          0.988864            0.986637          0.986637   \n",
       "3                          1.000000            1.000000          1.000000   \n",
       "4                          0.978842            0.982183          0.979584   \n",
       "5                          0.957684            0.952116          0.954343   \n",
       "6                          0.902004            0.902004          0.902376   \n",
       "\n",
       "                 std_train_score  \n",
       "rank_test_score                   \n",
       "1                       0.000000  \n",
       "2                       0.001818  \n",
       "3                       0.000000  \n",
       "4                       0.001893  \n",
       "5                       0.002406  \n",
       "6                       0.000525  "
      ]
     },
     "execution_count": 88,
     "metadata": {},
     "output_type": "execute_result"
    }
   ],
   "source": [
    "df_grid = pd.DataFrame(grid.cv_results_)\n",
    "df_grid.sort_values(by=['rank_test_score']).set_index('rank_test_score')"
   ]
  },
  {
   "cell_type": "markdown",
   "metadata": {},
   "source": [
    "By default, the grid-search object is also behaving as an estimator. Once it is fitted, calling `score` will fix the hyper-parameters to the best parameters found."
   ]
  },
  {
   "cell_type": "code",
   "execution_count": 89,
   "metadata": {},
   "outputs": [
    {
     "data": {
      "text/plain": [
       "{'logisticregression__C': [0.1, 1, 10],\n",
       " 'logisticregression__penalty': ['l2', 'l1']}"
      ]
     },
     "execution_count": 89,
     "metadata": {},
     "output_type": "execute_result"
    }
   ],
   "source": [
    "param_grid"
   ]
  },
  {
   "cell_type": "markdown",
   "metadata": {},
   "source": [
    "### But we might missed the best parameters, so we should check if the range of given parameters is te best"
   ]
  },
  {
   "cell_type": "code",
   "execution_count": 90,
   "metadata": {},
   "outputs": [
    {
     "data": {
      "text/plain": [
       "<matplotlib.collections.PolyCollection at 0x1dc91486188>"
      ]
     },
     "execution_count": 90,
     "metadata": {},
     "output_type": "execute_result"
    },
    {
     "data": {
      "image/png": "[encoded data removed]",
      "text/plain": [
       "<Figure size 432x288 with 1 Axes>"
      ]
     },
     "metadata": {},
     "output_type": "display_data"
    }
   ],
   "source": [
    "import numpy as np\n",
    "scores = np.array(df_grid.mean_test_score).reshape(3, 2)\n",
    "mglearn.tools.heatmap(scores, xlabel='penalty', xticklabels=param_grid['logisticregression__penalty'],\\\n",
    "                     ylabel='C', yticklabels= param_grid['logisticregression__C'], cmap = 'viridis')"
   ]
  },
  {
   "cell_type": "markdown",
   "metadata": {},
   "source": [
    "### Best result should be inte middle of heat map not in boundries\n",
    "\n",
    "- The lightest color is the best\n",
    "\n",
    "- It means that if we increase $C$ we may get better result"
   ]
  },
  {
   "cell_type": "code",
   "execution_count": 91,
   "metadata": {},
   "outputs": [
    {
     "data": {
      "text/plain": [
       "{'logisticregression__C': 10, 'logisticregression__penalty': 'l2'}"
      ]
     },
     "execution_count": 91,
     "metadata": {},
     "output_type": "execute_result"
    }
   ],
   "source": [
    "grid.best_params_"
   ]
  },
  {
   "cell_type": "markdown",
   "metadata": {},
   "source": [
    "### We can see `grid.best_params_` only after we fit grid `grid.fit(X_train, y_train)`"
   ]
  },
  {
   "cell_type": "code",
   "execution_count": 92,
   "metadata": {},
   "outputs": [
    {
     "data": {
      "text/plain": [
       "Pipeline(memory=None,\n",
       "         steps=[('minmaxscaler', MinMaxScaler(copy=True, feature_range=(0, 1))),\n",
       "                ('logisticregression',\n",
       "                 LogisticRegression(C=1.0, class_weight=None, dual=False,\n",
       "                                    fit_intercept=True, intercept_scaling=1,\n",
       "                                    l1_ratio=None, max_iter=5000,\n",
       "                                    multi_class='auto', n_jobs=None,\n",
       "                                    penalty='l2', random_state=42,\n",
       "                                    solver='saga', tol=0.0001, verbose=0,\n",
       "                                    warm_start=False))],\n",
       "         verbose=False)"
      ]
     },
     "execution_count": 92,
     "metadata": {},
     "output_type": "execute_result"
    }
   ],
   "source": [
    "grid.estimator"
   ]
  },
  {
   "cell_type": "code",
   "execution_count": 93,
   "metadata": {},
   "outputs": [
    {
     "name": "stdout",
     "output_type": "stream",
     "text": [
      "Logistic regression step:\n",
      "LogisticRegression(C=10, class_weight=None, dual=False, fit_intercept=True,\n",
      "                   intercept_scaling=1, l1_ratio=None, max_iter=5000,\n",
      "                   multi_class='auto', n_jobs=None, penalty='l2',\n",
      "                   random_state=42, solver='saga', tol=0.0001, verbose=0,\n",
      "                   warm_start=False)\n"
     ]
    }
   ],
   "source": [
    "print(\"Logistic regression step:\\n{}\".format(\n",
    "      grid.best_estimator_.named_steps[\"logisticregression\"]))"
   ]
  },
  {
   "cell_type": "code",
   "execution_count": 94,
   "metadata": {},
   "outputs": [
    {
     "name": "stdout",
     "output_type": "stream",
     "text": [
      "Logistic regression coefficients:\n",
      "[[ 0.         -0.10387678  0.09781757  0.6751041   0.16744981 -0.89185937\n",
      "  -0.92687031 -0.11932107 -0.0036821  -0.41928546  0.22061184  1.16619671\n",
      "   0.40050103  0.79545801 -0.34101296 -0.14797988 -0.00000583  0.2545944\n",
      "   0.99513638 -0.48017517 -2.19413919  0.78584929  0.60342894 -0.06205273\n",
      "  -0.00005186  1.00543208  1.01228546 -1.16056001 -3.54449354 -0.17672864\n",
      "   1.02753233 -0.02667156  0.          1.50415368  0.58804709 -1.56131655\n",
      "  -2.89806723  0.3926555   0.75766164  0.         -0.02687509  0.10145055\n",
      "   1.65605414 -0.69580925 -1.48416258  0.85948789  0.30621346 -0.00140979\n",
      "  -0.02335471 -0.5196659   0.77669417 -0.18833145  1.00322504  0.37064346\n",
      "  -0.30226604 -0.03216873 -0.00016151 -0.02397305 -0.13540951  0.80520284\n",
      "  -0.33967314 -0.32212458 -0.51444613 -0.10466433]\n",
      " [ 0.         -0.03700488 -0.20599121  0.89598942 -3.76944417  1.83141282\n",
      "   0.29629425 -0.03706116 -0.11616661 -2.42776472 -3.26932681 -0.85061059\n",
      "   0.88263868  1.12271261 -2.02780513 -0.02021716 -0.00104428  0.92547485\n",
      "  -0.12103395  4.39842632  4.04829007 -0.50635044 -0.1014228  -0.02209478\n",
      "  -0.3116497  -0.49820873  0.87675905  1.7275118   0.95399908  0.47591457\n",
      "   0.05505841 -0.00145596  0.          0.29306026  0.78674144 -0.70498892\n",
      "   0.66821436  0.54106008 -0.91378057  0.         -0.0044424  -1.34613191\n",
      "   0.16007855  1.28130333  1.2576901  -1.49894722 -2.18625454 -0.0320253\n",
      "  -0.00604963 -1.06762323 -1.0454401   1.07010512  2.21627448 -0.71080423\n",
      "  -0.70599759  1.35685126 -0.01565133  0.03847874 -1.38508394 -0.16137324\n",
      "   0.36113923  1.81827801  1.99810027  1.8057354 ]\n",
      " [ 0.          0.25532881  0.32943671  0.44273028  0.40995951 -0.22634209\n",
      "  -0.21814538 -0.00654273 -0.02562035  1.86901784  0.22362756 -1.26643726\n",
      "   1.51293062  0.16007971 -0.0552245  -0.02029523  0.15469445 -0.13561399\n",
      "  -0.88344357 -1.53954839  1.52942095 -0.36585878  1.05922642 -0.00030557\n",
      "  -0.00001042 -1.07067309 -3.77202583 -3.30544824 -1.78775194  0.05683925\n",
      "   0.26404364 -0.0001042   0.         -1.11125791 -2.47049315 -0.8114409\n",
      "  -0.06206637 -1.56353795 -1.66238287  0.         -0.0000754   0.71516749\n",
      "   0.36219245  3.07771423 -2.17805217 -2.38387412 -1.20292899  0.11840551\n",
      "   0.04370238  0.77001835  0.55096172  3.59354837  2.36276396  2.65757174\n",
      "   1.0166502   0.48247705  0.11672163  0.42849586  1.17673513  0.67174503\n",
      "   0.20231037  1.78634915  2.42394027  0.93093805]\n",
      " [ 0.          1.14587543 -0.8804084   0.57764132  3.23390278  1.2162132\n",
      "   0.00137604 -0.00344414 -0.0949506   0.7742246   1.04204875  0.39303857\n",
      "   1.354942    0.95176251  1.35103955 -0.17608023 -0.14423059 -0.3749936\n",
      "  -2.7301662  -3.26641625  0.55762473 -1.34626372  0.09562138 -0.02173449\n",
      "  -0.00000723 -1.22909503 -3.35608884 -0.97961256  1.97407989 -3.12051667\n",
      "  -2.23701676 -0.00024006  0.         -0.81494014 -1.37171355  0.44338452\n",
      "   0.92239792 -0.39488461 -0.16610521  0.         -0.00001914 -0.41712062\n",
      "  -2.19998115 -3.41662831  1.11030986  1.88419588  2.03296656 -0.09942095\n",
      "  -0.00007135 -0.38548482 -0.31400587 -1.53145046  0.5154372   1.93137173\n",
      "   2.40714631 -0.68749368 -0.00016093  0.65869097  1.61938927  0.51094343\n",
      "   0.53438491 -0.0282586   0.11561071 -1.0768281 ]\n",
      " [ 0.         -0.48307469 -1.28208395 -3.16000697 -2.15275242 -2.4679339\n",
      "  -1.44475757 -0.02541048 -0.01598015  0.30241045 -1.39953885 -1.74903824\n",
      "  -2.63735922 -1.74380031 -1.30291109  0.20585878 -0.00000782  0.04716265\n",
      "   1.0184775   0.47545148  0.14640728  0.6734571  -0.56383332  0.41141035\n",
      "   0.55411413  0.59444996  2.67809253  0.21974644  0.00220205  0.09881986\n",
      "   2.77532153  0.22712936  0.          1.14010322  0.91326542 -0.62439317\n",
      "   1.36684284  1.83849331  2.64877303  0.          0.07992092  2.95862055\n",
      "  -0.0616275   3.58424472  2.11048777  0.22362373  0.43597298 -0.01956379\n",
      "   0.03146792  1.22933335 -1.24158525  0.16235517  0.41220186 -2.26843191\n",
      "  -2.01245982 -0.06026507 -0.00490353 -0.29598254 -0.52612403 -2.29478728\n",
      "  -1.355648   -1.95959461 -0.79415174 -0.02978145]\n",
      " [ 0.          1.09568775  2.63699906 -0.81105884  1.26085351  1.97263146\n",
      "   2.34898839 -0.51174094  0.0153698   0.01536823  1.91203452  1.2821366\n",
      "   0.17576412 -1.64923717  0.23810082 -0.21796833 -0.0003995   0.25696393\n",
      "   0.93819741  0.04801192 -3.69429035 -3.07887617 -2.98621463 -0.10165265\n",
      "  -0.22090409  1.37944661  1.61509726 -0.85022338  1.78408222 -0.28792872\n",
      "  -1.83939106 -0.00406694  0.         -0.6392094   1.27109793 -0.76663868\n",
      "  -0.96836591 -0.01060224  0.62055022  0.         -0.00007601 -1.26420806\n",
      "  -1.48491466 -1.39327158 -0.62716634  1.15295029 -0.15314463 -0.00217685\n",
      "  -0.00003227  0.02747109 -0.13678629 -0.68334428 -0.18590762 -0.36968743\n",
      "  -1.08245499 -0.03907054 -0.00006216  0.61327543  2.61527785  1.83760841\n",
      "  -0.26261615 -0.46902139 -1.4426045  -0.20069599]\n",
      " [ 0.         -0.21790417 -1.24897809 -0.67547069 -0.20399427 -1.79664906\n",
      "  -0.23014905 -0.00028894 -0.00119108 -1.24208356 -0.75610877 -0.18327823\n",
      "  -2.11176942 -1.79438378 -0.16373809 -0.00227444 -0.00000602 -0.99924703\n",
      "   0.88755054  0.65774778 -2.12557293 -3.69054637 -0.35807271 -0.00736973\n",
      "  -0.00818231  0.81253592  0.22930123  0.63621795 -0.02230402  0.00692293\n",
      "  -1.36749894 -0.01131904  0.          1.44333321  1.25289127  0.96976578\n",
      "   0.17351674 -0.17694396  0.76686731  0.         -0.04777072 -0.35010552\n",
      "   3.62466857  0.93842493  0.56094708  0.21263469  1.74618957  0.06990095\n",
      "  -0.00943605 -0.84433492  1.11810289  0.58531475 -0.90844387  1.88178565\n",
      "   1.03066775 -1.02807871 -0.00002648 -0.21255473 -1.38810516 -0.73330649\n",
      "   0.03502985  1.83611001  0.0299171  -0.68249493]\n",
      " [ 0.          0.45120203  0.5500609   0.4856056   0.89027203  0.55551504\n",
      "   1.695667    0.6634928  -0.00138482  0.66412253  0.56118173  0.76646186\n",
      "   2.30941866 -0.10614315  0.24919811  0.57833572 -0.00013036 -1.12378081\n",
      "  -2.40999719 -1.29524487  0.07109848  1.23782282  1.07878751  0.15120648\n",
      "  -0.00427063 -1.34051759 -0.20494425 -2.23868601  0.04958166  1.09962158\n",
      "   1.29361017 -0.02400831  0.          0.64086835  0.22100103 -0.36372425\n",
      "   1.12027675  1.60145832  1.50892405  0.         -0.00040257 -0.05831542\n",
      "   0.23082412  0.89363027  0.59109884  0.10062253 -0.09436046 -0.00055005\n",
      "  -0.00260689 -0.44665723 -0.31859529  0.67231423 -1.94305303 -3.28486165\n",
      "  -0.97179663 -0.01171817 -0.0062632   0.01767575  0.0869297  -1.78396626\n",
      "  -2.15863803 -2.52198065 -0.75508042 -0.04317123]\n",
      " [ 0.         -1.0092074   0.41870796 -0.71648727 -0.29622938 -0.0467594\n",
      "  -1.65255422 -0.05005584  0.3009125  -0.71668311  0.43162593 -0.57713433\n",
      "  -1.19538719  1.70571583  0.8749642  -0.06935617 -0.00028266  0.7747148\n",
      "   1.56616823  0.16571109 -0.02665283  1.53632124  0.81678073 -0.05094741\n",
      "  -0.00885831 -0.6118275  -0.59144565  2.67682777 -0.6547233  -0.09567421\n",
      "  -0.13003679 -0.005098    0.         -0.37854101 -0.14839101  1.87716858\n",
      "   1.0130391  -2.26096513 -3.04284928  0.         -0.00024959 -0.09826161\n",
      "   1.45224476  1.55838922  1.06208242  0.99675269  0.27448983 -0.03298868\n",
      "  -0.03360781  0.80218111  1.39720961 -2.5579035  -2.39260372  0.90117952\n",
      "   0.79505111 -0.15060807 -0.08948223 -0.19471491 -2.4884869   0.3405697\n",
      "   2.11516151 -0.24020169 -1.21060929 -0.50987992]\n",
      " [ 0.         -1.0970261  -0.41556057  2.28595306  0.4599826  -0.14622871\n",
      "   0.13015085  0.09037251 -0.05730659  1.18067321  1.03384409  1.0186649\n",
      "  -0.69167928  0.55783574  1.1773891  -0.13002304 -0.00858739  0.37472479\n",
      "   0.73911084  0.83603609  1.68781379  4.75444503  0.35569846 -0.29645947\n",
      "  -0.00017959  0.95845736  1.51296905  3.27422624  1.2453279   1.94273004\n",
      "   0.15837747 -0.15416529  0.         -2.07757027 -1.04244647  1.54218359\n",
      "  -1.3357882   0.03326668 -0.51765832  0.         -0.00000999 -0.24109545\n",
      "  -3.73953929 -5.82799754 -2.40323496 -1.54744637 -1.15914376 -0.00017105\n",
      "  -0.00001158  0.4347622  -0.78655559 -1.12260795 -1.0798943  -1.10876689\n",
      "  -0.1745403   0.17007466 -0.00001026 -1.02939151  0.42487758  0.80736385\n",
      "   0.86854946  0.10044436  0.14932374 -0.0891575 ]]\n"
     ]
    }
   ],
   "source": [
    "print(\"Logistic regression coefficients:\\n{}\".format(\n",
    "      grid.best_estimator_.named_steps[\"logisticregression\"].coef_))"
   ]
  },
  {
   "cell_type": "markdown",
   "metadata": {},
   "source": [
    "Besides this is possible to call the grid-search as any other classifier to make predictions."
   ]
  },
  {
   "cell_type": "code",
   "execution_count": 95,
   "metadata": {},
   "outputs": [
    {
     "name": "stdout",
     "output_type": "stream",
     "text": [
      "Accuracy score of the GridSearchCV is 0.96\n"
     ]
    }
   ],
   "source": [
    "accuracy = grid.score(X_test, y_test)\n",
    "print(f'Accuracy score of the {grid.__class__.__name__} is {accuracy:.2f}')"
   ]
  },
  {
   "cell_type": "markdown",
   "metadata": {},
   "source": [
    "### What about AUC?\n"
   ]
  },
  {
   "cell_type": "code",
   "execution_count": 96,
   "metadata": {},
   "outputs": [
    {
     "data": {
      "text/plain": [
       "array([8, 0, 9, 1, 5, 6, 7, 8, 1, 5, 5, 9, 2, 2, 7, 6, 5, 4, 8, 6, 9, 4,\n",
       "       0, 6, 0, 1, 2, 0, 4, 7, 3, 3, 8, 7, 4, 6, 5, 1, 5, 5, 4, 0, 8, 8,\n",
       "       5, 8, 4, 3, 0, 7, 2, 5, 1, 2, 1, 1, 4, 4, 9, 5, 2, 5, 4, 9, 0, 2,\n",
       "       4, 1, 7, 9, 6, 1, 8, 5, 4, 3, 4, 4, 3, 6, 1, 0, 1, 2, 3, 7, 7, 2,\n",
       "       9, 6, 5, 8, 2, 6, 7, 5, 9, 7, 0, 5, 0, 3, 1, 9, 2, 4, 6, 5, 1, 0,\n",
       "       0, 9, 5, 8, 4, 2, 8, 4, 1, 4, 0, 0, 7, 5, 7, 1, 3, 4, 2, 7, 2, 6,\n",
       "       9, 7, 0, 0, 1, 6, 3, 5, 1, 6, 0, 9, 6, 7, 4, 1, 6, 6, 7, 5, 8, 8,\n",
       "       3, 4, 4, 9, 0, 2, 9, 0, 9, 6, 0, 7, 6, 4, 4, 6, 7, 7, 4, 6, 9, 7,\n",
       "       4, 3, 5, 2, 0, 8, 4, 5, 8, 3, 5, 7, 8, 3, 9, 8, 6, 2, 9, 4, 2, 1,\n",
       "       9, 9, 8, 9, 2, 5, 1, 0, 9, 3, 0, 4, 4, 9, 5, 3, 3, 6, 3, 1, 0, 6,\n",
       "       7, 1, 6, 9, 6, 3, 2, 3, 0, 4, 8, 1, 5, 5, 9, 3, 4, 2, 1, 8, 9, 3,\n",
       "       9, 5, 2, 2, 3, 5, 6, 0, 4, 2, 2, 8, 8, 1, 3, 0, 9, 6, 8, 0, 3, 3,\n",
       "       1, 1, 4, 8, 8, 9, 1, 7, 6, 2, 1, 0, 2, 3, 9, 7, 7, 7, 9, 2, 5, 9,\n",
       "       5, 7, 3, 5, 9, 7, 1, 8, 0, 4, 2, 3, 1, 7, 2, 8, 3, 6, 3, 1, 4, 1,\n",
       "       4, 0, 8, 6, 3, 1, 7, 6, 3, 1, 1, 0, 1, 8, 3, 3, 4, 6, 4, 0, 2, 8,\n",
       "       2, 8, 2, 9, 6, 6, 6, 4, 9, 1, 8, 4, 8, 6, 7, 5, 8, 1, 8, 6, 7, 3,\n",
       "       2, 0, 2, 3, 8, 5, 0, 9, 4, 2, 1, 4, 5, 7, 9, 4, 2, 6, 5, 9, 3, 5,\n",
       "       8, 4, 2, 1, 5, 9, 1, 9, 3, 7, 3, 7, 7, 3, 3, 4, 3, 7, 3, 7, 3, 0,\n",
       "       5, 2, 9, 6, 5, 5, 2, 1, 7, 0, 2, 3, 0, 0, 1, 2, 7, 8, 3, 5, 9, 8,\n",
       "       0, 9, 4, 1, 6, 6, 9, 0, 0, 6, 0, 7, 5, 5, 8, 6, 8, 2, 7, 4, 9, 5,\n",
       "       7, 6, 1, 7, 8, 8, 0, 3, 4, 8])"
      ]
     },
     "execution_count": 96,
     "metadata": {},
     "output_type": "execute_result"
    }
   ],
   "source": [
    "y_pred = grid.predict(X_test)\n",
    "y_pred\n",
    "#this is a multiclass classification with 10 classes( number from 0-9)"
   ]
  },
  {
   "cell_type": "code",
   "execution_count": 97,
   "metadata": {},
   "outputs": [],
   "source": [
    "y_pred_proba = grid.predict_proba(X_test)\n",
    "#this is a multiclass classification with 10 classes( number from 0-9)"
   ]
  },
  {
   "cell_type": "code",
   "execution_count": 98,
   "metadata": {},
   "outputs": [
    {
     "data": {
      "text/plain": [
       "array([0.00035576, 0.16898809, 0.00015503, 0.00000193, 0.00456535,\n",
       "       0.16314427, 0.07488616, 0.00291393, 0.58497931, 0.00001017])"
      ]
     },
     "execution_count": 98,
     "metadata": {},
     "output_type": "execute_result"
    }
   ],
   "source": [
    "y_pred_proba[0]"
   ]
  },
  {
   "cell_type": "markdown",
   "metadata": {},
   "source": [
    "### As you can see in the cell above which is the first row of `y_pred_proba`, the highest probability is `0.584` which is the 9th elenment of the array which belongs to class 8.\n",
    "\n",
    "> It can be verified by looking at 1st elemnt in `y_pred`"
   ]
  },
  {
   "cell_type": "code",
   "execution_count": 99,
   "metadata": {},
   "outputs": [
    {
     "name": "stdout",
     "output_type": "stream",
     "text": [
      "AUC score of the GridSearchCV is 0.999\n"
     ]
    }
   ],
   "source": [
    "scores  = met.roc_auc_score(y_test, y_pred_proba, multi_class = 'ovo')\n",
    "print(f'AUC score of the {grid.__class__.__name__} is {scores:.3f}')"
   ]
  },
  {
   "cell_type": "markdown",
   "metadata": {},
   "source": [
    "Up to know, we only make the fitting of the grid-search on a single split. However, as previously stated, we might be interested to make an outer cross-validation to estimate the performance of the model and different sample of data and check the potential variation in performance. Since grid-search is an estimator, we can use it directly within the `cross_validate` function."
   ]
  },
  {
   "cell_type": "markdown",
   "metadata": {},
   "source": [
    "### Nested Cross Validation"
   ]
  },
  {
   "cell_type": "code",
   "execution_count": 102,
   "metadata": {},
   "outputs": [
    {
     "data": {
      "text/html": [
       "<div>\n",
       "<style scoped>\n",
       "    .dataframe tbody tr th:only-of-type {\n",
       "        vertical-align: middle;\n",
       "    }\n",
       "\n",
       "    .dataframe tbody tr th {\n",
       "        vertical-align: top;\n",
       "    }\n",
       "\n",
       "    .dataframe thead th {\n",
       "        text-align: right;\n",
       "    }\n",
       "</style>\n",
       "<table border=\"1\" class=\"dataframe\">\n",
       "  <thead>\n",
       "    <tr style=\"text-align: right;\">\n",
       "      <th></th>\n",
       "      <th>fit_time</th>\n",
       "      <th>score_time</th>\n",
       "      <th>test_score</th>\n",
       "      <th>train_score</th>\n",
       "    </tr>\n",
       "  </thead>\n",
       "  <tbody>\n",
       "    <tr>\n",
       "      <td>0</td>\n",
       "      <td>19.316322</td>\n",
       "      <td>0.006982</td>\n",
       "      <td>0.996845</td>\n",
       "      <td>0.999727</td>\n",
       "    </tr>\n",
       "    <tr>\n",
       "      <td>1</td>\n",
       "      <td>19.312306</td>\n",
       "      <td>0.009001</td>\n",
       "      <td>0.997690</td>\n",
       "      <td>0.999998</td>\n",
       "    </tr>\n",
       "    <tr>\n",
       "      <td>2</td>\n",
       "      <td>15.734939</td>\n",
       "      <td>0.007981</td>\n",
       "      <td>0.993775</td>\n",
       "      <td>0.999953</td>\n",
       "    </tr>\n",
       "  </tbody>\n",
       "</table>\n",
       "</div>"
      ],
      "text/plain": [
       "    fit_time  score_time  test_score  train_score\n",
       "0  19.316322    0.006982    0.996845     0.999727\n",
       "1  19.312306    0.009001    0.997690     0.999998\n",
       "2  15.734939    0.007981    0.993775     0.999953"
      ]
     },
     "execution_count": 102,
     "metadata": {},
     "output_type": "execute_result"
    }
   ],
   "source": [
    "scores = cross_validate(grid, X, y, cv= 3, return_train_score=True, scoring = 'roc_auc_ovr')\n",
    "df_scores = pd.DataFrame(scores)\n",
    "df_scores\n",
    "\n",
    "#scoring = 'roc_auc_ovr' because it's a multiclass classification"
   ]
  },
  {
   "cell_type": "code",
   "execution_count": 103,
   "metadata": {},
   "outputs": [
    {
     "data": {
      "text/plain": [
       "fit_time       18.121189\n",
       "score_time      0.007988\n",
       "test_score      0.996104\n",
       "train_score     0.999893\n",
       "dtype: float64"
      ]
     },
     "execution_count": 103,
     "metadata": {},
     "output_type": "execute_result"
    }
   ],
   "source": [
    "df_scores.mean()"
   ]
  },
  {
   "cell_type": "code",
   "execution_count": 104,
   "metadata": {
    "scrolled": true
   },
   "outputs": [
    {
     "data": {
      "text/html": [
       "<div>\n",
       "<style scoped>\n",
       "    .dataframe tbody tr th:only-of-type {\n",
       "        vertical-align: middle;\n",
       "    }\n",
       "\n",
       "    .dataframe tbody tr th {\n",
       "        vertical-align: top;\n",
       "    }\n",
       "\n",
       "    .dataframe thead th {\n",
       "        text-align: right;\n",
       "    }\n",
       "</style>\n",
       "<table border=\"1\" class=\"dataframe\">\n",
       "  <thead>\n",
       "    <tr style=\"text-align: right;\">\n",
       "      <th></th>\n",
       "      <th>fit_time</th>\n",
       "      <th>score_time</th>\n",
       "      <th>test_score</th>\n",
       "      <th>train_score</th>\n",
       "    </tr>\n",
       "  </thead>\n",
       "  <tbody>\n",
       "    <tr>\n",
       "      <td>0</td>\n",
       "      <td>19.316322</td>\n",
       "      <td>0.006982</td>\n",
       "      <td>0.996845</td>\n",
       "      <td>0.999727</td>\n",
       "    </tr>\n",
       "    <tr>\n",
       "      <td>1</td>\n",
       "      <td>19.312306</td>\n",
       "      <td>0.009001</td>\n",
       "      <td>0.997690</td>\n",
       "      <td>0.999998</td>\n",
       "    </tr>\n",
       "    <tr>\n",
       "      <td>2</td>\n",
       "      <td>15.734939</td>\n",
       "      <td>0.007981</td>\n",
       "      <td>0.993775</td>\n",
       "      <td>0.999953</td>\n",
       "    </tr>\n",
       "  </tbody>\n",
       "</table>\n",
       "</div>"
      ],
      "text/plain": [
       "    fit_time  score_time  test_score  train_score\n",
       "0  19.316322    0.006982    0.996845     0.999727\n",
       "1  19.312306    0.009001    0.997690     0.999998\n",
       "2  15.734939    0.007981    0.993775     0.999953"
      ]
     },
     "execution_count": 104,
     "metadata": {},
     "output_type": "execute_result"
    },
    {
     "data": {
      "image/png": "[encoded data removed]",
      "text/plain": [
       "<Figure size 432x288 with 1 Axes>"
      ]
     },
     "metadata": {},
     "output_type": "display_data"
    }
   ],
   "source": [
    "df_scores[['train_score', 'test_score' ]].boxplot()\n",
    "df_scores"
   ]
  },
  {
   "cell_type": "markdown",
   "metadata": {},
   "source": [
    "### The result might be overly optimestic  \n",
    "\n",
    "- And it's very time consuming"
   ]
  },
  {
   "cell_type": "code",
   "execution_count": 106,
   "metadata": {},
   "outputs": [
    {
     "data": {
      "text/html": [
       "<div>\n",
       "<style scoped>\n",
       "    .dataframe tbody tr th:only-of-type {\n",
       "        vertical-align: middle;\n",
       "    }\n",
       "\n",
       "    .dataframe tbody tr th {\n",
       "        vertical-align: top;\n",
       "    }\n",
       "\n",
       "    .dataframe thead th {\n",
       "        text-align: right;\n",
       "    }\n",
       "</style>\n",
       "<table border=\"1\" class=\"dataframe\">\n",
       "  <thead>\n",
       "    <tr style=\"text-align: right;\">\n",
       "      <th></th>\n",
       "      <th>fit_time</th>\n",
       "      <th>score_time</th>\n",
       "      <th>test_score</th>\n",
       "      <th>train_score</th>\n",
       "    </tr>\n",
       "  </thead>\n",
       "  <tbody>\n",
       "    <tr>\n",
       "      <td>0</td>\n",
       "      <td>19.316322</td>\n",
       "      <td>0.006982</td>\n",
       "      <td>0.996845</td>\n",
       "      <td>0.999727</td>\n",
       "    </tr>\n",
       "    <tr>\n",
       "      <td>1</td>\n",
       "      <td>19.312306</td>\n",
       "      <td>0.009001</td>\n",
       "      <td>0.997690</td>\n",
       "      <td>0.999998</td>\n",
       "    </tr>\n",
       "    <tr>\n",
       "      <td>2</td>\n",
       "      <td>15.734939</td>\n",
       "      <td>0.007981</td>\n",
       "      <td>0.993775</td>\n",
       "      <td>0.999953</td>\n",
       "    </tr>\n",
       "  </tbody>\n",
       "</table>\n",
       "</div>"
      ],
      "text/plain": [
       "    fit_time  score_time  test_score  train_score\n",
       "0  19.316322    0.006982    0.996845     0.999727\n",
       "1  19.312306    0.009001    0.997690     0.999998\n",
       "2  15.734939    0.007981    0.993775     0.999953"
      ]
     },
     "execution_count": 106,
     "metadata": {},
     "output_type": "execute_result"
    }
   ],
   "source": [
    "scored = cross_validate(grid, X, y, cv = 3, n_jobs=-1, return_train_score=True)\n",
    "df_scores = pd.DataFrame(scores)\n",
    "df_scores"
   ]
  },
  {
   "cell_type": "markdown",
   "metadata": {},
   "source": [
    "## 4.2 Grid-searching preprocessing steps and model parameters"
   ]
  },
  {
   "cell_type": "code",
   "execution_count": 107,
   "metadata": {},
   "outputs": [],
   "source": [
    "boston = load_boston()\n",
    "X_train2, X_test2, y_train2, y_test2 = train_test_split(boston.data, boston.target, random_state=0)\n",
    "\n",
    "from sklearn.preprocessing import PolynomialFeatures\n",
    "pipe = make_pipeline(\n",
    "    StandardScaler(),\n",
    "    PolynomialFeatures(),\n",
    "    Ridge())"
   ]
  },
  {
   "cell_type": "code",
   "execution_count": 108,
   "metadata": {},
   "outputs": [],
   "source": [
    "param_grid = {'polynomialfeatures__degree': [1, 2, 3],\n",
    "              'ridge__alpha': [0.001, 0.01, 0.1, 1, 10, 100]}"
   ]
  },
  {
   "cell_type": "code",
   "execution_count": 109,
   "metadata": {},
   "outputs": [
    {
     "data": {
      "text/plain": [
       "GridSearchCV(cv=5, error_score=nan,\n",
       "             estimator=Pipeline(memory=None,\n",
       "                                steps=[('standardscaler',\n",
       "                                        StandardScaler(copy=True,\n",
       "                                                       with_mean=True,\n",
       "                                                       with_std=True)),\n",
       "                                       ('polynomialfeatures',\n",
       "                                        PolynomialFeatures(degree=2,\n",
       "                                                           include_bias=True,\n",
       "                                                           interaction_only=False,\n",
       "                                                           order='C')),\n",
       "                                       ('ridge',\n",
       "                                        Ridge(alpha=1.0, copy_X=True,\n",
       "                                              fit_intercept=True, max_iter=None,\n",
       "                                              normalize=False,\n",
       "                                              random_state=None, solver='auto',\n",
       "                                              tol=0.001))],\n",
       "                                verbose=False),\n",
       "             iid='deprecated', n_jobs=-1,\n",
       "             param_grid={'polynomialfeatures__degree': [1, 2, 3],\n",
       "                         'ridge__alpha': [0.001, 0.01, 0.1, 1, 10, 100]},\n",
       "             pre_dispatch='2*n_jobs', refit=True, return_train_score=False,\n",
       "             scoring=None, verbose=0)"
      ]
     },
     "execution_count": 109,
     "metadata": {},
     "output_type": "execute_result"
    }
   ],
   "source": [
    "grid = GridSearchCV(pipe, param_grid=param_grid, cv=5, n_jobs=-1)\n",
    "grid.fit(X_train2, y_train2)"
   ]
  },
  {
   "cell_type": "code",
   "execution_count": 110,
   "metadata": {},
   "outputs": [
    {
     "data": {
      "text/plain": [
       "array([     1.        ,      0.10328   ,     25.        ,      5.13      ,\n",
       "            0.        ,      0.453     ,      5.927     ,     47.2       ,\n",
       "            6.932     ,      8.        ,    284.        ,     19.7       ,\n",
       "          396.9       ,      9.22      ,      0.01066676,      2.582     ,\n",
       "            0.5298264 ,      0.        ,      0.04678584,      0.61214056,\n",
       "            4.874816  ,      0.71593696,      0.82624   ,     29.33152   ,\n",
       "            2.034616  ,     40.991832  ,      0.9522416 ,    625.        ,\n",
       "          128.25      ,      0.        ,     11.325     ,    148.175     ,\n",
       "         1180.        ,    173.3       ,    200.        ,   7100.        ,\n",
       "          492.5       ,   9922.5       ,    230.5       ,     26.3169    ,\n",
       "            0.        ,      2.32389   ,     30.40551   ,    242.136     ,\n",
       "           35.56116   ,     41.04      ,   1456.92      ,    101.061     ,\n",
       "         2036.097     ,     47.2986    ,      0.        ,      0.        ,\n",
       "            0.        ,      0.        ,      0.        ,      0.        ,\n",
       "            0.        ,      0.        ,      0.        ,      0.        ,\n",
       "            0.205209  ,      2.684931  ,     21.3816    ,      3.140196  ,\n",
       "            3.624     ,    128.652     ,      8.9241    ,    179.7957    ,\n",
       "            4.17666   ,     35.129329  ,    279.7544    ,     41.085964  ,\n",
       "           47.416     ,   1683.268     ,    116.7619    ,   2352.4263    ,\n",
       "           54.64694   ,   2227.84      ,    327.1904    ,    377.6       ,\n",
       "        13404.8       ,    929.84      ,  18733.68      ,    435.184     ,\n",
       "           48.052624  ,     55.456     ,   1968.688     ,    136.5604    ,\n",
       "         2751.3108    ,     63.91304   ,     64.        ,   2272.        ,\n",
       "          157.6       ,   3175.2       ,     73.76      ,  80656.        ,\n",
       "         5594.8       , 112719.6       ,   2618.48      ,    388.09      ,\n",
       "         7818.93      ,    181.634     , 157529.61      ,   3659.418     ,\n",
       "           85.0084    ])"
      ]
     },
     "execution_count": 110,
     "metadata": {},
     "output_type": "execute_result"
    }
   ],
   "source": [
    "pipe.fit(X_train2, y_train2)\n",
    "pipe.named_steps['polynomialfeatures'].transform(X_train2)[1]"
   ]
  },
  {
   "cell_type": "code",
   "execution_count": 111,
   "metadata": {},
   "outputs": [
    {
     "data": {
      "text/plain": [
       "array([   0.72191576,    0.72191928,    0.72195409,    0.72226561,\n",
       "          0.72332595,    0.70795164,    0.76017083,    0.75944841,\n",
       "          0.76665145,    0.79496682,    0.82872614,    0.80483266,\n",
       "       -581.09520245, -160.89875061,  -13.19728585,   -0.03179335,\n",
       "          0.64834057,    0.65408303])"
      ]
     },
     "execution_count": 111,
     "metadata": {},
     "output_type": "execute_result"
    }
   ],
   "source": [
    "grid.cv_results_['mean_test_score']"
   ]
  },
  {
   "cell_type": "code",
   "execution_count": 112,
   "metadata": {},
   "outputs": [
    {
     "data": {
      "text/plain": [
       "{'polynomialfeatures__degree': 2, 'ridge__alpha': 10}"
      ]
     },
     "execution_count": 112,
     "metadata": {},
     "output_type": "execute_result"
    }
   ],
   "source": [
    "grid.best_params_"
   ]
  },
  {
   "cell_type": "markdown",
   "metadata": {},
   "source": [
    "# <font color='red'>**Attention!**</font>\n",
    "\n",
    "These info above is for train set(even `mean_test_score` is for cross validation fold in train set) because upto here we've never given test data to the model! "
   ]
  },
  {
   "cell_type": "markdown",
   "metadata": {},
   "source": [
    "### We had 18 combination of parameters in grid\n",
    "\n",
    "- 3 for degree, 6 for $alpha$"
   ]
  },
  {
   "cell_type": "code",
   "execution_count": 113,
   "metadata": {},
   "outputs": [
    {
     "data": {
      "text/plain": [
       "<matplotlib.collections.PolyCollection at 0x1dc92d49d88>"
      ]
     },
     "execution_count": 113,
     "metadata": {},
     "output_type": "execute_result"
    },
    {
     "data": {
      "image/png": "[encoded data removed]",
      "text/plain": [
       "<Figure size 432x288 with 1 Axes>"
      ]
     },
     "metadata": {},
     "output_type": "display_data"
    }
   ],
   "source": [
    "mglearn.tools.heatmap(grid.cv_results_['mean_test_score'].reshape(3, -1),\n",
    "                      xlabel=\"ridge__alpha\", ylabel=\"polynomialfeatures__degree\",\n",
    "                      xticklabels=param_grid['ridge__alpha'],\n",
    "                      yticklabels=param_grid['polynomialfeatures__degree'], vmin=0)"
   ]
  },
  {
   "cell_type": "markdown",
   "metadata": {},
   "source": [
    "### The best one is 0.83 which is in the middle so no need to change the range of parameters"
   ]
  },
  {
   "cell_type": "code",
   "execution_count": 114,
   "metadata": {},
   "outputs": [
    {
     "name": "stdout",
     "output_type": "stream",
     "text": [
      "Best parameters: {'polynomialfeatures__degree': 2, 'ridge__alpha': 10}\n"
     ]
    }
   ],
   "source": [
    "print(\"Best parameters: {}\".format(grid.best_params_))"
   ]
  },
  {
   "cell_type": "code",
   "execution_count": 115,
   "metadata": {},
   "outputs": [
    {
     "name": "stdout",
     "output_type": "stream",
     "text": [
      "Test-set score: 0.77\n"
     ]
    }
   ],
   "source": [
    "print(\"Test-set score: {:.2f}\".format(grid.score(X_test2, y_test2)))"
   ]
  },
  {
   "cell_type": "markdown",
   "metadata": {},
   "source": [
    "### How about no polynomial features?"
   ]
  },
  {
   "cell_type": "code",
   "execution_count": 116,
   "metadata": {},
   "outputs": [
    {
     "name": "stdout",
     "output_type": "stream",
     "text": [
      "Score without poly features: 0.63\n"
     ]
    }
   ],
   "source": [
    "param_grid = {'ridge__alpha': [0.001, 0.01, 0.1, 1, 10, 100]}\n",
    "pipe = make_pipeline(StandardScaler(), Ridge())\n",
    "grid = GridSearchCV(pipe, param_grid, cv=5, n_jobs=-1)\n",
    "grid.fit(X_train2, y_train2)\n",
    "print(\"Score without poly features: {:.2f}\".format(grid.score(X_test2, y_test2)))"
   ]
  },
  {
   "cell_type": "markdown",
   "metadata": {},
   "source": [
    "scored = cross_validate(grid, X, y, cv = 3, n_jobs=-1, return_train_score=True)\n",
    "df_scores = pd.DataFrame(scores)\n",
    "df_scores"
   ]
  },
  {
   "cell_type": "markdown",
   "metadata": {},
   "source": [
    "###  Exercise\n",
    "\n"
   ]
  },
  {
   "cell_type": "markdown",
   "metadata": {},
   "source": [
    "### Let's first try SVM\n",
    "\n",
    "- Note that `LinearSVM` doesn't support `roc_auc` so we have to use `SVC` and set `probability=True`  "
   ]
  },
  {
   "cell_type": "code",
   "execution_count": 117,
   "metadata": {},
   "outputs": [
    {
     "data": {
      "text/plain": [
       "GridSearchCV(cv=3, error_score=nan,\n",
       "             estimator=Pipeline(memory=None,\n",
       "                                steps=[('standardscaler',\n",
       "                                        StandardScaler(copy=True,\n",
       "                                                       with_mean=True,\n",
       "                                                       with_std=True)),\n",
       "                                       ('svc',\n",
       "                                        SVC(C=1.0, break_ties=False,\n",
       "                                            cache_size=200, class_weight=None,\n",
       "                                            coef0=0.0,\n",
       "                                            decision_function_shape='ovr',\n",
       "                                            degree=3, gamma='scale',\n",
       "                                            kernel='rbf', max_iter=-1,\n",
       "                                            probability=True, random_state=None,\n",
       "                                            shrinking=True...\n",
       "                                            verbose=False))],\n",
       "                                verbose=False),\n",
       "             iid='deprecated', n_jobs=-1,\n",
       "             param_grid=({'standardscaler': [MinMaxScaler(copy=True,\n",
       "                                                          feature_range=(0, 1)),\n",
       "                                             RobustScaler(copy=True,\n",
       "                                                          quantile_range=(25.0,\n",
       "                                                                          75.0),\n",
       "                                                          with_centering=True,\n",
       "                                                          with_scaling=True)],\n",
       "                          'svc__C': [10, 20, 50],\n",
       "                          'svc__gamma': [0.008, 0.01, 0.1]},),\n",
       "             pre_dispatch='2*n_jobs', refit=True, return_train_score=True,\n",
       "             scoring='roc_auc', verbose=0)"
      ]
     },
     "execution_count": 117,
     "metadata": {},
     "output_type": "execute_result"
    }
   ],
   "source": [
    "from sklearn.model_selection import GridSearchCV, cross_validate\n",
    "from sklearn.svm import SVC\n",
    "from sklearn.preprocessing import RobustScaler\n",
    "\n",
    "pipe_b = make_pipeline(StandardScaler(), SVC(probability=True) )\n",
    "\n",
    "param_grid = { 'standardscaler' : [MinMaxScaler(), RobustScaler()],\n",
    "              'svc__C' : [ 10, 20, 50],\n",
    "              'svc__gamma' : [0.008,0.01, 0.1]}, \n",
    "grid_b = GridSearchCV( pipe_b, param_grid, cv = 3, n_jobs=-1, return_train_score = True ,scoring= 'roc_auc' )\n",
    "grid_b.fit(X_train_b, y_train_b)"
   ]
  },
  {
   "cell_type": "markdown",
   "metadata": {},
   "source": [
    "### Reuse the previous pipeline for the breast dataset and make a grid-search to evaluate the difference between a `hinge` and `log` loss. Besides, fine-tune the `penalty`."
   ]
  },
  {
   "cell_type": "code",
   "execution_count": 118,
   "metadata": {},
   "outputs": [],
   "source": [
    "pipe_b1 = make_pipeline( StandardScaler(), PolynomialFeatures(degree = 2), SGDClassifier())"
   ]
  },
  {
   "cell_type": "code",
   "execution_count": 119,
   "metadata": {},
   "outputs": [
    {
     "data": {
      "text/html": [
       "<div>\n",
       "<style scoped>\n",
       "    .dataframe tbody tr th:only-of-type {\n",
       "        vertical-align: middle;\n",
       "    }\n",
       "\n",
       "    .dataframe tbody tr th {\n",
       "        vertical-align: top;\n",
       "    }\n",
       "\n",
       "    .dataframe thead th {\n",
       "        text-align: right;\n",
       "    }\n",
       "</style>\n",
       "<table border=\"1\" class=\"dataframe\">\n",
       "  <thead>\n",
       "    <tr style=\"text-align: right;\">\n",
       "      <th></th>\n",
       "      <th>mean_fit_time</th>\n",
       "      <th>std_fit_time</th>\n",
       "      <th>mean_score_time</th>\n",
       "      <th>std_score_time</th>\n",
       "      <th>param_standardscaler</th>\n",
       "      <th>param_svc__C</th>\n",
       "      <th>param_svc__gamma</th>\n",
       "      <th>params</th>\n",
       "      <th>split0_test_score</th>\n",
       "      <th>split1_test_score</th>\n",
       "      <th>split2_test_score</th>\n",
       "      <th>mean_test_score</th>\n",
       "      <th>std_test_score</th>\n",
       "      <th>split0_train_score</th>\n",
       "      <th>split1_train_score</th>\n",
       "      <th>split2_train_score</th>\n",
       "      <th>mean_train_score</th>\n",
       "      <th>std_train_score</th>\n",
       "    </tr>\n",
       "    <tr>\n",
       "      <th>rank_test_score</th>\n",
       "      <th></th>\n",
       "      <th></th>\n",
       "      <th></th>\n",
       "      <th></th>\n",
       "      <th></th>\n",
       "      <th></th>\n",
       "      <th></th>\n",
       "      <th></th>\n",
       "      <th></th>\n",
       "      <th></th>\n",
       "      <th></th>\n",
       "      <th></th>\n",
       "      <th></th>\n",
       "      <th></th>\n",
       "      <th></th>\n",
       "      <th></th>\n",
       "      <th></th>\n",
       "      <th></th>\n",
       "    </tr>\n",
       "  </thead>\n",
       "  <tbody>\n",
       "    <tr>\n",
       "      <td>1</td>\n",
       "      <td>0.018284</td>\n",
       "      <td>1.316370e-02</td>\n",
       "      <td>0.002327</td>\n",
       "      <td>1.243667e-03</td>\n",
       "      <td>MinMaxScaler(copy=True, feature_range=(0, 1))</td>\n",
       "      <td>20</td>\n",
       "      <td>0.01</td>\n",
       "      <td>{'standardscaler': MinMaxScaler(copy=True, fea...</td>\n",
       "      <td>0.994169</td>\n",
       "      <td>0.992530</td>\n",
       "      <td>0.999754</td>\n",
       "      <td>0.995484</td>\n",
       "      <td>0.003092</td>\n",
       "      <td>0.994949</td>\n",
       "      <td>0.998656</td>\n",
       "      <td>0.992621</td>\n",
       "      <td>0.995409</td>\n",
       "      <td>0.002485</td>\n",
       "    </tr>\n",
       "    <tr>\n",
       "      <td>2</td>\n",
       "      <td>0.009309</td>\n",
       "      <td>1.244304e-03</td>\n",
       "      <td>0.002327</td>\n",
       "      <td>4.710332e-04</td>\n",
       "      <td>MinMaxScaler(copy=True, feature_range=(0, 1))</td>\n",
       "      <td>10</td>\n",
       "      <td>0.01</td>\n",
       "      <td>{'standardscaler': MinMaxScaler(copy=True, fea...</td>\n",
       "      <td>0.993440</td>\n",
       "      <td>0.992771</td>\n",
       "      <td>0.999754</td>\n",
       "      <td>0.995322</td>\n",
       "      <td>0.003146</td>\n",
       "      <td>0.994584</td>\n",
       "      <td>0.997984</td>\n",
       "      <td>0.990988</td>\n",
       "      <td>0.994519</td>\n",
       "      <td>0.002856</td>\n",
       "    </tr>\n",
       "    <tr>\n",
       "      <td>3</td>\n",
       "      <td>0.007643</td>\n",
       "      <td>9.430895e-04</td>\n",
       "      <td>0.002327</td>\n",
       "      <td>4.704713e-04</td>\n",
       "      <td>MinMaxScaler(copy=True, feature_range=(0, 1))</td>\n",
       "      <td>20</td>\n",
       "      <td>0.008</td>\n",
       "      <td>{'standardscaler': MinMaxScaler(copy=True, fea...</td>\n",
       "      <td>0.993197</td>\n",
       "      <td>0.993012</td>\n",
       "      <td>0.999508</td>\n",
       "      <td>0.995239</td>\n",
       "      <td>0.003020</td>\n",
       "      <td>0.995071</td>\n",
       "      <td>0.998717</td>\n",
       "      <td>0.992379</td>\n",
       "      <td>0.995389</td>\n",
       "      <td>0.002597</td>\n",
       "    </tr>\n",
       "    <tr>\n",
       "      <td>4</td>\n",
       "      <td>0.009639</td>\n",
       "      <td>1.250819e-03</td>\n",
       "      <td>0.002988</td>\n",
       "      <td>3.146965e-06</td>\n",
       "      <td>MinMaxScaler(copy=True, feature_range=(0, 1))</td>\n",
       "      <td>10</td>\n",
       "      <td>0.008</td>\n",
       "      <td>{'standardscaler': MinMaxScaler(copy=True, fea...</td>\n",
       "      <td>0.992954</td>\n",
       "      <td>0.992530</td>\n",
       "      <td>0.999508</td>\n",
       "      <td>0.994998</td>\n",
       "      <td>0.003194</td>\n",
       "      <td>0.994280</td>\n",
       "      <td>0.997556</td>\n",
       "      <td>0.990746</td>\n",
       "      <td>0.994194</td>\n",
       "      <td>0.002781</td>\n",
       "    </tr>\n",
       "    <tr>\n",
       "      <td>5</td>\n",
       "      <td>0.006981</td>\n",
       "      <td>8.141016e-04</td>\n",
       "      <td>0.001997</td>\n",
       "      <td>3.104532e-06</td>\n",
       "      <td>MinMaxScaler(copy=True, feature_range=(0, 1))</td>\n",
       "      <td>50</td>\n",
       "      <td>0.008</td>\n",
       "      <td>{'standardscaler': MinMaxScaler(copy=True, fea...</td>\n",
       "      <td>0.994655</td>\n",
       "      <td>0.989880</td>\n",
       "      <td>0.999508</td>\n",
       "      <td>0.994681</td>\n",
       "      <td>0.003931</td>\n",
       "      <td>0.995010</td>\n",
       "      <td>0.998839</td>\n",
       "      <td>0.993407</td>\n",
       "      <td>0.995752</td>\n",
       "      <td>0.002279</td>\n",
       "    </tr>\n",
       "    <tr>\n",
       "      <td>6</td>\n",
       "      <td>0.006315</td>\n",
       "      <td>4.690668e-04</td>\n",
       "      <td>0.001995</td>\n",
       "      <td>4.052337e-07</td>\n",
       "      <td>MinMaxScaler(copy=True, feature_range=(0, 1))</td>\n",
       "      <td>50</td>\n",
       "      <td>0.01</td>\n",
       "      <td>{'standardscaler': MinMaxScaler(copy=True, fea...</td>\n",
       "      <td>0.992954</td>\n",
       "      <td>0.989398</td>\n",
       "      <td>0.999262</td>\n",
       "      <td>0.993871</td>\n",
       "      <td>0.004079</td>\n",
       "      <td>0.995071</td>\n",
       "      <td>0.998961</td>\n",
       "      <td>0.993407</td>\n",
       "      <td>0.995813</td>\n",
       "      <td>0.002327</td>\n",
       "    </tr>\n",
       "    <tr>\n",
       "      <td>7</td>\n",
       "      <td>0.005653</td>\n",
       "      <td>4.708690e-04</td>\n",
       "      <td>0.001993</td>\n",
       "      <td>2.480266e-06</td>\n",
       "      <td>MinMaxScaler(copy=True, feature_range=(0, 1))</td>\n",
       "      <td>10</td>\n",
       "      <td>0.1</td>\n",
       "      <td>{'standardscaler': MinMaxScaler(copy=True, fea...</td>\n",
       "      <td>0.994169</td>\n",
       "      <td>0.987711</td>\n",
       "      <td>0.999508</td>\n",
       "      <td>0.993796</td>\n",
       "      <td>0.004823</td>\n",
       "      <td>0.995254</td>\n",
       "      <td>0.999572</td>\n",
       "      <td>0.994012</td>\n",
       "      <td>0.996279</td>\n",
       "      <td>0.002383</td>\n",
       "    </tr>\n",
       "    <tr>\n",
       "      <td>8</td>\n",
       "      <td>0.006316</td>\n",
       "      <td>1.244496e-03</td>\n",
       "      <td>0.001335</td>\n",
       "      <td>4.776082e-04</td>\n",
       "      <td>MinMaxScaler(copy=True, feature_range=(0, 1))</td>\n",
       "      <td>20</td>\n",
       "      <td>0.1</td>\n",
       "      <td>{'standardscaler': MinMaxScaler(copy=True, fea...</td>\n",
       "      <td>0.994169</td>\n",
       "      <td>0.987229</td>\n",
       "      <td>0.999262</td>\n",
       "      <td>0.993553</td>\n",
       "      <td>0.004932</td>\n",
       "      <td>0.995984</td>\n",
       "      <td>0.999572</td>\n",
       "      <td>0.994556</td>\n",
       "      <td>0.996704</td>\n",
       "      <td>0.002110</td>\n",
       "    </tr>\n",
       "    <tr>\n",
       "      <td>9</td>\n",
       "      <td>0.005651</td>\n",
       "      <td>9.406616e-04</td>\n",
       "      <td>0.011636</td>\n",
       "      <td>1.363445e-02</td>\n",
       "      <td>MinMaxScaler(copy=True, feature_range=(0, 1))</td>\n",
       "      <td>50</td>\n",
       "      <td>0.1</td>\n",
       "      <td>{'standardscaler': MinMaxScaler(copy=True, fea...</td>\n",
       "      <td>0.993440</td>\n",
       "      <td>0.986988</td>\n",
       "      <td>0.998525</td>\n",
       "      <td>0.992984</td>\n",
       "      <td>0.004721</td>\n",
       "      <td>0.997140</td>\n",
       "      <td>0.999694</td>\n",
       "      <td>0.996250</td>\n",
       "      <td>0.997695</td>\n",
       "      <td>0.001460</td>\n",
       "    </tr>\n",
       "    <tr>\n",
       "      <td>10</td>\n",
       "      <td>0.011303</td>\n",
       "      <td>9.410005e-04</td>\n",
       "      <td>0.002993</td>\n",
       "      <td>8.171188e-04</td>\n",
       "      <td>RobustScaler(copy=True, quantile_range=(25.0, ...</td>\n",
       "      <td>10</td>\n",
       "      <td>0.008</td>\n",
       "      <td>{'standardscaler': RobustScaler(copy=True, qua...</td>\n",
       "      <td>0.992711</td>\n",
       "      <td>0.986988</td>\n",
       "      <td>0.998279</td>\n",
       "      <td>0.992659</td>\n",
       "      <td>0.004610</td>\n",
       "      <td>0.997931</td>\n",
       "      <td>0.999694</td>\n",
       "      <td>0.996794</td>\n",
       "      <td>0.998140</td>\n",
       "      <td>0.001193</td>\n",
       "    </tr>\n",
       "    <tr>\n",
       "      <td>11</td>\n",
       "      <td>0.012301</td>\n",
       "      <td>9.394814e-04</td>\n",
       "      <td>0.001663</td>\n",
       "      <td>4.704150e-04</td>\n",
       "      <td>RobustScaler(copy=True, quantile_range=(25.0, ...</td>\n",
       "      <td>10</td>\n",
       "      <td>0.01</td>\n",
       "      <td>{'standardscaler': RobustScaler(copy=True, qua...</td>\n",
       "      <td>0.992225</td>\n",
       "      <td>0.986747</td>\n",
       "      <td>0.998279</td>\n",
       "      <td>0.992417</td>\n",
       "      <td>0.004710</td>\n",
       "      <td>0.998235</td>\n",
       "      <td>0.999694</td>\n",
       "      <td>0.997460</td>\n",
       "      <td>0.998463</td>\n",
       "      <td>0.000926</td>\n",
       "    </tr>\n",
       "    <tr>\n",
       "      <td>12</td>\n",
       "      <td>0.010971</td>\n",
       "      <td>4.495664e-07</td>\n",
       "      <td>0.001330</td>\n",
       "      <td>4.698531e-04</td>\n",
       "      <td>RobustScaler(copy=True, quantile_range=(25.0, ...</td>\n",
       "      <td>20</td>\n",
       "      <td>0.008</td>\n",
       "      <td>{'standardscaler': RobustScaler(copy=True, qua...</td>\n",
       "      <td>0.992468</td>\n",
       "      <td>0.986506</td>\n",
       "      <td>0.995820</td>\n",
       "      <td>0.991598</td>\n",
       "      <td>0.003852</td>\n",
       "      <td>0.998600</td>\n",
       "      <td>0.999756</td>\n",
       "      <td>0.998306</td>\n",
       "      <td>0.998887</td>\n",
       "      <td>0.000625</td>\n",
       "    </tr>\n",
       "    <tr>\n",
       "      <td>13</td>\n",
       "      <td>0.014627</td>\n",
       "      <td>5.234464e-03</td>\n",
       "      <td>0.001995</td>\n",
       "      <td>1.946680e-07</td>\n",
       "      <td>RobustScaler(copy=True, quantile_range=(25.0, ...</td>\n",
       "      <td>20</td>\n",
       "      <td>0.01</td>\n",
       "      <td>{'standardscaler': RobustScaler(copy=True, qua...</td>\n",
       "      <td>0.992711</td>\n",
       "      <td>0.985542</td>\n",
       "      <td>0.996312</td>\n",
       "      <td>0.991522</td>\n",
       "      <td>0.004476</td>\n",
       "      <td>0.999696</td>\n",
       "      <td>0.999817</td>\n",
       "      <td>0.998669</td>\n",
       "      <td>0.999394</td>\n",
       "      <td>0.000515</td>\n",
       "    </tr>\n",
       "    <tr>\n",
       "      <td>14</td>\n",
       "      <td>0.012631</td>\n",
       "      <td>4.706406e-04</td>\n",
       "      <td>0.001995</td>\n",
       "      <td>8.147828e-04</td>\n",
       "      <td>RobustScaler(copy=True, quantile_range=(25.0, ...</td>\n",
       "      <td>50</td>\n",
       "      <td>0.008</td>\n",
       "      <td>{'standardscaler': RobustScaler(copy=True, qua...</td>\n",
       "      <td>0.990039</td>\n",
       "      <td>0.983373</td>\n",
       "      <td>0.994591</td>\n",
       "      <td>0.989334</td>\n",
       "      <td>0.004606</td>\n",
       "      <td>1.000000</td>\n",
       "      <td>0.999939</td>\n",
       "      <td>0.999879</td>\n",
       "      <td>0.999939</td>\n",
       "      <td>0.000049</td>\n",
       "    </tr>\n",
       "    <tr>\n",
       "      <td>15</td>\n",
       "      <td>0.019282</td>\n",
       "      <td>1.880930e-03</td>\n",
       "      <td>0.002327</td>\n",
       "      <td>4.692911e-04</td>\n",
       "      <td>RobustScaler(copy=True, quantile_range=(25.0, ...</td>\n",
       "      <td>10</td>\n",
       "      <td>0.1</td>\n",
       "      <td>{'standardscaler': RobustScaler(copy=True, qua...</td>\n",
       "      <td>0.984937</td>\n",
       "      <td>0.988193</td>\n",
       "      <td>0.994345</td>\n",
       "      <td>0.989158</td>\n",
       "      <td>0.003901</td>\n",
       "      <td>1.000000</td>\n",
       "      <td>1.000000</td>\n",
       "      <td>1.000000</td>\n",
       "      <td>1.000000</td>\n",
       "      <td>0.000000</td>\n",
       "    </tr>\n",
       "    <tr>\n",
       "      <td>15</td>\n",
       "      <td>0.023936</td>\n",
       "      <td>5.339592e-03</td>\n",
       "      <td>0.002327</td>\n",
       "      <td>4.710332e-04</td>\n",
       "      <td>RobustScaler(copy=True, quantile_range=(25.0, ...</td>\n",
       "      <td>20</td>\n",
       "      <td>0.1</td>\n",
       "      <td>{'standardscaler': RobustScaler(copy=True, qua...</td>\n",
       "      <td>0.984937</td>\n",
       "      <td>0.988193</td>\n",
       "      <td>0.994345</td>\n",
       "      <td>0.989158</td>\n",
       "      <td>0.003901</td>\n",
       "      <td>1.000000</td>\n",
       "      <td>1.000000</td>\n",
       "      <td>1.000000</td>\n",
       "      <td>1.000000</td>\n",
       "      <td>0.000000</td>\n",
       "    </tr>\n",
       "    <tr>\n",
       "      <td>15</td>\n",
       "      <td>0.026928</td>\n",
       "      <td>1.154501e-02</td>\n",
       "      <td>0.002327</td>\n",
       "      <td>4.700781e-04</td>\n",
       "      <td>RobustScaler(copy=True, quantile_range=(25.0, ...</td>\n",
       "      <td>50</td>\n",
       "      <td>0.1</td>\n",
       "      <td>{'standardscaler': RobustScaler(copy=True, qua...</td>\n",
       "      <td>0.984937</td>\n",
       "      <td>0.988193</td>\n",
       "      <td>0.994345</td>\n",
       "      <td>0.989158</td>\n",
       "      <td>0.003901</td>\n",
       "      <td>1.000000</td>\n",
       "      <td>1.000000</td>\n",
       "      <td>1.000000</td>\n",
       "      <td>1.000000</td>\n",
       "      <td>0.000000</td>\n",
       "    </tr>\n",
       "    <tr>\n",
       "      <td>18</td>\n",
       "      <td>0.010970</td>\n",
       "      <td>8.147827e-04</td>\n",
       "      <td>0.001995</td>\n",
       "      <td>4.899036e-07</td>\n",
       "      <td>RobustScaler(copy=True, quantile_range=(25.0, ...</td>\n",
       "      <td>50</td>\n",
       "      <td>0.01</td>\n",
       "      <td>{'standardscaler': RobustScaler(copy=True, qua...</td>\n",
       "      <td>0.987852</td>\n",
       "      <td>0.983373</td>\n",
       "      <td>0.993607</td>\n",
       "      <td>0.988278</td>\n",
       "      <td>0.004189</td>\n",
       "      <td>1.000000</td>\n",
       "      <td>1.000000</td>\n",
       "      <td>1.000000</td>\n",
       "      <td>1.000000</td>\n",
       "      <td>0.000000</td>\n",
       "    </tr>\n",
       "  </tbody>\n",
       "</table>\n",
       "</div>"
      ],
      "text/plain": [
       "                 mean_fit_time  std_fit_time  mean_score_time  std_score_time  \\\n",
       "rank_test_score                                                                 \n",
       "1                     0.018284  1.316370e-02         0.002327    1.243667e-03   \n",
       "2                     0.009309  1.244304e-03         0.002327    4.710332e-04   \n",
       "3                     0.007643  9.430895e-04         0.002327    4.704713e-04   \n",
       "4                     0.009639  1.250819e-03         0.002988    3.146965e-06   \n",
       "5                     0.006981  8.141016e-04         0.001997    3.104532e-06   \n",
       "6                     0.006315  4.690668e-04         0.001995    4.052337e-07   \n",
       "7                     0.005653  4.708690e-04         0.001993    2.480266e-06   \n",
       "8                     0.006316  1.244496e-03         0.001335    4.776082e-04   \n",
       "9                     0.005651  9.406616e-04         0.011636    1.363445e-02   \n",
       "10                    0.011303  9.410005e-04         0.002993    8.171188e-04   \n",
       "11                    0.012301  9.394814e-04         0.001663    4.704150e-04   \n",
       "12                    0.010971  4.495664e-07         0.001330    4.698531e-04   \n",
       "13                    0.014627  5.234464e-03         0.001995    1.946680e-07   \n",
       "14                    0.012631  4.706406e-04         0.001995    8.147828e-04   \n",
       "15                    0.019282  1.880930e-03         0.002327    4.692911e-04   \n",
       "15                    0.023936  5.339592e-03         0.002327    4.710332e-04   \n",
       "15                    0.026928  1.154501e-02         0.002327    4.700781e-04   \n",
       "18                    0.010970  8.147827e-04         0.001995    4.899036e-07   \n",
       "\n",
       "                                              param_standardscaler  \\\n",
       "rank_test_score                                                      \n",
       "1                    MinMaxScaler(copy=True, feature_range=(0, 1))   \n",
       "2                    MinMaxScaler(copy=True, feature_range=(0, 1))   \n",
       "3                    MinMaxScaler(copy=True, feature_range=(0, 1))   \n",
       "4                    MinMaxScaler(copy=True, feature_range=(0, 1))   \n",
       "5                    MinMaxScaler(copy=True, feature_range=(0, 1))   \n",
       "6                    MinMaxScaler(copy=True, feature_range=(0, 1))   \n",
       "7                    MinMaxScaler(copy=True, feature_range=(0, 1))   \n",
       "8                    MinMaxScaler(copy=True, feature_range=(0, 1))   \n",
       "9                    MinMaxScaler(copy=True, feature_range=(0, 1))   \n",
       "10               RobustScaler(copy=True, quantile_range=(25.0, ...   \n",
       "11               RobustScaler(copy=True, quantile_range=(25.0, ...   \n",
       "12               RobustScaler(copy=True, quantile_range=(25.0, ...   \n",
       "13               RobustScaler(copy=True, quantile_range=(25.0, ...   \n",
       "14               RobustScaler(copy=True, quantile_range=(25.0, ...   \n",
       "15               RobustScaler(copy=True, quantile_range=(25.0, ...   \n",
       "15               RobustScaler(copy=True, quantile_range=(25.0, ...   \n",
       "15               RobustScaler(copy=True, quantile_range=(25.0, ...   \n",
       "18               RobustScaler(copy=True, quantile_range=(25.0, ...   \n",
       "\n",
       "                param_svc__C param_svc__gamma  \\\n",
       "rank_test_score                                 \n",
       "1                         20             0.01   \n",
       "2                         10             0.01   \n",
       "3                         20            0.008   \n",
       "4                         10            0.008   \n",
       "5                         50            0.008   \n",
       "6                         50             0.01   \n",
       "7                         10              0.1   \n",
       "8                         20              0.1   \n",
       "9                         50              0.1   \n",
       "10                        10            0.008   \n",
       "11                        10             0.01   \n",
       "12                        20            0.008   \n",
       "13                        20             0.01   \n",
       "14                        50            0.008   \n",
       "15                        10              0.1   \n",
       "15                        20              0.1   \n",
       "15                        50              0.1   \n",
       "18                        50             0.01   \n",
       "\n",
       "                                                            params  \\\n",
       "rank_test_score                                                      \n",
       "1                {'standardscaler': MinMaxScaler(copy=True, fea...   \n",
       "2                {'standardscaler': MinMaxScaler(copy=True, fea...   \n",
       "3                {'standardscaler': MinMaxScaler(copy=True, fea...   \n",
       "4                {'standardscaler': MinMaxScaler(copy=True, fea...   \n",
       "5                {'standardscaler': MinMaxScaler(copy=True, fea...   \n",
       "6                {'standardscaler': MinMaxScaler(copy=True, fea...   \n",
       "7                {'standardscaler': MinMaxScaler(copy=True, fea...   \n",
       "8                {'standardscaler': MinMaxScaler(copy=True, fea...   \n",
       "9                {'standardscaler': MinMaxScaler(copy=True, fea...   \n",
       "10               {'standardscaler': RobustScaler(copy=True, qua...   \n",
       "11               {'standardscaler': RobustScaler(copy=True, qua...   \n",
       "12               {'standardscaler': RobustScaler(copy=True, qua...   \n",
       "13               {'standardscaler': RobustScaler(copy=True, qua...   \n",
       "14               {'standardscaler': RobustScaler(copy=True, qua...   \n",
       "15               {'standardscaler': RobustScaler(copy=True, qua...   \n",
       "15               {'standardscaler': RobustScaler(copy=True, qua...   \n",
       "15               {'standardscaler': RobustScaler(copy=True, qua...   \n",
       "18               {'standardscaler': RobustScaler(copy=True, qua...   \n",
       "\n",
       "                 split0_test_score  split1_test_score  split2_test_score  \\\n",
       "rank_test_score                                                            \n",
       "1                         0.994169           0.992530           0.999754   \n",
       "2                         0.993440           0.992771           0.999754   \n",
       "3                         0.993197           0.993012           0.999508   \n",
       "4                         0.992954           0.992530           0.999508   \n",
       "5                         0.994655           0.989880           0.999508   \n",
       "6                         0.992954           0.989398           0.999262   \n",
       "7                         0.994169           0.987711           0.999508   \n",
       "8                         0.994169           0.987229           0.999262   \n",
       "9                         0.993440           0.986988           0.998525   \n",
       "10                        0.992711           0.986988           0.998279   \n",
       "11                        0.992225           0.986747           0.998279   \n",
       "12                        0.992468           0.986506           0.995820   \n",
       "13                        0.992711           0.985542           0.996312   \n",
       "14                        0.990039           0.983373           0.994591   \n",
       "15                        0.984937           0.988193           0.994345   \n",
       "15                        0.984937           0.988193           0.994345   \n",
       "15                        0.984937           0.988193           0.994345   \n",
       "18                        0.987852           0.983373           0.993607   \n",
       "\n",
       "                 mean_test_score  std_test_score  split0_train_score  \\\n",
       "rank_test_score                                                        \n",
       "1                       0.995484        0.003092            0.994949   \n",
       "2                       0.995322        0.003146            0.994584   \n",
       "3                       0.995239        0.003020            0.995071   \n",
       "4                       0.994998        0.003194            0.994280   \n",
       "5                       0.994681        0.003931            0.995010   \n",
       "6                       0.993871        0.004079            0.995071   \n",
       "7                       0.993796        0.004823            0.995254   \n",
       "8                       0.993553        0.004932            0.995984   \n",
       "9                       0.992984        0.004721            0.997140   \n",
       "10                      0.992659        0.004610            0.997931   \n",
       "11                      0.992417        0.004710            0.998235   \n",
       "12                      0.991598        0.003852            0.998600   \n",
       "13                      0.991522        0.004476            0.999696   \n",
       "14                      0.989334        0.004606            1.000000   \n",
       "15                      0.989158        0.003901            1.000000   \n",
       "15                      0.989158        0.003901            1.000000   \n",
       "15                      0.989158        0.003901            1.000000   \n",
       "18                      0.988278        0.004189            1.000000   \n",
       "\n",
       "                 split1_train_score  split2_train_score  mean_train_score  \\\n",
       "rank_test_score                                                             \n",
       "1                          0.998656            0.992621          0.995409   \n",
       "2                          0.997984            0.990988          0.994519   \n",
       "3                          0.998717            0.992379          0.995389   \n",
       "4                          0.997556            0.990746          0.994194   \n",
       "5                          0.998839            0.993407          0.995752   \n",
       "6                          0.998961            0.993407          0.995813   \n",
       "7                          0.999572            0.994012          0.996279   \n",
       "8                          0.999572            0.994556          0.996704   \n",
       "9                          0.999694            0.996250          0.997695   \n",
       "10                         0.999694            0.996794          0.998140   \n",
       "11                         0.999694            0.997460          0.998463   \n",
       "12                         0.999756            0.998306          0.998887   \n",
       "13                         0.999817            0.998669          0.999394   \n",
       "14                         0.999939            0.999879          0.999939   \n",
       "15                         1.000000            1.000000          1.000000   \n",
       "15                         1.000000            1.000000          1.000000   \n",
       "15                         1.000000            1.000000          1.000000   \n",
       "18                         1.000000            1.000000          1.000000   \n",
       "\n",
       "                 std_train_score  \n",
       "rank_test_score                   \n",
       "1                       0.002485  \n",
       "2                       0.002856  \n",
       "3                       0.002597  \n",
       "4                       0.002781  \n",
       "5                       0.002279  \n",
       "6                       0.002327  \n",
       "7                       0.002383  \n",
       "8                       0.002110  \n",
       "9                       0.001460  \n",
       "10                      0.001193  \n",
       "11                      0.000926  \n",
       "12                      0.000625  \n",
       "13                      0.000515  \n",
       "14                      0.000049  \n",
       "15                      0.000000  \n",
       "15                      0.000000  \n",
       "15                      0.000000  \n",
       "18                      0.000000  "
      ]
     },
     "execution_count": 119,
     "metadata": {},
     "output_type": "execute_result"
    }
   ],
   "source": [
    "param_grid = {'sgdclassifier__loss': ['hinge', 'log'],\n",
    "            'sgdclassifier__penalty' : ['l2', 'l1']}\n",
    "grid_b1 = GridSearchCV(pipe_b1, param_grid, cv = 3, return_train_score=True, n_jobs=-1)\n",
    "grid_b1.fit(X_train_b, y_train_b)\n",
    "df_grid_b1= pd.DataFrame(grid_b.cv_results_)\n",
    "df_grid_b1.sort_values(by=['rank_test_score']).set_index('rank_test_score')"
   ]
  },
  {
   "cell_type": "code",
   "execution_count": 120,
   "metadata": {},
   "outputs": [
    {
     "data": {
      "text/plain": [
       "(171, 30)"
      ]
     },
     "execution_count": 120,
     "metadata": {},
     "output_type": "execute_result"
    }
   ],
   "source": [
    "X_test_b.shape"
   ]
  },
  {
   "cell_type": "code",
   "execution_count": 121,
   "metadata": {},
   "outputs": [
    {
     "data": {
      "text/plain": [
       "{'sgdclassifier__loss': 'log', 'sgdclassifier__penalty': 'l2'}"
      ]
     },
     "execution_count": 121,
     "metadata": {},
     "output_type": "execute_result"
    }
   ],
   "source": [
    "grid_b1.best_params_"
   ]
  },
  {
   "cell_type": "markdown",
   "metadata": {},
   "source": [
    "### If we want to add loos functions in cross validate"
   ]
  },
  {
   "cell_type": "markdown",
   "metadata": {},
   "source": [
    "### Hinge Loss:\n",
    "\n",
    "`h_loss  = hinge_loss(y_test, pred_decision)`\n",
    "\n",
    "`y_pred_decision = clf.decision_function(X_test)`"
   ]
  },
  {
   "cell_type": "code",
   "execution_count": 122,
   "metadata": {},
   "outputs": [
    {
     "data": {
      "text/plain": [
       "(171,)"
      ]
     },
     "execution_count": 122,
     "metadata": {},
     "output_type": "execute_result"
    }
   ],
   "source": [
    "y_pred_decision_b = grid_b.decision_function(X_test_b)\n",
    "y_pred_decision_b.shape"
   ]
  },
  {
   "cell_type": "code",
   "execution_count": 123,
   "metadata": {},
   "outputs": [
    {
     "data": {
      "text/plain": [
       "0.1465217929416306"
      ]
     },
     "execution_count": 123,
     "metadata": {},
     "output_type": "execute_result"
    }
   ],
   "source": [
    "from sklearn.metrics import hinge_loss\n",
    "\n",
    "hinge_loss_b = hinge_loss(y_test_b, y_pred_decision_b)\n",
    "hinge_loss_b"
   ]
  },
  {
   "cell_type": "markdown",
   "metadata": {},
   "source": [
    "### Log Loss:\n",
    "\n",
    "`l_loss = log_loss(y_test, y_pred, eps=1e-15, normalize=True, sample_weight=None, labels=None)`\n",
    "\n",
    "`y_pred = clf.predict(X_test)`"
   ]
  },
  {
   "cell_type": "code",
   "execution_count": 124,
   "metadata": {},
   "outputs": [
    {
     "data": {
      "text/plain": [
       "(171,)"
      ]
     },
     "execution_count": 124,
     "metadata": {},
     "output_type": "execute_result"
    }
   ],
   "source": [
    "y_pred_b = grid_b.predict(X_test_b)\n",
    "y_pred_b.shape"
   ]
  },
  {
   "cell_type": "code",
   "execution_count": 125,
   "metadata": {},
   "outputs": [
    {
     "data": {
      "text/plain": [
       "1.41389609560793"
      ]
     },
     "execution_count": 125,
     "metadata": {},
     "output_type": "execute_result"
    }
   ],
   "source": [
    "from sklearn.metrics import log_loss\n",
    "\n",
    "log_loss_b = log_loss(y_test_b, y_pred_b)\n",
    "log_loss_b"
   ]
  },
  {
   "cell_type": "markdown",
   "metadata": {},
   "source": [
    "### Also we can add these Loss Functions into the gridsearch to rate the models based on different Loss functions"
   ]
  },
  {
   "cell_type": "code",
   "execution_count": 126,
   "metadata": {},
   "outputs": [
    {
     "data": {
      "text/html": [
       "<div>\n",
       "<style scoped>\n",
       "    .dataframe tbody tr th:only-of-type {\n",
       "        vertical-align: middle;\n",
       "    }\n",
       "\n",
       "    .dataframe tbody tr th {\n",
       "        vertical-align: top;\n",
       "    }\n",
       "\n",
       "    .dataframe thead th {\n",
       "        text-align: right;\n",
       "    }\n",
       "</style>\n",
       "<table border=\"1\" class=\"dataframe\">\n",
       "  <thead>\n",
       "    <tr style=\"text-align: right;\">\n",
       "      <th></th>\n",
       "      <th>mean_fit_time</th>\n",
       "      <th>std_fit_time</th>\n",
       "      <th>mean_score_time</th>\n",
       "      <th>std_score_time</th>\n",
       "      <th>param_sgdclassifier__loss</th>\n",
       "      <th>param_sgdclassifier__penalty</th>\n",
       "      <th>params</th>\n",
       "      <th>split0_test_Hinge Loss</th>\n",
       "      <th>split1_test_Hinge Loss</th>\n",
       "      <th>split2_test_Hinge Loss</th>\n",
       "      <th>...</th>\n",
       "      <th>split1_test_Log Loss</th>\n",
       "      <th>split2_test_Log Loss</th>\n",
       "      <th>mean_test_Log Loss</th>\n",
       "      <th>std_test_Log Loss</th>\n",
       "      <th>rank_test_Log Loss</th>\n",
       "      <th>split0_train_Log Loss</th>\n",
       "      <th>split1_train_Log Loss</th>\n",
       "      <th>split2_train_Log Loss</th>\n",
       "      <th>mean_train_Log Loss</th>\n",
       "      <th>std_train_Log Loss</th>\n",
       "    </tr>\n",
       "  </thead>\n",
       "  <tbody>\n",
       "    <tr>\n",
       "      <td>0</td>\n",
       "      <td>0.007979</td>\n",
       "      <td>0.001411</td>\n",
       "      <td>0.002660</td>\n",
       "      <td>0.000471</td>\n",
       "      <td>hinge</td>\n",
       "      <td>l2</td>\n",
       "      <td>{'sgdclassifier__loss': 'hinge', 'sgdclassifie...</td>\n",
       "      <td>0.413534</td>\n",
       "      <td>0.413534</td>\n",
       "      <td>0.401515</td>\n",
       "      <td>...</td>\n",
       "      <td>1.298480</td>\n",
       "      <td>1.046636</td>\n",
       "      <td>1.301093</td>\n",
       "      <td>0.208839</td>\n",
       "      <td>4</td>\n",
       "      <td>9.992007e-16</td>\n",
       "      <td>9.992007e-16</td>\n",
       "      <td>9.992007e-16</td>\n",
       "      <td>9.992007e-16</td>\n",
       "      <td>0.000000</td>\n",
       "    </tr>\n",
       "    <tr>\n",
       "      <td>1</td>\n",
       "      <td>0.017951</td>\n",
       "      <td>0.003732</td>\n",
       "      <td>0.002661</td>\n",
       "      <td>0.000470</td>\n",
       "      <td>hinge</td>\n",
       "      <td>l1</td>\n",
       "      <td>{'sgdclassifier__loss': 'hinge', 'sgdclassifie...</td>\n",
       "      <td>0.428571</td>\n",
       "      <td>0.406015</td>\n",
       "      <td>0.401515</td>\n",
       "      <td>...</td>\n",
       "      <td>1.038784</td>\n",
       "      <td>1.046636</td>\n",
       "      <td>1.387653</td>\n",
       "      <td>0.487833</td>\n",
       "      <td>3</td>\n",
       "      <td>9.992007e-16</td>\n",
       "      <td>9.992007e-16</td>\n",
       "      <td>9.992007e-16</td>\n",
       "      <td>9.992007e-16</td>\n",
       "      <td>0.000000</td>\n",
       "    </tr>\n",
       "    <tr>\n",
       "      <td>2</td>\n",
       "      <td>0.010638</td>\n",
       "      <td>0.000940</td>\n",
       "      <td>0.004331</td>\n",
       "      <td>0.002060</td>\n",
       "      <td>log</td>\n",
       "      <td>l2</td>\n",
       "      <td>{'sgdclassifier__loss': 'log', 'sgdclassifier_...</td>\n",
       "      <td>0.466165</td>\n",
       "      <td>0.421053</td>\n",
       "      <td>0.401515</td>\n",
       "      <td>...</td>\n",
       "      <td>1.558170</td>\n",
       "      <td>1.046636</td>\n",
       "      <td>1.993606</td>\n",
       "      <td>0.999567</td>\n",
       "      <td>1</td>\n",
       "      <td>2.606760e-01</td>\n",
       "      <td>9.992007e-16</td>\n",
       "      <td>9.992007e-16</td>\n",
       "      <td>8.689202e-02</td>\n",
       "      <td>0.122884</td>\n",
       "    </tr>\n",
       "    <tr>\n",
       "      <td>3</td>\n",
       "      <td>0.024268</td>\n",
       "      <td>0.007115</td>\n",
       "      <td>0.002328</td>\n",
       "      <td>0.000470</td>\n",
       "      <td>log</td>\n",
       "      <td>l1</td>\n",
       "      <td>{'sgdclassifier__loss': 'log', 'sgdclassifier_...</td>\n",
       "      <td>0.436090</td>\n",
       "      <td>0.413534</td>\n",
       "      <td>0.424242</td>\n",
       "      <td>...</td>\n",
       "      <td>1.298474</td>\n",
       "      <td>1.831620</td>\n",
       "      <td>1.822443</td>\n",
       "      <td>0.424122</td>\n",
       "      <td>2</td>\n",
       "      <td>9.992007e-16</td>\n",
       "      <td>9.992007e-16</td>\n",
       "      <td>9.992007e-16</td>\n",
       "      <td>9.992007e-16</td>\n",
       "      <td>0.000000</td>\n",
       "    </tr>\n",
       "  </tbody>\n",
       "</table>\n",
       "<p>4 rows × 29 columns</p>\n",
       "</div>"
      ],
      "text/plain": [
       "   mean_fit_time  std_fit_time  mean_score_time  std_score_time  \\\n",
       "0       0.007979      0.001411         0.002660        0.000471   \n",
       "1       0.017951      0.003732         0.002661        0.000470   \n",
       "2       0.010638      0.000940         0.004331        0.002060   \n",
       "3       0.024268      0.007115         0.002328        0.000470   \n",
       "\n",
       "  param_sgdclassifier__loss param_sgdclassifier__penalty  \\\n",
       "0                     hinge                           l2   \n",
       "1                     hinge                           l1   \n",
       "2                       log                           l2   \n",
       "3                       log                           l1   \n",
       "\n",
       "                                              params  split0_test_Hinge Loss  \\\n",
       "0  {'sgdclassifier__loss': 'hinge', 'sgdclassifie...                0.413534   \n",
       "1  {'sgdclassifier__loss': 'hinge', 'sgdclassifie...                0.428571   \n",
       "2  {'sgdclassifier__loss': 'log', 'sgdclassifier_...                0.466165   \n",
       "3  {'sgdclassifier__loss': 'log', 'sgdclassifier_...                0.436090   \n",
       "\n",
       "   split1_test_Hinge Loss  split2_test_Hinge Loss  ...  split1_test_Log Loss  \\\n",
       "0                0.413534                0.401515  ...              1.298480   \n",
       "1                0.406015                0.401515  ...              1.038784   \n",
       "2                0.421053                0.401515  ...              1.558170   \n",
       "3                0.413534                0.424242  ...              1.298474   \n",
       "\n",
       "   split2_test_Log Loss  mean_test_Log Loss  std_test_Log Loss  \\\n",
       "0              1.046636            1.301093           0.208839   \n",
       "1              1.046636            1.387653           0.487833   \n",
       "2              1.046636            1.993606           0.999567   \n",
       "3              1.831620            1.822443           0.424122   \n",
       "\n",
       "   rank_test_Log Loss  split0_train_Log Loss  split1_train_Log Loss  \\\n",
       "0                   4           9.992007e-16           9.992007e-16   \n",
       "1                   3           9.992007e-16           9.992007e-16   \n",
       "2                   1           2.606760e-01           9.992007e-16   \n",
       "3                   2           9.992007e-16           9.992007e-16   \n",
       "\n",
       "   split2_train_Log Loss  mean_train_Log Loss  std_train_Log Loss  \n",
       "0           9.992007e-16         9.992007e-16            0.000000  \n",
       "1           9.992007e-16         9.992007e-16            0.000000  \n",
       "2           9.992007e-16         8.689202e-02            0.122884  \n",
       "3           9.992007e-16         9.992007e-16            0.000000  \n",
       "\n",
       "[4 rows x 29 columns]"
      ]
     },
     "execution_count": 126,
     "metadata": {},
     "output_type": "execute_result"
    }
   ],
   "source": [
    "from sklearn.metrics import fbeta_score, make_scorer\n",
    "\n",
    "pipe_b1 = make_pipeline( StandardScaler(), PolynomialFeatures(degree = 2), SGDClassifier())\n",
    "\n",
    "scoring_list = {'Hinge Loss': make_scorer(hinge_loss), \n",
    "                'Log Loss': make_scorer(log_loss)}\n",
    "\n",
    "param_grid = {'sgdclassifier__loss': ['hinge', 'log'],\n",
    "              'sgdclassifier__penalty' : ['l2', 'l1']}\n",
    "\n",
    "grid_b = GridSearchCV(pipe_b1, param_grid, cv = 3, return_train_score=True, scoring = scoring_list, refit='Hinge Loss' , n_jobs=-1)\n",
    "\n",
    "grid_b.fit(X_train_b, y_train_b)\n",
    "\n",
    "df_grid_b= pd.DataFrame(grid_b.cv_results_)\n",
    "df_grid_b"
   ]
  },
  {
   "cell_type": "code",
   "execution_count": 127,
   "metadata": {},
   "outputs": [
    {
     "data": {
      "text/plain": [
       "{'sgdclassifier__loss': 'log', 'sgdclassifier__penalty': 'l2'}"
      ]
     },
     "execution_count": 127,
     "metadata": {},
     "output_type": "execute_result"
    }
   ],
   "source": [
    "grid_b1.best_params_"
   ]
  },
  {
   "cell_type": "markdown",
   "metadata": {},
   "source": [
    "## 4.3 Grid-Search to evaluate different models"
   ]
  },
  {
   "cell_type": "code",
   "execution_count": 128,
   "metadata": {},
   "outputs": [],
   "source": [
    "from sklearn.svm import SVC\n",
    "pipe = Pipeline([('preprocessing', StandardScaler()), ('classifier', SVC())])\n",
    "#Inside Pipleline is a list of tuples"
   ]
  },
  {
   "cell_type": "code",
   "execution_count": 129,
   "metadata": {},
   "outputs": [],
   "source": [
    "from sklearn.ensemble import RandomForestClassifier\n",
    "\n",
    "param_grid = [\n",
    "    {'classifier': [SVC()], \n",
    "     'preprocessing': [StandardScaler(), None],\n",
    "     'classifier__gamma': [0.001, 0.01, 0.1, 1, 10, 100],\n",
    "     'classifier__C': [0.001, 0.01, 0.1, 1, 10, 100]},\n",
    "    {'classifier': [RandomForestClassifier(n_estimators=100)],\n",
    "     'preprocessing': [None], \n",
    "     'classifier__max_features': [1, 2, 3]}]"
   ]
  },
  {
   "cell_type": "code",
   "execution_count": 130,
   "metadata": {},
   "outputs": [
    {
     "name": "stdout",
     "output_type": "stream",
     "text": [
      "Best params:\n",
      "{'classifier': SVC(C=10, break_ties=False, cache_size=200, class_weight=None, coef0=0.0,\n",
      "    decision_function_shape='ovr', degree=3, gamma=0.01, kernel='rbf',\n",
      "    max_iter=-1, probability=False, random_state=None, shrinking=True,\n",
      "    tol=0.001, verbose=False), 'classifier__C': 10, 'classifier__gamma': 0.01, 'preprocessing': StandardScaler(copy=True, with_mean=True, with_std=True)}\n",
      "\n",
      "Best cross-validation score: 0.99\n",
      "Test-set score: 0.98\n"
     ]
    }
   ],
   "source": [
    "X_breast_train, X_breast_test, y_breast_train, y_breast_test = train_test_split(X_b, y_b, random_state=0)\n",
    "\n",
    "grid = GridSearchCV(pipe, param_grid, cv=5 , n_jobs=-1 )\n",
    "grid.fit(X_breast_train, y_breast_train)\n",
    "\n",
    "print(\"Best params:\\n{}\\n\".format(grid.best_params_))\n",
    "print(\"Best cross-validation score: {:.2f}\".format(grid.best_score_))\n",
    "print(\"Test-set score: {:.2f}\".format(grid.score(X_breast_test, y_breast_test)))"
   ]
  },
  {
   "cell_type": "markdown",
   "metadata": {},
   "source": [
    "### Another Example:\n",
    "\n",
    "- gridsearch with multiple classifiers"
   ]
  },
  {
   "cell_type": "code",
   "execution_count": 131,
   "metadata": {},
   "outputs": [],
   "source": [
    "pipe = Pipeline([('preprocessing', StandardScaler() ),\n",
    "                 ('preprocessing2', PolynomialFeatures()),\n",
    "                 ('classifier', RandomForestClassifier())])\n",
    "\n",
    "# Create space of candidate learning algorithms and their hyperparameters\n",
    "search_space = [{'classifier': [LogisticRegression(solver = 'saga', max_iter = 1000)],\n",
    "                 'preprocessing': [StandardScaler(), RobustScaler()], \n",
    "                 'preprocessing2__degree' : [2,3,4],\n",
    "                 'classifier__penalty': ['l1', 'l2'],\n",
    "                 'classifier__C': np.logspace(0, 4, 10)},\n",
    "                {'classifier': [RandomForestClassifier()],\n",
    "                 'preprocessing2__degree' : [2,3,4],\n",
    "                 'classifier__n_estimators': [10, 100, 200],\n",
    "                 'classifier__max_features': [1, 2, 3]}]\n",
    "#search_space is a list of 2 elements which each element is a dictionary"
   ]
  },
  {
   "cell_type": "code",
   "execution_count": 132,
   "metadata": {},
   "outputs": [],
   "source": [
    "clf = GridSearchCV(pipe, search_space, cv=3, verbose=0 , n_jobs=-1)"
   ]
  },
  {
   "cell_type": "code",
   "execution_count": 137,
   "metadata": {},
   "outputs": [],
   "source": [
    "best_model = clf.fit(X_train_b, y_train_b)"
   ]
  },
  {
   "cell_type": "markdown",
   "metadata": {},
   "source": [
    "best_model.best_estimator_.get_params()['classifier']"
   ]
  },
  {
   "cell_type": "code",
   "execution_count": null,
   "metadata": {},
   "outputs": [],
   "source": [
    "clf.best_params_"
   ]
  },
  {
   "cell_type": "code",
   "execution_count": null,
   "metadata": {},
   "outputs": [],
   "source": [
    "df_grid_e= pd.DataFrame(best_model.cv_results_)\n",
    "df_grid_e"
   ]
  },
  {
   "cell_type": "markdown",
   "metadata": {},
   "source": [
    "### More options to choose from:"
   ]
  },
  {
   "cell_type": "code",
   "execution_count": null,
   "metadata": {},
   "outputs": [],
   "source": [
    "pipe_t = Pipeline([('preprocessing', MinMaxScaler() ),\n",
    "                 ('preprocessing2', PolynomialFeatures()),\n",
    "                  ('classifier', SVC()) ])\n",
    "\n",
    "\n",
    "param_grid = [\n",
    "    {'classifier': [SVC()],\n",
    "     'preprocessing': [StandardScaler(), RobustScaler()], \n",
    "     'preprocessing2__degree' : [2,3,4],\n",
    "     'classifier__gamma': [0.001, 0.01, 0.1, 1, 10, 100],\n",
    "     'classifier__C': [0.001, 0.01, 0.1, 1, 10, 100]},\n",
    "    {'classifier': [LogisticRegression(max_iter=1000)],\n",
    "     'preprocessing': [StandardScaler(), RobustScaler()], \n",
    "     'preprocessing2': [PolynomialFeatures()],\n",
    "     'preprocessing2__degree' : [2,3,4],\n",
    "     'classifier__C': [0.001, 0.01, 0.1, 1, 10, 100]}]\n",
    "\n",
    "grid_t = GridSearchCV(pipe_t, param_grid, cv=5, , n_jobs=-1)\n",
    "grid_t.fit(X_train_b, y_train_b)\n",
    "grid_t.best_params_"
   ]
  },
  {
   "cell_type": "markdown",
   "metadata": {},
   "source": [
    "## 5. Summary: my scikit-learn pipeline in less than 10 lines of code (skipping the import statements)"
   ]
  },
  {
   "cell_type": "code",
   "execution_count": 134,
   "metadata": {
    "scrolled": true
   },
   "outputs": [
    {
     "data": {
      "text/plain": [
       "<matplotlib.axes._subplots.AxesSubplot at 0x1dc92e0ebc8>"
      ]
     },
     "execution_count": 134,
     "metadata": {},
     "output_type": "execute_result"
    },
    {
     "data": {
      "image/png": "[encoded data removed]",
      "text/plain": [
       "<Figure size 432x288 with 1 Axes>"
      ]
     },
     "metadata": {},
     "output_type": "display_data"
    }
   ],
   "source": [
    "import pandas as pd\n",
    "from sklearn.preprocessing import MinMaxScaler, RobustScaler, StandardScaler\n",
    "from sklearn.linear_model import LogisticRegression\n",
    "from sklearn.pipeline import make_pipeline\n",
    "from sklearn.model_selection import GridSearchCV, cross_validate\n",
    "\n",
    "\n",
    "pipe = make_pipeline(MinMaxScaler(),\n",
    "                     LogisticRegression(solver='saga', multi_class='auto', random_state=42, max_iter=5000))\n",
    "\n",
    "param_grid = {'minmaxscaler': [StandardScaler(), RobustScaler() ],\n",
    "              'logisticregression__C': [0.1, 1.0, 10],\n",
    "              'logisticregression__penalty': ['l2', 'l1']}\n",
    "\n",
    "grid = GridSearchCV(pipe, param_grid=param_grid, cv=3, n_jobs=-1)\n",
    "\n",
    "scores = pd.DataFrame(cross_validate(grid, X, y, cv=3, n_jobs=-1, return_train_score=True))\n",
    "scores[['train_score', 'test_score']].boxplot()"
   ]
  },
  {
   "cell_type": "code",
   "execution_count": 135,
   "metadata": {},
   "outputs": [
    {
     "data": {
      "text/plain": [
       "GridSearchCV(cv=3, error_score=nan,\n",
       "             estimator=Pipeline(memory=None,\n",
       "                                steps=[('minmaxscaler',\n",
       "                                        MinMaxScaler(copy=True,\n",
       "                                                     feature_range=(0, 1))),\n",
       "                                       ('logisticregression',\n",
       "                                        LogisticRegression(C=1.0,\n",
       "                                                           class_weight=None,\n",
       "                                                           dual=False,\n",
       "                                                           fit_intercept=True,\n",
       "                                                           intercept_scaling=1,\n",
       "                                                           l1_ratio=None,\n",
       "                                                           max_iter=5000,\n",
       "                                                           multi_class='auto',\n",
       "                                                           n_jobs=None,\n",
       "                                                           penalty='l2',\n",
       "                                                           random_state=42,\n",
       "                                                           solver='saga',...\n",
       "             iid='deprecated', n_jobs=-1,\n",
       "             param_grid={'logisticregression__C': [0.1, 1.0, 10],\n",
       "                         'logisticregression__penalty': ['l2', 'l1'],\n",
       "                         'minmaxscaler': [StandardScaler(copy=True,\n",
       "                                                         with_mean=True,\n",
       "                                                         with_std=True),\n",
       "                                          RobustScaler(copy=True,\n",
       "                                                       quantile_range=(25.0,\n",
       "                                                                       75.0),\n",
       "                                                       with_centering=True,\n",
       "                                                       with_scaling=True)]},\n",
       "             pre_dispatch='2*n_jobs', refit=True, return_train_score=False,\n",
       "             scoring=None, verbose=0)"
      ]
     },
     "execution_count": 135,
     "metadata": {},
     "output_type": "execute_result"
    }
   ],
   "source": [
    "grid.fit(X_train, y_train)"
   ]
  },
  {
   "cell_type": "code",
   "execution_count": 136,
   "metadata": {},
   "outputs": [
    {
     "data": {
      "text/plain": [
       "{'logisticregression__C': 1.0,\n",
       " 'logisticregression__penalty': 'l2',\n",
       " 'minmaxscaler': StandardScaler(copy=True, with_mean=True, with_std=True)}"
      ]
     },
     "execution_count": 136,
     "metadata": {},
     "output_type": "execute_result"
    }
   ],
   "source": [
    "grid.best_params_"
   ]
  },
  {
   "cell_type": "code",
   "execution_count": null,
   "metadata": {},
   "outputs": [],
   "source": []
  }
 ],
 "metadata": {
  "kernelspec": {
   "display_name": "Python 3",
   "language": "python",
   "name": "python3"
  },
  "language_info": {
   "codemirror_mode": {
    "name": "ipython",
    "version": 3
   },
   "file_extension": ".py",
   "mimetype": "text/x-python",
   "name": "python",
   "nbconvert_exporter": "python",
   "pygments_lexer": "ipython3",
   "version": "3.7.4"
  }
 },
 "nbformat": 4,
 "nbformat_minor": 2
}
