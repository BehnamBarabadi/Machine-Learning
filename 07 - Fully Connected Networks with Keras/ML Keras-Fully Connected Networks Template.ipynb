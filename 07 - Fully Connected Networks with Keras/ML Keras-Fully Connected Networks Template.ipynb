{
 "cells": [
  {
   "cell_type": "markdown",
   "metadata": {},
   "source": [
    "# **Keras**\n",
    "## Fully Connected Neural Networks\n",
    "- All you need to know"
   ]
  },
  {
   "cell_type": "code",
   "execution_count": 22,
   "metadata": {},
   "outputs": [
    {
     "data": {
      "text/html": [
       "<style>.container { width:90% !important; }</style>"
      ],
      "text/plain": [
       "<IPython.core.display.HTML object>"
      ]
     },
     "metadata": {},
     "output_type": "display_data"
    }
   ],
   "source": [
    "from IPython.core.display import display, HTML\n",
    "display(HTML(\"<style>.container { width:90% !important; }</style>\"))"
   ]
  },
  {
   "cell_type": "markdown",
   "metadata": {},
   "source": [
    "### First check if GPU is active:"
   ]
  },
  {
   "cell_type": "code",
   "execution_count": 23,
   "metadata": {},
   "outputs": [],
   "source": [
    "import tensorflow as tf"
   ]
  },
  {
   "cell_type": "code",
   "execution_count": 24,
   "metadata": {},
   "outputs": [
    {
     "data": {
      "text/plain": [
       "True"
      ]
     },
     "execution_count": 24,
     "metadata": {},
     "output_type": "execute_result"
    }
   ],
   "source": [
    "tf.test.is_built_with_gpu_support()"
   ]
  },
  {
   "cell_type": "code",
   "execution_count": 25,
   "metadata": {},
   "outputs": [
    {
     "data": {
      "text/plain": [
       "[PhysicalDevice(name='/physical_device:GPU:0', device_type='GPU')]"
      ]
     },
     "execution_count": 25,
     "metadata": {},
     "output_type": "execute_result"
    }
   ],
   "source": [
    "tf.config.experimental.list_physical_devices('GPU')"
   ]
  },
  {
   "cell_type": "code",
   "execution_count": 26,
   "metadata": {},
   "outputs": [
    {
     "name": "stdout",
     "output_type": "stream",
     "text": [
      "Num GPUs Available:  1\n"
     ]
    }
   ],
   "source": [
    "print(\"Num GPUs Available: \", len(tf.config.experimental.list_physical_devices('GPU')))"
   ]
  },
  {
   "cell_type": "code",
   "execution_count": 27,
   "metadata": {},
   "outputs": [],
   "source": [
    "import numpy as np\n",
    "import matplotlib.pyplot as plt\n",
    "%matplotlib inline\n",
    "np.set_printoptions(precision=3, suppress=True)\n",
    "import pandas as pd\n",
    "from sklearn.model_selection import train_test_split, cross_val_score\n",
    "from sklearn.pipeline import make_pipeline\n",
    "from sklearn.preprocessing import scale, StandardScaler"
   ]
  },
  {
   "cell_type": "code",
   "execution_count": 28,
   "metadata": {},
   "outputs": [],
   "source": [
    "from keras.models import Sequential\n",
    "from keras.layers import Dense, Activation\n",
    "\n",
    "model = Sequential([\n",
    "    Dense(32, input_shape=(784,)),#32 neurons in the first layer,  25*25=784\n",
    "    Activation('relu'),\n",
    "    Dense(10), #output layer, 10 classes for ouput\n",
    "    Activation('softmax'),\n",
    "])"
   ]
  },
  {
   "cell_type": "markdown",
   "metadata": {},
   "source": [
    "### Dense: fully connceted network\n",
    "\n",
    "- Our input pictures are $28 \\times 28$ which is $784$ features\n",
    "\n",
    "- We have 32 neurons in the first layer\n",
    "\n",
    "- We have to have 10 neurons in the output layer because we have 10 classes (digits from 0 to 9)\n",
    "\n",
    "- Activation function for the last layer is 'softmax'"
   ]
  },
  {
   "cell_type": "markdown",
   "metadata": {},
   "source": [
    "### Different ways to define the model:"
   ]
  },
  {
   "cell_type": "code",
   "execution_count": 29,
   "metadata": {},
   "outputs": [],
   "source": [
    "# or\n",
    "model = Sequential()\n",
    "model.add(Dense(32, input_dim=784))\n",
    "model.add(Activation('relu'))"
   ]
  },
  {
   "cell_type": "code",
   "execution_count": 30,
   "metadata": {},
   "outputs": [],
   "source": [
    "# or\n",
    "model = Sequential([\n",
    "    Dense(32, input_shape=(784,), activation='relu'),\n",
    "    Dense(10, activation='softmax'),\n",
    "])"
   ]
  },
  {
   "cell_type": "code",
   "execution_count": 31,
   "metadata": {},
   "outputs": [],
   "source": [
    "model = Sequential([\n",
    "    Dense(32, input_shape=(784,)),\n",
    "    Activation('relu'),\n",
    "    Dense(10),\n",
    "    Activation('softmax'),\n",
    "])"
   ]
  },
  {
   "cell_type": "code",
   "execution_count": 32,
   "metadata": {},
   "outputs": [],
   "source": [
    "model.compile(\"adam\", \"categorical_crossentropy\", metrics=['accuracy'])"
   ]
  },
  {
   "cell_type": "markdown",
   "metadata": {},
   "source": [
    "### 'adam':\n",
    "- is the optimizer \n",
    "\n",
    "### 'accuracy': \n",
    " - gives the percentage of correct prediction\n",
    " \n",
    "### 'categorical_crossentropy':\n",
    " - crossentropy loss for multiclass classification when y in converted to vector\n",
    " \n",
    " \n",
    "### 'SparseCategoricalCrossentropy':\n",
    " - crossentropy loss between the labels and predictions.\n",
    " - No need to convert y to vector\n",
    " \n",
    "for more infro about loss functions: https://www.tensorflow.org/api_docs/python/tf/keras/losses"
   ]
  },
  {
   "cell_type": "code",
   "execution_count": 33,
   "metadata": {},
   "outputs": [
    {
     "name": "stdout",
     "output_type": "stream",
     "text": [
      "Model: \"sequential_6\"\n",
      "_________________________________________________________________\n",
      "Layer (type)                 Output Shape              Param #   \n",
      "=================================================================\n",
      "dense_10 (Dense)             (None, 32)                25120     \n",
      "_________________________________________________________________\n",
      "activation_8 (Activation)    (None, 32)                0         \n",
      "_________________________________________________________________\n",
      "dense_11 (Dense)             (None, 10)                330       \n",
      "_________________________________________________________________\n",
      "activation_9 (Activation)    (None, 10)                0         \n",
      "=================================================================\n",
      "Total params: 25,450\n",
      "Trainable params: 25,450\n",
      "Non-trainable params: 0\n",
      "_________________________________________________________________\n"
     ]
    }
   ],
   "source": [
    "model.summary()"
   ]
  },
  {
   "cell_type": "markdown",
   "metadata": {},
   "source": [
    "### In the Input layer: \n",
    "- We have $28 \\times 28$ pixel images which is $784$ features\n",
    "\n",
    "### In the first hidden layer:\n",
    "- We have  $32$ neurons and each neuron is connected with $784$ wights and $1$ bias:  $785 \\times 32$ which is  $25120$\n",
    "\n",
    "### In the output layer:\n",
    "- We have  $10$ neurons each neuron is connected  with$32$ wights and $1$ bias:  $33 \\times 10$ which is  $330$\n"
   ]
  },
  {
   "cell_type": "code",
   "execution_count": 34,
   "metadata": {},
   "outputs": [],
   "source": [
    "from keras.datasets import mnist\n",
    "import keras\n",
    "\n",
    "(X_train, y_train), (X_test, y_test) = mnist.load_data()"
   ]
  },
  {
   "cell_type": "code",
   "execution_count": 35,
   "metadata": {},
   "outputs": [
    {
     "data": {
      "text/plain": [
       "(28, 28)"
      ]
     },
     "execution_count": 35,
     "metadata": {},
     "output_type": "execute_result"
    }
   ],
   "source": [
    "X_train[0].shape"
   ]
  },
  {
   "cell_type": "code",
   "execution_count": 36,
   "metadata": {},
   "outputs": [
    {
     "name": "stdout",
     "output_type": "stream",
     "text": [
      "60000 train samples\n",
      "10000 test samples\n"
     ]
    }
   ],
   "source": [
    "X_train = X_train.reshape(60000, 784) # X_train is going to be fed into Dense layer so it must be flaten from 25*25 to 784\n",
    "X_test = X_test.reshape(10000, 784)\n",
    "X_train = X_train.astype('float32')\n",
    "X_test = X_test.astype('float32')\n",
    "X_train /= 255 #normalizing \n",
    "X_test /= 255\n",
    "print(X_train.shape[0], 'train samples')\n",
    "print(X_test.shape[0], 'test samples')\n",
    "\n",
    "num_classes = 10\n",
    "# convert class vectors to binary class matrices\n",
    "y_train = keras.utils.to_categorical(y_train, num_classes)\n",
    "y_test = keras.utils.to_categorical(y_test, num_classes)"
   ]
  },
  {
   "cell_type": "code",
   "execution_count": 37,
   "metadata": {},
   "outputs": [
    {
     "data": {
      "text/plain": [
       "numpy.ndarray"
      ]
     },
     "execution_count": 37,
     "metadata": {},
     "output_type": "execute_result"
    }
   ],
   "source": [
    "type(X_train)"
   ]
  },
  {
   "cell_type": "markdown",
   "metadata": {},
   "source": [
    "## Normalizing\n",
    "- All data should be in range 0 to 1\n",
    "- Value of each pixel is between 0 to 255 so deviding by 255 normalize all pixels"
   ]
  },
  {
   "cell_type": "markdown",
   "metadata": {},
   "source": [
    "### If there is any error loading the next cell, restart the kernel and run this cell first\n",
    "`import tensorflow as tf\n",
    "physical_devices = tf.config.experimental.list_physical_devices('GPU')\n",
    "print(\"physical_devices-------------\", len(physical_devices))\n",
    "tf.config.experimental.set_memory_growth(physical_devices[0], True)`"
   ]
  },
  {
   "cell_type": "code",
   "execution_count": 38,
   "metadata": {},
   "outputs": [
    {
     "name": "stdout",
     "output_type": "stream",
     "text": [
      "Epoch 1/10\n",
      "60000/60000 [==============================] - 3s 48us/step - loss: 0.5076 - accuracy: 0.8607\n",
      "Epoch 2/10\n",
      "60000/60000 [==============================] - 2s 30us/step - loss: 0.2486 - accuracy: 0.9299\n",
      "Epoch 3/10\n",
      "60000/60000 [==============================] - 2s 39us/step - loss: 0.2029 - accuracy: 0.9433\n",
      "Epoch 4/10\n",
      "60000/60000 [==============================] - 3s 51us/step - loss: 0.1733 - accuracy: 0.9506 \n",
      "Epoch 5/10\n",
      "60000/60000 [==============================] - 2s 37us/step - loss: 0.1519 - accuracy: 0.9570\n",
      "Epoch 6/10\n",
      "60000/60000 [==============================] - 2s 35us/step - loss: 0.1359 - accuracy: 0.9613\n",
      "Epoch 7/10\n",
      "60000/60000 [==============================] - 2s 35us/step - loss: 0.1232 - accuracy: 0.9646\n",
      "Epoch 8/10\n",
      "60000/60000 [==============================] - 2s 33us/step - loss: 0.1152 - accuracy: 0.9665\n",
      "Epoch 9/10\n",
      "60000/60000 [==============================] - 2s 28us/step - loss: 0.1070 - accuracy: 0.9694\n",
      "Epoch 10/10\n",
      "60000/60000 [==============================] - 2s 36us/step - loss: 0.1001 - accuracy: 0.9710\n"
     ]
    },
    {
     "data": {
      "text/plain": [
       "<keras.callbacks.callbacks.History at 0x23e0098c7c8>"
      ]
     },
     "execution_count": 38,
     "metadata": {},
     "output_type": "execute_result"
    }
   ],
   "source": [
    "model.fit(X_train, y_train, batch_size=128, epochs=10, verbose=1)"
   ]
  },
  {
   "cell_type": "markdown",
   "metadata": {},
   "source": [
    "### Now we want to split the train data for crossvalidation:"
   ]
  },
  {
   "cell_type": "code",
   "execution_count": 39,
   "metadata": {},
   "outputs": [
    {
     "name": "stdout",
     "output_type": "stream",
     "text": [
      "Train on 54000 samples, validate on 6000 samples\n",
      "Epoch 1/10\n",
      "54000/54000 [==============================] - 2s 34us/step - loss: 0.0956 - accuracy: 0.9721 - val_loss: 0.0783 - val_accuracy: 0.9780\n",
      "Epoch 2/10\n",
      "54000/54000 [==============================] - 2s 31us/step - loss: 0.0900 - accuracy: 0.9733 - val_loss: 0.0788 - val_accuracy: 0.9778\n",
      "Epoch 3/10\n",
      "54000/54000 [==============================] - 2s 30us/step - loss: 0.0856 - accuracy: 0.9749 - val_loss: 0.0795 - val_accuracy: 0.9773\n",
      "Epoch 4/10\n",
      "54000/54000 [==============================] - 2s 33us/step - loss: 0.0818 - accuracy: 0.9757 - val_loss: 0.0815 - val_accuracy: 0.9763\n",
      "Epoch 5/10\n",
      "54000/54000 [==============================] - 3s 64us/step - loss: 0.0768 - accuracy: 0.9771 - val_loss: 0.0839 - val_accuracy: 0.9762\n",
      "Epoch 6/10\n",
      "54000/54000 [==============================] - 3s 57us/step - loss: 0.0738 - accuracy: 0.9776 - val_loss: 0.0901 - val_accuracy: 0.9728\n",
      "Epoch 7/10\n",
      "54000/54000 [==============================] - 2s 45us/step - loss: 0.0700 - accuracy: 0.9796 - val_loss: 0.0831 - val_accuracy: 0.9765\n",
      "Epoch 8/10\n",
      "54000/54000 [==============================] - 2s 35us/step - loss: 0.0668 - accuracy: 0.9804 - val_loss: 0.0839 - val_accuracy: 0.9770\n",
      "Epoch 9/10\n",
      "54000/54000 [==============================] - 2s 37us/step - loss: 0.0640 - accuracy: 0.9807 - val_loss: 0.0855 - val_accuracy: 0.9768\n",
      "Epoch 10/10\n",
      "54000/54000 [==============================] - 2s 38us/step - loss: 0.0615 - accuracy: 0.9816 - val_loss: 0.0939 - val_accuracy: 0.9713\n"
     ]
    },
    {
     "data": {
      "text/plain": [
       "<keras.callbacks.callbacks.History at 0x23e00985a88>"
      ]
     },
     "execution_count": 39,
     "metadata": {},
     "output_type": "execute_result"
    }
   ],
   "source": [
    "model.fit(X_train, y_train, batch_size=128, epochs=10, verbose=1, validation_split = 0.1)"
   ]
  },
  {
   "cell_type": "code",
   "execution_count": 40,
   "metadata": {},
   "outputs": [
    {
     "name": "stdout",
     "output_type": "stream",
     "text": [
      "Test loss: 0.115\n",
      "Test Accuracy: 0.965\n"
     ]
    }
   ],
   "source": [
    "score = model.evaluate(X_test, y_test, verbose=0)\n",
    "print(\"Test loss: {:.3f}\".format(score[0]))\n",
    "print(\"Test Accuracy: {:.3f}\".format(score[1]))"
   ]
  },
  {
   "cell_type": "markdown",
   "metadata": {},
   "source": [
    "### Score\n",
    "`score[0]` is Loss\n",
    "\n",
    "`score[1]` is Accuracy"
   ]
  },
  {
   "cell_type": "code",
   "execution_count": 41,
   "metadata": {},
   "outputs": [],
   "source": [
    "# recreating the model seems the only way to reset?\n",
    "model = Sequential([\n",
    "    Dense(32, input_shape=(784,)),\n",
    "    Activation('relu'),\n",
    "    Dense(10),\n",
    "    Activation('softmax'),\n",
    "])\n",
    "model.compile(\"adam\", \"categorical_crossentropy\", metrics=['accuracy'])"
   ]
  },
  {
   "cell_type": "markdown",
   "metadata": {},
   "source": [
    "### If you don't redefine the model and run the fit() command, it would be considered as the next 10 epochs."
   ]
  },
  {
   "cell_type": "code",
   "execution_count": 26,
   "metadata": {},
   "outputs": [
    {
     "name": "stdout",
     "output_type": "stream",
     "text": [
      "Train on 54000 samples, validate on 6000 samples\n",
      "Epoch 1/10\n",
      "54000/54000 [==============================] - 3s 48us/step - loss: 0.5472 - accuracy: 0.8474 - val_loss: 0.2461 - val_accuracy: 0.9333\n",
      "Epoch 2/10\n",
      "54000/54000 [==============================] - 2s 45us/step - loss: 0.2665 - accuracy: 0.9239 - val_loss: 0.1911 - val_accuracy: 0.9502\n",
      "Epoch 3/10\n",
      "54000/54000 [==============================] - 3s 49us/step - loss: 0.2119 - accuracy: 0.9397 - val_loss: 0.1593 - val_accuracy: 0.9567\n",
      "Epoch 4/10\n",
      "54000/54000 [==============================] - 3s 47us/step - loss: 0.1811 - accuracy: 0.9475 - val_loss: 0.1435 - val_accuracy: 0.9615\n",
      "Epoch 5/10\n",
      "54000/54000 [==============================] - 3s 49us/step - loss: 0.1598 - accuracy: 0.9542 - val_loss: 0.1305 - val_accuracy: 0.9632\n",
      "Epoch 6/10\n",
      "54000/54000 [==============================] - 3s 49us/step - loss: 0.1437 - accuracy: 0.9588 - val_loss: 0.1261 - val_accuracy: 0.9657\n",
      "Epoch 7/10\n",
      "54000/54000 [==============================] - 3s 48us/step - loss: 0.1308 - accuracy: 0.9630 - val_loss: 0.1173 - val_accuracy: 0.9680\n",
      "Epoch 8/10\n",
      "54000/54000 [==============================] - 3s 53us/step - loss: 0.1194 - accuracy: 0.9653 - val_loss: 0.1124 - val_accuracy: 0.9663\n",
      "Epoch 9/10\n",
      "54000/54000 [==============================] - 3s 50us/step - loss: 0.1102 - accuracy: 0.9681 - val_loss: 0.1091 - val_accuracy: 0.9688\n",
      "Epoch 10/10\n",
      "54000/54000 [==============================] - 3s 53us/step - loss: 0.1030 - accuracy: 0.9705 - val_loss: 0.1076 - val_accuracy: 0.9698\n"
     ]
    },
    {
     "data": {
      "text/plain": [
       "<keras.callbacks.callbacks.History at 0x25b996542c8>"
      ]
     },
     "execution_count": 26,
     "metadata": {},
     "output_type": "execute_result"
    }
   ],
   "source": [
    "model.fit(X_train, y_train, batch_size=128, epochs=10, verbose=1, validation_split=.1)"
   ]
  },
  {
   "cell_type": "markdown",
   "metadata": {},
   "source": [
    "### Now we want to store the model result into `history_callback`"
   ]
  },
  {
   "cell_type": "code",
   "execution_count": 42,
   "metadata": {
    "scrolled": true
   },
   "outputs": [
    {
     "name": "stdout",
     "output_type": "stream",
     "text": [
      "Train on 54000 samples, validate on 6000 samples\n",
      "Epoch 1/100\n",
      "54000/54000 [==============================] - 2s 36us/step - loss: 0.5461 - accuracy: 0.8500 - val_loss: 0.2400 - val_accuracy: 0.9345\n",
      "Epoch 2/100\n",
      "54000/54000 [==============================] - 2s 39us/step - loss: 0.2648 - accuracy: 0.9253 - val_loss: 0.1988 - val_accuracy: 0.9430\n",
      "Epoch 3/100\n",
      "54000/54000 [==============================] - 2s 33us/step - loss: 0.2184 - accuracy: 0.9386 - val_loss: 0.1670 - val_accuracy: 0.9543\n",
      "Epoch 4/100\n",
      "54000/54000 [==============================] - 2s 34us/step - loss: 0.1879 - accuracy: 0.9468 - val_loss: 0.1509 - val_accuracy: 0.9600\n",
      "Epoch 5/100\n",
      "54000/54000 [==============================] - 2s 34us/step - loss: 0.1663 - accuracy: 0.9525 - val_loss: 0.1373 - val_accuracy: 0.9647\n",
      "Epoch 6/100\n",
      "54000/54000 [==============================] - 2s 35us/step - loss: 0.1501 - accuracy: 0.9569 - val_loss: 0.1323 - val_accuracy: 0.9613\n",
      "Epoch 7/100\n",
      "54000/54000 [==============================] - 2s 37us/step - loss: 0.1373 - accuracy: 0.9610 - val_loss: 0.1268 - val_accuracy: 0.9635\n",
      "Epoch 8/100\n",
      "54000/54000 [==============================] - 2s 33us/step - loss: 0.1262 - accuracy: 0.9633 - val_loss: 0.1233 - val_accuracy: 0.9655\n",
      "Epoch 9/100\n",
      "54000/54000 [==============================] - 2s 32us/step - loss: 0.1176 - accuracy: 0.9667 - val_loss: 0.1148 - val_accuracy: 0.9678\n",
      "Epoch 10/100\n",
      "54000/54000 [==============================] - 2s 33us/step - loss: 0.1090 - accuracy: 0.9689 - val_loss: 0.1175 - val_accuracy: 0.9672\n",
      "Epoch 11/100\n",
      "54000/54000 [==============================] - 2s 37us/step - loss: 0.1026 - accuracy: 0.9702 - val_loss: 0.1183 - val_accuracy: 0.9673\n",
      "Epoch 12/100\n",
      "54000/54000 [==============================] - 2s 33us/step - loss: 0.0971 - accuracy: 0.9725 - val_loss: 0.1090 - val_accuracy: 0.9675\n",
      "Epoch 13/100\n",
      "54000/54000 [==============================] - 2s 33us/step - loss: 0.0912 - accuracy: 0.9739 - val_loss: 0.1132 - val_accuracy: 0.9672\n",
      "Epoch 14/100\n",
      "54000/54000 [==============================] - 2s 33us/step - loss: 0.0866 - accuracy: 0.9746 - val_loss: 0.1129 - val_accuracy: 0.9663\n",
      "Epoch 15/100\n",
      "54000/54000 [==============================] - 2s 36us/step - loss: 0.0827 - accuracy: 0.9761 - val_loss: 0.1069 - val_accuracy: 0.9683\n",
      "Epoch 16/100\n",
      "54000/54000 [==============================] - 2s 35us/step - loss: 0.0781 - accuracy: 0.9769 - val_loss: 0.1101 - val_accuracy: 0.9688\n",
      "Epoch 17/100\n",
      "54000/54000 [==============================] - 2s 34us/step - loss: 0.0746 - accuracy: 0.9786 - val_loss: 0.1122 - val_accuracy: 0.9677\n",
      "Epoch 18/100\n",
      "54000/54000 [==============================] - 2s 34us/step - loss: 0.0710 - accuracy: 0.9797 - val_loss: 0.1076 - val_accuracy: 0.9688\n",
      "Epoch 19/100\n",
      "54000/54000 [==============================] - 2s 40us/step - loss: 0.0684 - accuracy: 0.9803 - val_loss: 0.1090 - val_accuracy: 0.9695\n",
      "Epoch 20/100\n",
      "54000/54000 [==============================] - 2s 40us/step - loss: 0.0654 - accuracy: 0.9814 - val_loss: 0.1080 - val_accuracy: 0.9687\n",
      "Epoch 21/100\n",
      "54000/54000 [==============================] - 2s 35us/step - loss: 0.0616 - accuracy: 0.9822 - val_loss: 0.1086 - val_accuracy: 0.9672\n",
      "Epoch 22/100\n",
      "54000/54000 [==============================] - 2s 34us/step - loss: 0.0598 - accuracy: 0.9830 - val_loss: 0.1124 - val_accuracy: 0.9690\n",
      "Epoch 23/100\n",
      "54000/54000 [==============================] - 2s 33us/step - loss: 0.0571 - accuracy: 0.9832 - val_loss: 0.1115 - val_accuracy: 0.9682\n",
      "Epoch 24/100\n",
      "54000/54000 [==============================] - 2s 34us/step - loss: 0.0544 - accuracy: 0.9844 - val_loss: 0.1098 - val_accuracy: 0.9702\n",
      "Epoch 25/100\n",
      "54000/54000 [==============================] - 2s 33us/step - loss: 0.0526 - accuracy: 0.9853 - val_loss: 0.1100 - val_accuracy: 0.9700\n",
      "Epoch 26/100\n",
      "54000/54000 [==============================] - 2s 32us/step - loss: 0.0503 - accuracy: 0.9856 - val_loss: 0.1123 - val_accuracy: 0.9687\n",
      "Epoch 27/100\n",
      "54000/54000 [==============================] - 2s 32us/step - loss: 0.0480 - accuracy: 0.9862 - val_loss: 0.1130 - val_accuracy: 0.9705\n",
      "Epoch 28/100\n",
      "54000/54000 [==============================] - 2s 35us/step - loss: 0.0474 - accuracy: 0.9865 - val_loss: 0.1143 - val_accuracy: 0.9698\n",
      "Epoch 29/100\n",
      "54000/54000 [==============================] - 2s 32us/step - loss: 0.0445 - accuracy: 0.9875 - val_loss: 0.1164 - val_accuracy: 0.9697\n",
      "Epoch 30/100\n",
      "54000/54000 [==============================] - 2s 31us/step - loss: 0.0432 - accuracy: 0.9881 - val_loss: 0.1147 - val_accuracy: 0.9708\n",
      "Epoch 31/100\n",
      "54000/54000 [==============================] - 2s 32us/step - loss: 0.0417 - accuracy: 0.9880 - val_loss: 0.1151 - val_accuracy: 0.9690\n",
      "Epoch 32/100\n",
      "54000/54000 [==============================] - 2s 32us/step - loss: 0.0401 - accuracy: 0.9889 - val_loss: 0.1155 - val_accuracy: 0.9685\n",
      "Epoch 33/100\n",
      "54000/54000 [==============================] - 2s 31us/step - loss: 0.0388 - accuracy: 0.9890 - val_loss: 0.1166 - val_accuracy: 0.9690\n",
      "Epoch 34/100\n",
      "54000/54000 [==============================] - 2s 30us/step - loss: 0.0369 - accuracy: 0.9894 - val_loss: 0.1214 - val_accuracy: 0.9678\n",
      "Epoch 35/100\n",
      "54000/54000 [==============================] - 2s 32us/step - loss: 0.0360 - accuracy: 0.9897 - val_loss: 0.1196 - val_accuracy: 0.9687\n",
      "Epoch 36/100\n",
      "54000/54000 [==============================] - 2s 31us/step - loss: 0.0343 - accuracy: 0.9905 - val_loss: 0.1257 - val_accuracy: 0.9670\n",
      "Epoch 37/100\n",
      "54000/54000 [==============================] - 2s 33us/step - loss: 0.0337 - accuracy: 0.9905 - val_loss: 0.1258 - val_accuracy: 0.9682\n",
      "Epoch 38/100\n",
      "54000/54000 [==============================] - 2s 34us/step - loss: 0.0323 - accuracy: 0.9910 - val_loss: 0.1246 - val_accuracy: 0.9698\n",
      "Epoch 39/100\n",
      "54000/54000 [==============================] - 2s 39us/step - loss: 0.0312 - accuracy: 0.9916 - val_loss: 0.1321 - val_accuracy: 0.9667\n",
      "Epoch 40/100\n",
      "54000/54000 [==============================] - 2s 35us/step - loss: 0.0293 - accuracy: 0.9923 - val_loss: 0.1282 - val_accuracy: 0.9685\n",
      "Epoch 41/100\n",
      "54000/54000 [==============================] - 2s 36us/step - loss: 0.0283 - accuracy: 0.9923 - val_loss: 0.1300 - val_accuracy: 0.9667\n",
      "Epoch 42/100\n",
      "54000/54000 [==============================] - 2s 34us/step - loss: 0.0271 - accuracy: 0.9928 - val_loss: 0.1313 - val_accuracy: 0.9685\n",
      "Epoch 43/100\n",
      "54000/54000 [==============================] - 2s 34us/step - loss: 0.0270 - accuracy: 0.9931 - val_loss: 0.1314 - val_accuracy: 0.9688\n",
      "Epoch 44/100\n",
      "54000/54000 [==============================] - 2s 37us/step - loss: 0.0259 - accuracy: 0.9929 - val_loss: 0.1331 - val_accuracy: 0.9677\n",
      "Epoch 45/100\n",
      "54000/54000 [==============================] - 2s 38us/step - loss: 0.0248 - accuracy: 0.9935 - val_loss: 0.1359 - val_accuracy: 0.9670\n",
      "Epoch 46/100\n",
      "54000/54000 [==============================] - 2s 38us/step - loss: 0.0243 - accuracy: 0.9934 - val_loss: 0.1341 - val_accuracy: 0.9687\n",
      "Epoch 47/100\n",
      "54000/54000 [==============================] - 2s 34us/step - loss: 0.0226 - accuracy: 0.9946 - val_loss: 0.1351 - val_accuracy: 0.9688\n",
      "Epoch 48/100\n",
      "54000/54000 [==============================] - 2s 34us/step - loss: 0.0220 - accuracy: 0.9946 - val_loss: 0.1398 - val_accuracy: 0.9687\n",
      "Epoch 49/100\n",
      "54000/54000 [==============================] - 2s 32us/step - loss: 0.0211 - accuracy: 0.9946 - val_loss: 0.1392 - val_accuracy: 0.9695\n",
      "Epoch 50/100\n",
      "54000/54000 [==============================] - 2s 31us/step - loss: 0.0207 - accuracy: 0.9948 - val_loss: 0.1445 - val_accuracy: 0.9677\n",
      "Epoch 51/100\n",
      "54000/54000 [==============================] - 2s 31us/step - loss: 0.0193 - accuracy: 0.9954 - val_loss: 0.1439 - val_accuracy: 0.9670\n",
      "Epoch 52/100\n",
      "54000/54000 [==============================] - 2s 32us/step - loss: 0.0190 - accuracy: 0.9954 - val_loss: 0.1462 - val_accuracy: 0.9673\n",
      "Epoch 53/100\n",
      "54000/54000 [==============================] - 2s 30us/step - loss: 0.0186 - accuracy: 0.9956 - val_loss: 0.1419 - val_accuracy: 0.9688\n",
      "Epoch 54/100\n",
      "54000/54000 [==============================] - 2s 31us/step - loss: 0.0182 - accuracy: 0.9954 - val_loss: 0.1472 - val_accuracy: 0.9682\n",
      "Epoch 55/100\n",
      "54000/54000 [==============================] - 2s 32us/step - loss: 0.0176 - accuracy: 0.9956 - val_loss: 0.1498 - val_accuracy: 0.9677\n"
     ]
    },
    {
     "name": "stdout",
     "output_type": "stream",
     "text": [
      "Epoch 56/100\n",
      "54000/54000 [==============================] - 2s 30us/step - loss: 0.0160 - accuracy: 0.9964 - val_loss: 0.1482 - val_accuracy: 0.9690\n",
      "Epoch 57/100\n",
      "54000/54000 [==============================] - 2s 30us/step - loss: 0.0158 - accuracy: 0.9964 - val_loss: 0.1492 - val_accuracy: 0.9677\n",
      "Epoch 58/100\n",
      "54000/54000 [==============================] - 2s 30us/step - loss: 0.0151 - accuracy: 0.9969 - val_loss: 0.1558 - val_accuracy: 0.9660\n",
      "Epoch 59/100\n",
      "54000/54000 [==============================] - 2s 30us/step - loss: 0.0142 - accuracy: 0.9969 - val_loss: 0.1532 - val_accuracy: 0.9677\n",
      "Epoch 60/100\n",
      "54000/54000 [==============================] - 2s 33us/step - loss: 0.0134 - accuracy: 0.9974 - val_loss: 0.1573 - val_accuracy: 0.9677\n",
      "Epoch 61/100\n",
      "54000/54000 [==============================] - 2s 32us/step - loss: 0.0134 - accuracy: 0.9974 - val_loss: 0.1584 - val_accuracy: 0.9680\n",
      "Epoch 62/100\n",
      "54000/54000 [==============================] - 2s 31us/step - loss: 0.0130 - accuracy: 0.9972 - val_loss: 0.1644 - val_accuracy: 0.9667\n",
      "Epoch 63/100\n",
      "54000/54000 [==============================] - 2s 31us/step - loss: 0.0127 - accuracy: 0.9973 - val_loss: 0.1606 - val_accuracy: 0.9665\n",
      "Epoch 64/100\n",
      "54000/54000 [==============================] - 2s 33us/step - loss: 0.0118 - accuracy: 0.9979 - val_loss: 0.1672 - val_accuracy: 0.9658\n",
      "Epoch 65/100\n",
      "54000/54000 [==============================] - 2s 30us/step - loss: 0.0116 - accuracy: 0.9975 - val_loss: 0.1654 - val_accuracy: 0.9665\n",
      "Epoch 66/100\n",
      "54000/54000 [==============================] - 2s 30us/step - loss: 0.0108 - accuracy: 0.9979 - val_loss: 0.1656 - val_accuracy: 0.9667\n",
      "Epoch 67/100\n",
      "54000/54000 [==============================] - 2s 29us/step - loss: 0.0102 - accuracy: 0.9982 - val_loss: 0.1770 - val_accuracy: 0.9643\n",
      "Epoch 68/100\n",
      "54000/54000 [==============================] - 2s 29us/step - loss: 0.0102 - accuracy: 0.9982 - val_loss: 0.1648 - val_accuracy: 0.9685\n",
      "Epoch 69/100\n",
      "54000/54000 [==============================] - 2s 30us/step - loss: 0.0096 - accuracy: 0.9984 - val_loss: 0.1682 - val_accuracy: 0.9672\n",
      "Epoch 70/100\n",
      "54000/54000 [==============================] - 2s 30us/step - loss: 0.0094 - accuracy: 0.9982 - val_loss: 0.1666 - val_accuracy: 0.9682\n",
      "Epoch 71/100\n",
      "54000/54000 [==============================] - 2s 30us/step - loss: 0.0088 - accuracy: 0.9985 - val_loss: 0.1738 - val_accuracy: 0.9683\n",
      "Epoch 72/100\n",
      "54000/54000 [==============================] - 2s 29us/step - loss: 0.0086 - accuracy: 0.9986 - val_loss: 0.1777 - val_accuracy: 0.9673\n",
      "Epoch 73/100\n",
      "54000/54000 [==============================] - 2s 29us/step - loss: 0.0087 - accuracy: 0.9984 - val_loss: 0.1720 - val_accuracy: 0.9683\n",
      "Epoch 74/100\n",
      "54000/54000 [==============================] - 2s 34us/step - loss: 0.0085 - accuracy: 0.9985 - val_loss: 0.1837 - val_accuracy: 0.9667\n",
      "Epoch 75/100\n",
      "54000/54000 [==============================] - 2s 30us/step - loss: 0.0085 - accuracy: 0.9985 - val_loss: 0.1789 - val_accuracy: 0.9677\n",
      "Epoch 76/100\n",
      "54000/54000 [==============================] - 2s 29us/step - loss: 0.0069 - accuracy: 0.9992 - val_loss: 0.1787 - val_accuracy: 0.9670\n",
      "Epoch 77/100\n",
      "54000/54000 [==============================] - 2s 29us/step - loss: 0.0065 - accuracy: 0.9991 - val_loss: 0.1816 - val_accuracy: 0.9673\n",
      "Epoch 78/100\n",
      "54000/54000 [==============================] - 2s 29us/step - loss: 0.0075 - accuracy: 0.9987 - val_loss: 0.1892 - val_accuracy: 0.9667\n",
      "Epoch 79/100\n",
      "54000/54000 [==============================] - 2s 29us/step - loss: 0.0069 - accuracy: 0.9990 - val_loss: 0.1937 - val_accuracy: 0.9652\n",
      "Epoch 80/100\n",
      "54000/54000 [==============================] - 2s 29us/step - loss: 0.0066 - accuracy: 0.9990 - val_loss: 0.1905 - val_accuracy: 0.9672\n",
      "Epoch 81/100\n",
      "54000/54000 [==============================] - 2s 30us/step - loss: 0.0058 - accuracy: 0.9992 - val_loss: 0.2000 - val_accuracy: 0.9653\n",
      "Epoch 82/100\n",
      "54000/54000 [==============================] - 2s 29us/step - loss: 0.0060 - accuracy: 0.9992 - val_loss: 0.1884 - val_accuracy: 0.9653\n",
      "Epoch 83/100\n",
      "54000/54000 [==============================] - 2s 29us/step - loss: 0.0053 - accuracy: 0.9995 - val_loss: 0.1915 - val_accuracy: 0.9680\n",
      "Epoch 84/100\n",
      "54000/54000 [==============================] - 2s 33us/step - loss: 0.0061 - accuracy: 0.9990 - val_loss: 0.1916 - val_accuracy: 0.9673\n",
      "Epoch 85/100\n",
      "54000/54000 [==============================] - 2s 29us/step - loss: 0.0057 - accuracy: 0.9989 - val_loss: 0.1921 - val_accuracy: 0.9673\n",
      "Epoch 86/100\n",
      "54000/54000 [==============================] - 2s 31us/step - loss: 0.0060 - accuracy: 0.9990 - val_loss: 0.1991 - val_accuracy: 0.9662\n",
      "Epoch 87/100\n",
      "54000/54000 [==============================] - 2s 30us/step - loss: 0.0050 - accuracy: 0.9993 - val_loss: 0.2024 - val_accuracy: 0.9673\n",
      "Epoch 88/100\n",
      "54000/54000 [==============================] - 2s 29us/step - loss: 0.0047 - accuracy: 0.9994 - val_loss: 0.1990 - val_accuracy: 0.9667\n",
      "Epoch 89/100\n",
      "54000/54000 [==============================] - 2s 30us/step - loss: 0.0047 - accuracy: 0.9994 - val_loss: 0.2008 - val_accuracy: 0.9667\n",
      "Epoch 90/100\n",
      "54000/54000 [==============================] - 2s 29us/step - loss: 0.0048 - accuracy: 0.9992 - val_loss: 0.2072 - val_accuracy: 0.9655\n",
      "Epoch 91/100\n",
      "54000/54000 [==============================] - 2s 29us/step - loss: 0.0040 - accuracy: 0.9996 - val_loss: 0.2044 - val_accuracy: 0.9680\n",
      "Epoch 92/100\n",
      "54000/54000 [==============================] - 2s 30us/step - loss: 0.0034 - accuracy: 0.9997 - val_loss: 0.2065 - val_accuracy: 0.9662\n",
      "Epoch 93/100\n",
      "54000/54000 [==============================] - 2s 30us/step - loss: 0.0041 - accuracy: 0.9996 - val_loss: 0.2062 - val_accuracy: 0.9672\n",
      "Epoch 94/100\n",
      "54000/54000 [==============================] - 2s 33us/step - loss: 0.0036 - accuracy: 0.9995 - val_loss: 0.2050 - val_accuracy: 0.9662\n",
      "Epoch 95/100\n",
      "54000/54000 [==============================] - 2s 30us/step - loss: 0.0055 - accuracy: 0.9989 - val_loss: 0.2087 - val_accuracy: 0.9650\n",
      "Epoch 96/100\n",
      "54000/54000 [==============================] - 2s 31us/step - loss: 0.0032 - accuracy: 0.9998 - val_loss: 0.2060 - val_accuracy: 0.9670\n",
      "Epoch 97/100\n",
      "54000/54000 [==============================] - 2s 29us/step - loss: 0.0024 - accuracy: 1.0000 - val_loss: 0.2096 - val_accuracy: 0.9665\n",
      "Epoch 98/100\n",
      "54000/54000 [==============================] - 2s 32us/step - loss: 0.0027 - accuracy: 0.9999 - val_loss: 0.2198 - val_accuracy: 0.9648\n",
      "Epoch 99/100\n",
      "54000/54000 [==============================] - 2s 35us/step - loss: 0.0042 - accuracy: 0.9993 - val_loss: 0.2140 - val_accuracy: 0.9667\n",
      "Epoch 100/100\n",
      "54000/54000 [==============================] - 2s 34us/step - loss: 0.0031 - accuracy: 0.9997 - val_loss: 0.2251 - val_accuracy: 0.9630\n"
     ]
    }
   ],
   "source": [
    "model = Sequential([\n",
    "    Dense(32, input_shape=(784,), activation='relu'),\n",
    "    Dense(10, activation='softmax'),\n",
    "])\n",
    "model.compile(\"adam\", \"categorical_crossentropy\", metrics=['accuracy'])\n",
    "history_callback = model.fit(X_train, y_train, batch_size=128, epochs=100, verbose=1, validation_split=.1)"
   ]
  },
  {
   "cell_type": "markdown",
   "metadata": {},
   "source": [
    "### In the cell above we set `epochs=100` for better plotting"
   ]
  },
  {
   "cell_type": "code",
   "execution_count": 43,
   "metadata": {},
   "outputs": [
    {
     "data": {
      "text/html": [
       "<div>\n",
       "<style scoped>\n",
       "    .dataframe tbody tr th:only-of-type {\n",
       "        vertical-align: middle;\n",
       "    }\n",
       "\n",
       "    .dataframe tbody tr th {\n",
       "        vertical-align: top;\n",
       "    }\n",
       "\n",
       "    .dataframe thead th {\n",
       "        text-align: right;\n",
       "    }\n",
       "</style>\n",
       "<table border=\"1\" class=\"dataframe\">\n",
       "  <thead>\n",
       "    <tr style=\"text-align: right;\">\n",
       "      <th></th>\n",
       "      <th>val_loss</th>\n",
       "      <th>val_accuracy</th>\n",
       "      <th>loss</th>\n",
       "      <th>accuracy</th>\n",
       "    </tr>\n",
       "  </thead>\n",
       "  <tbody>\n",
       "    <tr>\n",
       "      <td>0</td>\n",
       "      <td>0.239991</td>\n",
       "      <td>0.934500</td>\n",
       "      <td>0.546067</td>\n",
       "      <td>0.850019</td>\n",
       "    </tr>\n",
       "    <tr>\n",
       "      <td>1</td>\n",
       "      <td>0.198808</td>\n",
       "      <td>0.943000</td>\n",
       "      <td>0.264772</td>\n",
       "      <td>0.925333</td>\n",
       "    </tr>\n",
       "    <tr>\n",
       "      <td>2</td>\n",
       "      <td>0.166996</td>\n",
       "      <td>0.954333</td>\n",
       "      <td>0.218398</td>\n",
       "      <td>0.938556</td>\n",
       "    </tr>\n",
       "    <tr>\n",
       "      <td>3</td>\n",
       "      <td>0.150858</td>\n",
       "      <td>0.960000</td>\n",
       "      <td>0.187864</td>\n",
       "      <td>0.946796</td>\n",
       "    </tr>\n",
       "    <tr>\n",
       "      <td>4</td>\n",
       "      <td>0.137324</td>\n",
       "      <td>0.964667</td>\n",
       "      <td>0.166327</td>\n",
       "      <td>0.952537</td>\n",
       "    </tr>\n",
       "    <tr>\n",
       "      <td>...</td>\n",
       "      <td>...</td>\n",
       "      <td>...</td>\n",
       "      <td>...</td>\n",
       "      <td>...</td>\n",
       "    </tr>\n",
       "    <tr>\n",
       "      <td>95</td>\n",
       "      <td>0.205994</td>\n",
       "      <td>0.967000</td>\n",
       "      <td>0.003230</td>\n",
       "      <td>0.999759</td>\n",
       "    </tr>\n",
       "    <tr>\n",
       "      <td>96</td>\n",
       "      <td>0.209578</td>\n",
       "      <td>0.966500</td>\n",
       "      <td>0.002407</td>\n",
       "      <td>0.999981</td>\n",
       "    </tr>\n",
       "    <tr>\n",
       "      <td>97</td>\n",
       "      <td>0.219787</td>\n",
       "      <td>0.964833</td>\n",
       "      <td>0.002734</td>\n",
       "      <td>0.999852</td>\n",
       "    </tr>\n",
       "    <tr>\n",
       "      <td>98</td>\n",
       "      <td>0.214039</td>\n",
       "      <td>0.966667</td>\n",
       "      <td>0.004239</td>\n",
       "      <td>0.999296</td>\n",
       "    </tr>\n",
       "    <tr>\n",
       "      <td>99</td>\n",
       "      <td>0.225076</td>\n",
       "      <td>0.963000</td>\n",
       "      <td>0.003067</td>\n",
       "      <td>0.999667</td>\n",
       "    </tr>\n",
       "  </tbody>\n",
       "</table>\n",
       "<p>100 rows × 4 columns</p>\n",
       "</div>"
      ],
      "text/plain": [
       "    val_loss  val_accuracy      loss  accuracy\n",
       "0   0.239991      0.934500  0.546067  0.850019\n",
       "1   0.198808      0.943000  0.264772  0.925333\n",
       "2   0.166996      0.954333  0.218398  0.938556\n",
       "3   0.150858      0.960000  0.187864  0.946796\n",
       "4   0.137324      0.964667  0.166327  0.952537\n",
       "..       ...           ...       ...       ...\n",
       "95  0.205994      0.967000  0.003230  0.999759\n",
       "96  0.209578      0.966500  0.002407  0.999981\n",
       "97  0.219787      0.964833  0.002734  0.999852\n",
       "98  0.214039      0.966667  0.004239  0.999296\n",
       "99  0.225076      0.963000  0.003067  0.999667\n",
       "\n",
       "[100 rows x 4 columns]"
      ]
     },
     "execution_count": 43,
     "metadata": {},
     "output_type": "execute_result"
    }
   ],
   "source": [
    "pd.DataFrame(history_callback.history)"
   ]
  },
  {
   "cell_type": "code",
   "execution_count": 44,
   "metadata": {},
   "outputs": [],
   "source": [
    "import matplotlib.pyplot as plt\n",
    "plt.style.use('dark_background')"
   ]
  },
  {
   "cell_type": "code",
   "execution_count": 45,
   "metadata": {
    "scrolled": true
   },
   "outputs": [
    {
     "data": {
      "text/plain": [
       "<matplotlib.axes._subplots.AxesSubplot at 0x23e4f9dbc08>"
      ]
     },
     "execution_count": 45,
     "metadata": {},
     "output_type": "execute_result"
    },
    {
     "data": {
      "image/png": "[encoded data removed]",
      "text/plain": [
       "<Figure size 432x288 with 1 Axes>"
      ]
     },
     "metadata": {},
     "output_type": "display_data"
    }
   ],
   "source": [
    "pd.DataFrame(history_callback.history).plot()"
   ]
  },
  {
   "cell_type": "code",
   "execution_count": 46,
   "metadata": {},
   "outputs": [
    {
     "data": {
      "text/plain": [
       "Text(0, 0.5, 'loss')"
      ]
     },
     "execution_count": 46,
     "metadata": {},
     "output_type": "execute_result"
    },
    {
     "data": {
      "image/png": "[encoded data removed]",
      "text/plain": [
       "<Figure size 432x288 with 2 Axes>"
      ]
     },
     "metadata": {},
     "output_type": "display_data"
    }
   ],
   "source": [
    "df = pd.DataFrame(history_callback.history)\n",
    "df[['accuracy', 'val_accuracy']].plot()\n",
    "plt.ylabel(\"accuracy\")\n",
    "df[['loss', 'val_loss']].plot(linestyle='--', ax=plt.twinx())\n",
    "plt.ylabel(\"loss\")"
   ]
  },
  {
   "cell_type": "markdown",
   "metadata": {},
   "source": [
    "### In the plot above:\n",
    "- The accuracy for validation set is stabalized after 20 epochs\n",
    "\n",
    "- The loss for validation set increases as the number of epochs increases, shows *Overfitting*"
   ]
  },
  {
   "cell_type": "markdown",
   "metadata": {},
   "source": [
    "### Using Keras inside SKlearn:\n",
    "\n",
    "- Use `GridsearchCV` to find the best parameters\n"
   ]
  },
  {
   "cell_type": "code",
   "execution_count": 34,
   "metadata": {},
   "outputs": [],
   "source": [
    "from keras.wrappers.scikit_learn import KerasClassifier, KerasRegressor\n",
    "from sklearn.model_selection import GridSearchCV\n",
    "\n",
    "def make_model(optimizer=\"adam\", hidden_size=32):\n",
    "    model = Sequential([\n",
    "        Dense(hidden_size, input_shape=(784,)),\n",
    "        Activation('relu'),\n",
    "        Dense(10),\n",
    "        Activation('softmax'),\n",
    "    ])\n",
    "    model.compile(optimizer=optimizer, loss=\"categorical_crossentropy\", metrics=['accuracy'])\n",
    "    return model\n",
    "\n",
    "clf = KerasClassifier(make_model)\n",
    "\n",
    "param_grid = {'epochs': [1, 5, 10],  # epochs is fit parameter, not in make_model!\n",
    "              'hidden_size': [32, 64, 256]}\n",
    "\n",
    "grid = GridSearchCV(clf, param_grid=param_grid,return_train_score=True)"
   ]
  },
  {
   "cell_type": "code",
   "execution_count": 35,
   "metadata": {
    "scrolled": true
   },
   "outputs": [
    {
     "name": "stdout",
     "output_type": "stream",
     "text": [
      "Epoch 1/1\n",
      "48000/48000 [==============================] - 8s 163us/step - loss: 0.3899 - accuracy: 0.8916\n",
      "12000/12000 [==============================] - 1s 74us/step\n",
      "48000/48000 [==============================] - 3s 73us/step\n",
      "Epoch 1/1\n",
      "48000/48000 [==============================] - 8s 160us/step - loss: 0.3881 - accuracy: 0.8937\n",
      "12000/12000 [==============================] - 1s 76us/step\n",
      "48000/48000 [==============================] - 4s 76us/step\n",
      "Epoch 1/1\n",
      "48000/48000 [==============================] - 8s 159us/step - loss: 0.3793 - accuracy: 0.8956\n",
      "12000/12000 [==============================] - 1s 72us/step\n",
      "48000/48000 [==============================] - 3s 73us/step\n",
      "Epoch 1/1\n",
      "48000/48000 [==============================] - 8s 166us/step - loss: 0.3906 - accuracy: 0.8923\n",
      "12000/12000 [==============================] - 1s 75us/step\n",
      "48000/48000 [==============================] - 4s 81us/step\n",
      "Epoch 1/1\n",
      "48000/48000 [==============================] - 8s 167us/step - loss: 0.4082 - accuracy: 0.8868\n",
      "12000/12000 [==============================] - 1s 81us/step\n",
      "48000/48000 [==============================] - 4s 74us/step\n",
      "Epoch 1/1\n",
      "48000/48000 [==============================] - 10s 216us/step - loss: 0.3300 - accuracy: 0.9082\n",
      "12000/12000 [==============================] - 1s 78us/step\n",
      "48000/48000 [==============================] - 4s 81us/step\n",
      "Epoch 1/1\n",
      "48000/48000 [==============================] - 11s 224us/step - loss: 0.3166 - accuracy: 0.9101\n",
      "12000/12000 [==============================] - 1s 76us/step\n",
      "48000/48000 [==============================] - 5s 96us/step\n",
      "Epoch 1/1\n",
      "48000/48000 [==============================] - 11s 230us/step - loss: 0.3273 - accuracy: 0.9081\n",
      "12000/12000 [==============================] - 1s 78us/step\n",
      "48000/48000 [==============================] - 4s 77us/step\n",
      "Epoch 1/1\n",
      "48000/48000 [==============================] - 10s 217us/step - loss: 0.3249 - accuracy: 0.9083\n",
      "12000/12000 [==============================] - 1s 83us/step\n",
      "48000/48000 [==============================] - 4s 78us/step\n",
      "Epoch 1/1\n",
      "48000/48000 [==============================] - 11s 232us/step - loss: 0.3277 - accuracy: 0.9075\n",
      "12000/12000 [==============================] - 1s 77us/step\n",
      "48000/48000 [==============================] - 3s 72us/step\n",
      "Epoch 1/1\n",
      "48000/48000 [==============================] - 22s 458us/step - loss: 0.2486 - accuracy: 0.9281\n",
      "12000/12000 [==============================] - 1s 82us/step\n",
      "48000/48000 [==============================] - 4s 80us/step\n",
      "Epoch 1/1\n",
      "48000/48000 [==============================] - 22s 465us/step - loss: 0.2457 - accuracy: 0.9278\n",
      "12000/12000 [==============================] - 1s 89us/step\n",
      "48000/48000 [==============================] - 4s 93us/step\n",
      "Epoch 1/1\n",
      "48000/48000 [==============================] - 22s 466us/step - loss: 0.2507 - accuracy: 0.9277\n",
      "12000/12000 [==============================] - 1s 86us/step\n",
      "48000/48000 [==============================] - 4s 86us/step\n",
      "Epoch 1/1\n",
      "48000/48000 [==============================] - 23s 489us/step - loss: 0.2510 - accuracy: 0.9269\n",
      "12000/12000 [==============================] - 1s 84us/step\n",
      "48000/48000 [==============================] - 4s 86us/step\n",
      "Epoch 1/1\n",
      "48000/48000 [==============================] - 23s 478us/step - loss: 0.2528 - accuracy: 0.9264s - loss: 0.2543 - ac\n",
      "12000/12000 [==============================] - 1s 87us/step\n",
      "48000/48000 [==============================] - 4s 85us/step\n",
      "Epoch 1/5\n",
      "48000/48000 [==============================] - 8s 169us/step - loss: 0.3994 - accuracy: 0.8899\n",
      "Epoch 2/5\n",
      "48000/48000 [==============================] - 8s 163us/step - loss: 0.2299 - accuracy: 0.9345\n",
      "Epoch 3/5\n",
      "48000/48000 [==============================] - 8s 167us/step - loss: 0.1831 - accuracy: 0.9478\n",
      "Epoch 4/5\n",
      "48000/48000 [==============================] - 8s 166us/step - loss: 0.1526 - accuracy: 0.9566\n",
      "Epoch 5/5\n",
      "48000/48000 [==============================] - 8s 165us/step - loss: 0.1328 - accuracy: 0.9620\n",
      "12000/12000 [==============================] - 1s 80us/step\n",
      "48000/48000 [==============================] - 4s 75us/step\n",
      "Epoch 1/5\n",
      "48000/48000 [==============================] - 8s 161us/step - loss: 0.3808 - accuracy: 0.8940\n",
      "Epoch 2/5\n",
      "48000/48000 [==============================] - 8s 163us/step - loss: 0.1961 - accuracy: 0.9434\n",
      "Epoch 3/5\n",
      "48000/48000 [==============================] - 8s 158us/step - loss: 0.1528 - accuracy: 0.9557\n",
      "Epoch 4/5\n",
      "48000/48000 [==============================] - 8s 163us/step - loss: 0.1276 - accuracy: 0.9618\n",
      "Epoch 5/5\n",
      "48000/48000 [==============================] - 8s 159us/step - loss: 0.1112 - accuracy: 0.9671\n",
      "12000/12000 [==============================] - 1s 77us/step\n",
      "48000/48000 [==============================] - 4s 79us/step\n",
      "Epoch 1/5\n",
      "48000/48000 [==============================] - 8s 163us/step - loss: 0.3882 - accuracy: 0.8904\n",
      "Epoch 2/5\n",
      "48000/48000 [==============================] - 8s 166us/step - loss: 0.2169 - accuracy: 0.9381\n",
      "Epoch 3/5\n",
      "48000/48000 [==============================] - 8s 162us/step - loss: 0.1694 - accuracy: 0.9517\n",
      "Epoch 4/5\n",
      "48000/48000 [==============================] - 8s 164us/step - loss: 0.1400 - accuracy: 0.9592\n",
      "Epoch 5/5\n",
      "48000/48000 [==============================] - 8s 163us/step - loss: 0.1202 - accuracy: 0.9653\n",
      "12000/12000 [==============================] - 1s 79us/step\n",
      "48000/48000 [==============================] - 3s 67us/step\n",
      "Epoch 1/5\n",
      "48000/48000 [==============================] - 7s 151us/step - loss: 0.3802 - accuracy: 0.8950\n",
      "Epoch 2/5\n",
      "48000/48000 [==============================] - 7s 142us/step - loss: 0.2094 - accuracy: 0.9389\n",
      "Epoch 3/5\n",
      "48000/48000 [==============================] - 7s 144us/step - loss: 0.1698 - accuracy: 0.9513\n",
      "Epoch 4/5\n",
      "48000/48000 [==============================] - 7s 144us/step - loss: 0.1454 - accuracy: 0.9572\n",
      "Epoch 5/5\n",
      "48000/48000 [==============================] - 7s 145us/step - loss: 0.1291 - accuracy: 0.9613\n",
      "12000/12000 [==============================] - 1s 67us/step\n",
      "48000/48000 [==============================] - 3s 63us/step\n",
      "Epoch 1/5\n",
      "48000/48000 [==============================] - 7s 155us/step - loss: 0.4038 - accuracy: 0.8872\n",
      "Epoch 2/5\n",
      "48000/48000 [==============================] - 8s 167us/step - loss: 0.2234 - accuracy: 0.9360\n",
      "Epoch 3/5\n",
      "48000/48000 [==============================] - 8s 164us/step - loss: 0.1809 - accuracy: 0.9476\n",
      "Epoch 4/5\n",
      "48000/48000 [==============================] - 8s 168us/step - loss: 0.1550 - accuracy: 0.9548\n",
      "Epoch 5/5\n",
      "48000/48000 [==============================] - 8s 163us/step - loss: 0.1352 - accuracy: 0.9613\n",
      "12000/12000 [==============================] - 1s 80us/step\n",
      "48000/48000 [==============================] - 4s 80us/step\n",
      "Epoch 1/5\n",
      "48000/48000 [==============================] - 10s 209us/step - loss: 0.3305 - accuracy: 0.9059\n",
      "Epoch 2/5\n",
      "48000/48000 [==============================] - 10s 218us/step - loss: 0.1643 - accuracy: 0.9528\n",
      "Epoch 3/5\n",
      "48000/48000 [==============================] - 10s 218us/step - loss: 0.1181 - accuracy: 0.9651\n",
      "Epoch 4/5\n",
      "48000/48000 [==============================] - 10s 213us/step - loss: 0.0934 - accuracy: 0.9725\n",
      "Epoch 5/5\n",
      "48000/48000 [==============================] - 10s 218us/step - loss: 0.0765 - accuracy: 0.9767\n",
      "12000/12000 [==============================] - 1s 83us/step\n",
      "48000/48000 [==============================] - 4s 79us/step\n",
      "Epoch 1/5\n",
      "48000/48000 [==============================] - 11s 222us/step - loss: 0.3217 - accuracy: 0.9082\n",
      "Epoch 2/5\n",
      "48000/48000 [==============================] - 9s 197us/step - loss: 0.1601 - accuracy: 0.9530\n",
      "Epoch 3/5\n",
      "48000/48000 [==============================] - 9s 196us/step - loss: 0.1172 - accuracy: 0.9658\n",
      "Epoch 4/5\n",
      "48000/48000 [==============================] - 11s 222us/step - loss: 0.0926 - accuracy: 0.9729\n",
      "Epoch 5/5\n",
      "48000/48000 [==============================] - 10s 215us/step - loss: 0.0754 - accuracy: 0.9778\n",
      "12000/12000 [==============================] - 1s 87us/step\n",
      "48000/48000 [==============================] - 3s 72us/step\n",
      "Epoch 1/5\n",
      "48000/48000 [==============================] - 9s 195us/step - loss: 0.3339 - accuracy: 0.9082\n",
      "Epoch 2/5\n",
      "48000/48000 [==============================] - 9s 193us/step - loss: 0.1600 - accuracy: 0.9541\n",
      "Epoch 3/5\n",
      "48000/48000 [==============================] - 9s 191us/step - loss: 0.1183 - accuracy: 0.9657\n",
      "Epoch 4/5\n",
      "48000/48000 [==============================] - 9s 192us/step - loss: 0.0949 - accuracy: 0.9716\n",
      "Epoch 5/5\n",
      "48000/48000 [==============================] - 9s 192us/step - loss: 0.0774 - accuracy: 0.9768\n",
      "12000/12000 [==============================] - 1s 69us/step\n",
      "48000/48000 [==============================] - 3s 64us/step\n",
      "Epoch 1/5\n",
      "48000/48000 [==============================] - 9s 184us/step - loss: 0.3351 - accuracy: 0.9063\n",
      "Epoch 2/5\n",
      "48000/48000 [==============================] - 9s 182us/step - loss: 0.1652 - accuracy: 0.9527\n",
      "Epoch 3/5\n",
      "48000/48000 [==============================] - 9s 181us/step - loss: 0.1208 - accuracy: 0.9645\n",
      "Epoch 4/5\n",
      "48000/48000 [==============================] - 9s 182us/step - loss: 0.0940 - accuracy: 0.9724\n",
      "Epoch 5/5\n",
      "48000/48000 [==============================] - 9s 181us/step - loss: 0.0778 - accuracy: 0.9767\n",
      "12000/12000 [==============================] - 1s 68us/step\n",
      "48000/48000 [==============================] - 3s 63us/step\n",
      "Epoch 1/5\n",
      "48000/48000 [==============================] - 9s 189us/step - loss: 0.3304 - accuracy: 0.9069\n",
      "Epoch 2/5\n",
      "48000/48000 [==============================] - 9s 196us/step - loss: 0.1628 - accuracy: 0.9521\n",
      "Epoch 3/5\n",
      "48000/48000 [==============================] - 10s 219us/step - loss: 0.1185 - accuracy: 0.9652\n",
      "Epoch 4/5\n",
      "48000/48000 [==============================] - 10s 214us/step - loss: 0.0935 - accuracy: 0.9728\n",
      "Epoch 5/5\n",
      "48000/48000 [==============================] - 10s 217us/step - loss: 0.0762 - accuracy: 0.9777\n",
      "12000/12000 [==============================] - 1s 80us/step\n",
      "48000/48000 [==============================] - 4s 80us/step\n",
      "Epoch 1/5\n",
      "48000/48000 [==============================] - 22s 449us/step - loss: 0.2505 - accuracy: 0.9267\n",
      "Epoch 2/5\n",
      "48000/48000 [==============================] - 22s 468us/step - loss: 0.1044 - accuracy: 0.9695\n",
      "Epoch 3/5\n",
      "48000/48000 [==============================] - 23s 475us/step - loss: 0.0673 - accuracy: 0.9795\n",
      "Epoch 4/5\n",
      "48000/48000 [==============================] - 21s 435us/step - loss: 0.0467 - accuracy: 0.9855\n",
      "Epoch 5/5\n",
      "48000/48000 [==============================] - 20s 426us/step - loss: 0.0342 - accuracy: 0.9890\n",
      "12000/12000 [==============================] - 1s 77us/step\n",
      "48000/48000 [==============================] - 3s 72us/step\n",
      "Epoch 1/5\n",
      "48000/48000 [==============================] - 20s 426us/step - loss: 0.2486 - accuracy: 0.9266\n",
      "Epoch 2/5\n",
      "48000/48000 [==============================] - 21s 445us/step - loss: 0.1049 - accuracy: 0.9685s - loss: 0.1052 - accuracy\n",
      "Epoch 3/5\n",
      "48000/48000 [==============================] - 22s 460us/step - loss: 0.0680 - accuracy: 0.9787\n",
      "Epoch 4/5\n",
      "48000/48000 [==============================] - 22s 463us/step - loss: 0.0487 - accuracy: 0.9851\n",
      "Epoch 5/5\n",
      "48000/48000 [==============================] - 22s 459us/step - loss: 0.0349 - accuracy: 0.9894\n",
      "12000/12000 [==============================] - 1s 93us/step\n",
      "48000/48000 [==============================] - 5s 99us/step\n",
      "Epoch 1/5\n",
      "48000/48000 [==============================] - 23s 482us/step - loss: 0.2481 - accuracy: 0.9281\n",
      "Epoch 2/5\n",
      "48000/48000 [==============================] - 23s 483us/step - loss: 0.1037 - accuracy: 0.9693s - loss: 0.1044 \n",
      "Epoch 3/5\n",
      "48000/48000 [==============================] - 24s 493us/step - loss: 0.0664 - accuracy: 0.9803\n",
      "Epoch 4/5\n",
      "48000/48000 [==============================] - 24s 490us/step - loss: 0.0480 - accuracy: 0.9851\n",
      "Epoch 5/5\n",
      "48000/48000 [==============================] - 23s 484us/step - loss: 0.0340 - accuracy: 0.9890\n",
      "12000/12000 [==============================] - 1s 88us/step\n",
      "48000/48000 [==============================] - 4s 93us/step\n",
      "Epoch 1/5\n",
      "48000/48000 [==============================] - 23s 480us/step - loss: 0.2415 - accuracy: 0.9316s\n",
      "Epoch 2/5\n",
      "48000/48000 [==============================] - 23s 474us/step - loss: 0.1009 - accuracy: 0.9702s - loss: 0.100\n",
      "Epoch 3/5\n",
      "48000/48000 [==============================] - 22s 462us/step - loss: 0.0656 - accuracy: 0.9801\n",
      "Epoch 4/5\n",
      "48000/48000 [==============================] - 21s 445us/step - loss: 0.0456 - accuracy: 0.9860\n",
      "Epoch 5/5\n",
      "48000/48000 [==============================] - 21s 442us/step - loss: 0.0364 - accuracy: 0.9889\n",
      "12000/12000 [==============================] - 1s 77us/step\n",
      "48000/48000 [==============================] - 3s 72us/step\n",
      "Epoch 1/5\n",
      "48000/48000 [==============================] - 22s 457us/step - loss: 0.2516 - accuracy: 0.9267\n",
      "Epoch 2/5\n",
      "48000/48000 [==============================] - 21s 440us/step - loss: 0.1037 - accuracy: 0.9688\n",
      "Epoch 3/5\n",
      "48000/48000 [==============================] - 21s 438us/step - loss: 0.0682 - accuracy: 0.9794\n",
      "Epoch 4/5\n",
      "48000/48000 [==============================] - 21s 442us/step - loss: 0.0484 - accuracy: 0.9847\n",
      "Epoch 5/5\n",
      "48000/48000 [==============================] - 22s 465us/step - loss: 0.0343 - accuracy: 0.9890\n",
      "12000/12000 [==============================] - 1s 88us/step\n",
      "48000/48000 [==============================] - 4s 79us/step\n",
      "Epoch 1/10\n",
      "48000/48000 [==============================] - 7s 146us/step - loss: 0.3925 - accuracy: 0.8914\n",
      "Epoch 2/10\n",
      "48000/48000 [==============================] - 7s 142us/step - loss: 0.2228 - accuracy: 0.9359\n",
      "Epoch 3/10\n",
      "48000/48000 [==============================] - 7s 143us/step - loss: 0.1769 - accuracy: 0.9490\n",
      "Epoch 4/10\n",
      "48000/48000 [==============================] - 7s 140us/step - loss: 0.1472 - accuracy: 0.9570\n",
      "Epoch 5/10\n",
      "48000/48000 [==============================] - 7s 142us/step - loss: 0.1261 - accuracy: 0.9635\n",
      "Epoch 6/10\n",
      "48000/48000 [==============================] - 7s 142us/step - loss: 0.1123 - accuracy: 0.9667\n",
      "Epoch 7/10\n",
      "48000/48000 [==============================] - 7s 142us/step - loss: 0.1003 - accuracy: 0.9692\n",
      "Epoch 8/10\n",
      "48000/48000 [==============================] - 7s 141us/step - loss: 0.0914 - accuracy: 0.9721\n",
      "Epoch 9/10\n",
      "48000/48000 [==============================] - 7s 150us/step - loss: 0.0836 - accuracy: 0.9747\n",
      "Epoch 10/10\n",
      "48000/48000 [==============================] - 8s 163us/step - loss: 0.0767 - accuracy: 0.9768\n",
      "12000/12000 [==============================] - 1s 76us/step\n",
      "48000/48000 [==============================] - 4s 74us/step\n",
      "Epoch 1/10\n",
      "48000/48000 [==============================] - 8s 167us/step - loss: 0.3929 - accuracy: 0.8903\n",
      "Epoch 2/10\n",
      "48000/48000 [==============================] - 8s 172us/step - loss: 0.2089 - accuracy: 0.9391\n",
      "Epoch 3/10\n",
      "48000/48000 [==============================] - 8s 165us/step - loss: 0.1689 - accuracy: 0.9509\n",
      "Epoch 4/10\n",
      "48000/48000 [==============================] - 8s 158us/step - loss: 0.1448 - accuracy: 0.9572\n",
      "Epoch 5/10\n",
      "48000/48000 [==============================] - 8s 161us/step - loss: 0.1283 - accuracy: 0.9622\n",
      "Epoch 6/10\n",
      "48000/48000 [==============================] - 8s 162us/step - loss: 0.1150 - accuracy: 0.9661\n",
      "Epoch 7/10\n",
      "48000/48000 [==============================] - 7s 148us/step - loss: 0.1045 - accuracy: 0.9688\n",
      "Epoch 8/10\n",
      "48000/48000 [==============================] - 7s 142us/step - loss: 0.0952 - accuracy: 0.9710\n",
      "Epoch 9/10\n",
      "48000/48000 [==============================] - 7s 140us/step - loss: 0.0879 - accuracy: 0.9736\n",
      "Epoch 10/10\n",
      "48000/48000 [==============================] - 7s 143us/step - loss: 0.0812 - accuracy: 0.9763\n",
      "12000/12000 [==============================] - 1s 65us/step\n",
      "48000/48000 [==============================] - 3s 65us/step\n",
      "Epoch 1/10\n",
      "48000/48000 [==============================] - 8s 161us/step - loss: 0.3905 - accuracy: 0.8911\n",
      "Epoch 2/10\n",
      "48000/48000 [==============================] - 8s 159us/step - loss: 0.1968 - accuracy: 0.9434\n",
      "Epoch 3/10\n",
      "48000/48000 [==============================] - 7s 148us/step - loss: 0.1546 - accuracy: 0.9548\n",
      "Epoch 4/10\n",
      "48000/48000 [==============================] - 7s 142us/step - loss: 0.1283 - accuracy: 0.9625\n",
      "Epoch 5/10\n",
      "48000/48000 [==============================] - 7s 140us/step - loss: 0.1130 - accuracy: 0.9661\n",
      "Epoch 6/10\n",
      "48000/48000 [==============================] - 7s 143us/step - loss: 0.0992 - accuracy: 0.9697\n",
      "Epoch 7/10\n",
      "48000/48000 [==============================] - 7s 145us/step - loss: 0.0891 - accuracy: 0.9731\n",
      "Epoch 8/10\n"
     ]
    },
    {
     "name": "stdout",
     "output_type": "stream",
     "text": [
      "48000/48000 [==============================] - 8s 166us/step - loss: 0.0805 - accuracy: 0.9759\n",
      "Epoch 9/10\n",
      "48000/48000 [==============================] - 8s 156us/step - loss: 0.0750 - accuracy: 0.9764\n",
      "Epoch 10/10\n",
      "48000/48000 [==============================] - 7s 146us/step - loss: 0.0685 - accuracy: 0.9794\n",
      "12000/12000 [==============================] - 1s 66us/step\n",
      "48000/48000 [==============================] - 3s 64us/step\n",
      "Epoch 1/10\n",
      "48000/48000 [==============================] - 7s 147us/step - loss: 0.3814 - accuracy: 0.8935\n",
      "Epoch 2/10\n",
      "48000/48000 [==============================] - 8s 161us/step - loss: 0.1961 - accuracy: 0.9439\n",
      "Epoch 3/10\n",
      "48000/48000 [==============================] - 8s 164us/step - loss: 0.1551 - accuracy: 0.9549\n",
      "Epoch 4/10\n",
      "48000/48000 [==============================] - 8s 161us/step - loss: 0.1319 - accuracy: 0.9609\n",
      "Epoch 5/10\n",
      "48000/48000 [==============================] - 8s 157us/step - loss: 0.1146 - accuracy: 0.9658\n",
      "Epoch 6/10\n",
      "48000/48000 [==============================] - 7s 148us/step - loss: 0.1016 - accuracy: 0.9700\n",
      "Epoch 7/10\n",
      "48000/48000 [==============================] - 7s 140us/step - loss: 0.0916 - accuracy: 0.9723\n",
      "Epoch 8/10\n",
      "48000/48000 [==============================] - 7s 141us/step - loss: 0.0823 - accuracy: 0.9752\n",
      "Epoch 9/10\n",
      "48000/48000 [==============================] - 7s 139us/step - loss: 0.0756 - accuracy: 0.9774\n",
      "Epoch 10/10\n",
      "48000/48000 [==============================] - 7s 148us/step - loss: 0.0701 - accuracy: 0.9792\n",
      "12000/12000 [==============================] - 1s 77us/step\n",
      "48000/48000 [==============================] - 3s 64us/step\n",
      "Epoch 1/10\n",
      "48000/48000 [==============================] - 7s 141us/step - loss: 0.4013 - accuracy: 0.8860\n",
      "Epoch 2/10\n",
      "48000/48000 [==============================] - 7s 141us/step - loss: 0.2060 - accuracy: 0.9411\n",
      "Epoch 3/10\n",
      "48000/48000 [==============================] - 7s 138us/step - loss: 0.1612 - accuracy: 0.9541\n",
      "Epoch 4/10\n",
      "48000/48000 [==============================] - 7s 139us/step - loss: 0.1358 - accuracy: 0.9603\n",
      "Epoch 5/10\n",
      "48000/48000 [==============================] - 7s 144us/step - loss: 0.1170 - accuracy: 0.9660\n",
      "Epoch 6/10\n",
      "48000/48000 [==============================] - 7s 138us/step - loss: 0.1040 - accuracy: 0.9694\n",
      "Epoch 7/10\n",
      "48000/48000 [==============================] - 7s 140us/step - loss: 0.0936 - accuracy: 0.9726\n",
      "Epoch 8/10\n",
      "48000/48000 [==============================] - 7s 139us/step - loss: 0.0838 - accuracy: 0.9754\n",
      "Epoch 9/10\n",
      "48000/48000 [==============================] - 7s 141us/step - loss: 0.0783 - accuracy: 0.9767\n",
      "Epoch 10/10\n",
      "48000/48000 [==============================] - 7s 138us/step - loss: 0.0713 - accuracy: 0.9788\n",
      "12000/12000 [==============================] - 1s 68us/step\n",
      "48000/48000 [==============================] - 3s 63us/step\n",
      "Epoch 1/10\n",
      "48000/48000 [==============================] - 9s 190us/step - loss: 0.3220 - accuracy: 0.9097\n",
      "Epoch 2/10\n",
      "48000/48000 [==============================] - 9s 182us/step - loss: 0.1526 - accuracy: 0.9560\n",
      "Epoch 3/10\n",
      "48000/48000 [==============================] - 9s 184us/step - loss: 0.1125 - accuracy: 0.9668\n",
      "Epoch 4/10\n",
      "48000/48000 [==============================] - 9s 196us/step - loss: 0.0865 - accuracy: 0.9744\n",
      "Epoch 5/10\n",
      "48000/48000 [==============================] - 9s 184us/step - loss: 0.0709 - accuracy: 0.9782\n",
      "Epoch 6/10\n",
      "48000/48000 [==============================] - 9s 184us/step - loss: 0.0586 - accuracy: 0.9825\n",
      "Epoch 7/10\n",
      "48000/48000 [==============================] - 9s 183us/step - loss: 0.0501 - accuracy: 0.9847\n",
      "Epoch 8/10\n",
      "48000/48000 [==============================] - 9s 184us/step - loss: 0.0423 - accuracy: 0.9868\n",
      "Epoch 9/10\n",
      "48000/48000 [==============================] - 9s 184us/step - loss: 0.0348 - accuracy: 0.9894\n",
      "Epoch 10/10\n",
      "48000/48000 [==============================] - 9s 185us/step - loss: 0.0311 - accuracy: 0.9910\n",
      "12000/12000 [==============================] - 1s 67us/step\n",
      "48000/48000 [==============================] - 3s 64us/step\n",
      "Epoch 1/10\n",
      "48000/48000 [==============================] - 9s 187us/step - loss: 0.3319 - accuracy: 0.9056\n",
      "Epoch 2/10\n",
      "48000/48000 [==============================] - 9s 183us/step - loss: 0.1638 - accuracy: 0.9518\n",
      "Epoch 3/10\n",
      "48000/48000 [==============================] - 9s 185us/step - loss: 0.1193 - accuracy: 0.9651\n",
      "Epoch 4/10\n",
      "48000/48000 [==============================] - 9s 183us/step - loss: 0.0949 - accuracy: 0.9716\n",
      "Epoch 5/10\n",
      "48000/48000 [==============================] - 9s 183us/step - loss: 0.0770 - accuracy: 0.9769\n",
      "Epoch 6/10\n",
      "48000/48000 [==============================] - 9s 185us/step - loss: 0.0636 - accuracy: 0.9814\n",
      "Epoch 7/10\n",
      "48000/48000 [==============================] - 9s 184us/step - loss: 0.0540 - accuracy: 0.9835\n",
      "Epoch 8/10\n",
      "48000/48000 [==============================] - 9s 185us/step - loss: 0.0456 - accuracy: 0.9859\n",
      "Epoch 9/10\n",
      "48000/48000 [==============================] - 9s 183us/step - loss: 0.0405 - accuracy: 0.9877\n",
      "Epoch 10/10\n",
      "48000/48000 [==============================] - 9s 185us/step - loss: 0.0341 - accuracy: 0.9898\n",
      "12000/12000 [==============================] - 1s 66us/step\n",
      "48000/48000 [==============================] - 3s 64us/step\n",
      "Epoch 1/10\n",
      "48000/48000 [==============================] - 9s 194us/step - loss: 0.3341 - accuracy: 0.9065\n",
      "Epoch 2/10\n",
      "48000/48000 [==============================] - 9s 190us/step - loss: 0.1582 - accuracy: 0.9549\n",
      "Epoch 3/10\n",
      "48000/48000 [==============================] - 9s 190us/step - loss: 0.1158 - accuracy: 0.9657\n",
      "Epoch 4/10\n",
      "48000/48000 [==============================] - 9s 189us/step - loss: 0.0929 - accuracy: 0.9723\n",
      "Epoch 5/10\n",
      "48000/48000 [==============================] - 9s 191us/step - loss: 0.0747 - accuracy: 0.9782\n",
      "Epoch 6/10\n",
      "48000/48000 [==============================] - 9s 188us/step - loss: 0.0622 - accuracy: 0.9813\n",
      "Epoch 7/10\n",
      "48000/48000 [==============================] - 9s 190us/step - loss: 0.0522 - accuracy: 0.9837\n",
      "Epoch 8/10\n",
      "48000/48000 [==============================] - 9s 189us/step - loss: 0.0444 - accuracy: 0.9859\n",
      "Epoch 9/10\n",
      "48000/48000 [==============================] - 9s 193us/step - loss: 0.0384 - accuracy: 0.9883\n",
      "Epoch 10/10\n",
      "48000/48000 [==============================] - 9s 191us/step - loss: 0.0321 - accuracy: 0.9904\n",
      "12000/12000 [==============================] - 1s 66us/step\n",
      "48000/48000 [==============================] - 3s 64us/step\n",
      "Epoch 1/10\n",
      "48000/48000 [==============================] - 9s 190us/step - loss: 0.3342 - accuracy: 0.9070\n",
      "Epoch 2/10\n",
      "48000/48000 [==============================] - 9s 188us/step - loss: 0.1567 - accuracy: 0.9549\n",
      "Epoch 3/10\n",
      "48000/48000 [==============================] - 9s 189us/step - loss: 0.1131 - accuracy: 0.9666\n",
      "Epoch 4/10\n",
      "48000/48000 [==============================] - 9s 188us/step - loss: 0.0868 - accuracy: 0.9746\n",
      "Epoch 5/10\n",
      "48000/48000 [==============================] - 9s 190us/step - loss: 0.0719 - accuracy: 0.9779\n",
      "Epoch 6/10\n",
      "48000/48000 [==============================] - ETA: 0s - loss: 0.0598 - accuracy: 0.98 - 9s 187us/step - loss: 0.0598 - accuracy: 0.9820\n",
      "Epoch 7/10\n",
      "48000/48000 [==============================] - 9s 188us/step - loss: 0.0506 - accuracy: 0.9841\n",
      "Epoch 8/10\n",
      "48000/48000 [==============================] - 9s 187us/step - loss: 0.0415 - accuracy: 0.9869\n",
      "Epoch 9/10\n",
      "48000/48000 [==============================] - 9s 189us/step - loss: 0.0370 - accuracy: 0.9886\n",
      "Epoch 10/10\n",
      "48000/48000 [==============================] - 9s 189us/step - loss: 0.0304 - accuracy: 0.9910\n",
      "12000/12000 [==============================] - 1s 66us/step\n",
      "48000/48000 [==============================] - 3s 64us/step\n",
      "Epoch 1/10\n",
      "48000/48000 [==============================] - 9s 187us/step - loss: 0.3297 - accuracy: 0.9065\n",
      "Epoch 2/10\n",
      "48000/48000 [==============================] - 9s 185us/step - loss: 0.1575 - accuracy: 0.9550\n",
      "Epoch 3/10\n",
      "48000/48000 [==============================] - 9s 186us/step - loss: 0.1140 - accuracy: 0.9667\n",
      "Epoch 4/10\n",
      "48000/48000 [==============================] - 9s 185us/step - loss: 0.0899 - accuracy: 0.9735\n",
      "Epoch 5/10\n",
      "48000/48000 [==============================] - 9s 186us/step - loss: 0.0727 - accuracy: 0.9779\n",
      "Epoch 6/10\n",
      "48000/48000 [==============================] - 9s 185us/step - loss: 0.0613 - accuracy: 0.9818\n",
      "Epoch 7/10\n"
     ]
    },
    {
     "name": "stdout",
     "output_type": "stream",
     "text": [
      "48000/48000 [==============================] - 9s 187us/step - loss: 0.0518 - accuracy: 0.9846\n",
      "Epoch 8/10\n",
      "48000/48000 [==============================] - 9s 186us/step - loss: 0.0429 - accuracy: 0.9871\n",
      "Epoch 9/10\n",
      "48000/48000 [==============================] - 9s 187us/step - loss: 0.0371 - accuracy: 0.9890\n",
      "Epoch 10/10\n",
      "48000/48000 [==============================] - 9s 185us/step - loss: 0.0316 - accuracy: 0.9904\n",
      "12000/12000 [==============================] - 1s 69us/step\n",
      "48000/48000 [==============================] - 3s 68us/step\n",
      "Epoch 1/10\n",
      "48000/48000 [==============================] - 21s 444us/step - loss: 0.2490 - accuracy: 0.9280\n",
      "Epoch 2/10\n",
      "48000/48000 [==============================] - 21s 439us/step - loss: 0.1021 - accuracy: 0.9694\n",
      "Epoch 3/10\n",
      "48000/48000 [==============================] - 21s 439us/step - loss: 0.0682 - accuracy: 0.9785\n",
      "Epoch 4/10\n",
      "48000/48000 [==============================] - 21s 439us/step - loss: 0.0461 - accuracy: 0.9860\n",
      "Epoch 5/10\n",
      "48000/48000 [==============================] - 21s 438us/step - loss: 0.0351 - accuracy: 0.9888\n",
      "Epoch 6/10\n",
      "48000/48000 [==============================] - 21s 439us/step - loss: 0.0258 - accuracy: 0.9922\n",
      "Epoch 7/10\n",
      "48000/48000 [==============================] - 21s 440us/step - loss: 0.0221 - accuracy: 0.9930\n",
      "Epoch 8/10\n",
      "48000/48000 [==============================] - 21s 441us/step - loss: 0.0158 - accuracy: 0.9950\n",
      "Epoch 9/10\n",
      "48000/48000 [==============================] - 21s 440us/step - loss: 0.0118 - accuracy: 0.9963\n",
      "Epoch 10/10\n",
      "48000/48000 [==============================] - 21s 440us/step - loss: 0.0136 - accuracy: 0.9956\n",
      "12000/12000 [==============================] - 1s 75us/step\n",
      "48000/48000 [==============================] - 3s 72us/step\n",
      "Epoch 1/10\n",
      "48000/48000 [==============================] - 20s 416us/step - loss: 0.2483 - accuracy: 0.9285\n",
      "Epoch 2/10\n",
      "48000/48000 [==============================] - 20s 414us/step - loss: 0.1056 - accuracy: 0.9689\n",
      "Epoch 3/10\n",
      "48000/48000 [==============================] - 20s 414us/step - loss: 0.0706 - accuracy: 0.9790\n",
      "Epoch 4/10\n",
      "48000/48000 [==============================] - 20s 414us/step - loss: 0.0511 - accuracy: 0.9841\n",
      "Epoch 5/10\n",
      "48000/48000 [==============================] - 20s 412us/step - loss: 0.0378 - accuracy: 0.9879\n",
      "Epoch 6/10\n",
      "48000/48000 [==============================] - 20s 412us/step - loss: 0.0275 - accuracy: 0.9918\n",
      "Epoch 7/10\n",
      "48000/48000 [==============================] - 20s 414us/step - loss: 0.0208 - accuracy: 0.9935\n",
      "Epoch 8/10\n",
      "48000/48000 [==============================] - 20s 413us/step - loss: 0.0179 - accuracy: 0.9944\n",
      "Epoch 9/10\n",
      "48000/48000 [==============================] - 20s 414us/step - loss: 0.0159 - accuracy: 0.9948\n",
      "Epoch 10/10\n",
      "48000/48000 [==============================] - 21s 433us/step - loss: 0.0121 - accuracy: 0.9962\n",
      "12000/12000 [==============================] - 1s 83us/step\n",
      "48000/48000 [==============================] - 4s 84us/step\n",
      "Epoch 1/10\n",
      "48000/48000 [==============================] - 22s 454us/step - loss: 0.2483 - accuracy: 0.9285\n",
      "Epoch 2/10\n",
      "48000/48000 [==============================] - 21s 443us/step - loss: 0.1039 - accuracy: 0.9683\n",
      "Epoch 3/10\n",
      "48000/48000 [==============================] - 21s 431us/step - loss: 0.0673 - accuracy: 0.9793\n",
      "Epoch 4/10\n",
      "48000/48000 [==============================] - 20s 423us/step - loss: 0.0490 - accuracy: 0.9846\n",
      "Epoch 5/10\n",
      "48000/48000 [==============================] - 20s 423us/step - loss: 0.0350 - accuracy: 0.9881\n",
      "Epoch 6/10\n",
      "48000/48000 [==============================] - 21s 431us/step - loss: 0.0266 - accuracy: 0.9918\n",
      "Epoch 7/10\n",
      "48000/48000 [==============================] - 20s 421us/step - loss: 0.0190 - accuracy: 0.9941\n",
      "Epoch 8/10\n",
      "48000/48000 [==============================] - 20s 423us/step - loss: 0.0164 - accuracy: 0.9948\n",
      "Epoch 9/10\n",
      "48000/48000 [==============================] - 21s 431us/step - loss: 0.0140 - accuracy: 0.9958\n",
      "Epoch 10/10\n",
      "48000/48000 [==============================] - 20s 424us/step - loss: 0.0111 - accuracy: 0.9964\n",
      "12000/12000 [==============================] - 1s 76us/step\n",
      "48000/48000 [==============================] - 3s 72us/step\n",
      "Epoch 1/10\n",
      "48000/48000 [==============================] - 21s 428us/step - loss: 0.2469 - accuracy: 0.9283\n",
      "Epoch 2/10\n",
      "48000/48000 [==============================] - 19s 395us/step - loss: 0.0981 - accuracy: 0.9709\n",
      "Epoch 3/10\n",
      "48000/48000 [==============================] - 19s 397us/step - loss: 0.0645 - accuracy: 0.9797\n",
      "Epoch 4/10\n",
      "48000/48000 [==============================] - 20s 425us/step - loss: 0.0475 - accuracy: 0.9853\n",
      "Epoch 5/10\n",
      "48000/48000 [==============================] - 22s 458us/step - loss: 0.0343 - accuracy: 0.9893\n",
      "Epoch 6/10\n",
      "48000/48000 [==============================] - 24s 499us/step - loss: 0.0259 - accuracy: 0.9917\n",
      "Epoch 7/10\n",
      "48000/48000 [==============================] - 21s 442us/step - loss: 0.0198 - accuracy: 0.9940\n",
      "Epoch 8/10\n",
      "48000/48000 [==============================] - 20s 423us/step - loss: 0.0174 - accuracy: 0.9945\n",
      "Epoch 9/10\n",
      "48000/48000 [==============================] - 20s 422us/step - loss: 0.0118 - accuracy: 0.9965\n",
      "Epoch 10/10\n",
      "48000/48000 [==============================] - 22s 449us/step - loss: 0.0112 - accuracy: 0.9964\n",
      "12000/12000 [==============================] - 1s 81us/step\n",
      "48000/48000 [==============================] - 4s 89us/step\n",
      "Epoch 1/10\n",
      "48000/48000 [==============================] - 21s 438us/step - loss: 0.2455 - accuracy: 0.9287\n",
      "Epoch 2/10\n",
      "48000/48000 [==============================] - 20s 421us/step - loss: 0.1024 - accuracy: 0.9701\n",
      "Epoch 3/10\n",
      "48000/48000 [==============================] - 20s 420us/step - loss: 0.0675 - accuracy: 0.9797\n",
      "Epoch 4/10\n",
      "48000/48000 [==============================] - 20s 421us/step - loss: 0.0482 - accuracy: 0.9854\n",
      "Epoch 5/10\n",
      "48000/48000 [==============================] - 20s 418us/step - loss: 0.0346 - accuracy: 0.9894\n",
      "Epoch 6/10\n",
      "48000/48000 [==============================] - 20s 420us/step - loss: 0.0240 - accuracy: 0.9928\n",
      "Epoch 7/10\n",
      "48000/48000 [==============================] - 20s 420us/step - loss: 0.0225 - accuracy: 0.9926\n",
      "Epoch 8/10\n",
      "48000/48000 [==============================] - 20s 421us/step - loss: 0.0151 - accuracy: 0.9956\n",
      "Epoch 9/10\n",
      "48000/48000 [==============================] - 20s 419us/step - loss: 0.0137 - accuracy: 0.9956\n",
      "Epoch 10/10\n",
      "48000/48000 [==============================] - 20s 422us/step - loss: 0.0119 - accuracy: 0.9963\n",
      "12000/12000 [==============================] - 1s 79us/step\n",
      "48000/48000 [==============================] - 4s 77us/step\n",
      "Epoch 1/10\n",
      "60000/60000 [==============================] - 25s 421us/step - loss: 0.2239 - accuracy: 0.9349\n",
      "Epoch 2/10\n",
      "60000/60000 [==============================] - 25s 419us/step - loss: 0.0899 - accuracy: 0.9732\n",
      "Epoch 3/10\n",
      "60000/60000 [==============================] - 25s 420us/step - loss: 0.0613 - accuracy: 0.9812\n",
      "Epoch 4/10\n",
      "60000/60000 [==============================] - 25s 421us/step - loss: 0.0429 - accuracy: 0.9869\n",
      "Epoch 5/10\n",
      "60000/60000 [==============================] - 25s 419us/step - loss: 0.0326 - accuracy: 0.9899\n",
      "Epoch 6/10\n",
      "60000/60000 [==============================] - 26s 437us/step - loss: 0.0238 - accuracy: 0.9927\n",
      "Epoch 7/10\n",
      "60000/60000 [==============================] - 27s 450us/step - loss: 0.0208 - accuracy: 0.9935\n",
      "Epoch 8/10\n",
      "60000/60000 [==============================] - 25s 420us/step - loss: 0.0154 - accuracy: 0.9949\n",
      "Epoch 9/10\n",
      "60000/60000 [==============================] - 26s 429us/step - loss: 0.0126 - accuracy: 0.9961\n",
      "Epoch 10/10\n",
      "60000/60000 [==============================] - 26s 437us/step - loss: 0.0107 - accuracy: 0.9966\n"
     ]
    },
    {
     "data": {
      "text/plain": [
       "GridSearchCV(cv=None, error_score=nan,\n",
       "             estimator=<keras.wrappers.scikit_learn.KerasClassifier object at 0x0000025BA4EC1B08>,\n",
       "             iid='deprecated', n_jobs=None,\n",
       "             param_grid={'epochs': [1, 5, 10], 'hidden_size': [32, 64, 256]},\n",
       "             pre_dispatch='2*n_jobs', refit=True, return_train_score=True,\n",
       "             scoring=None, verbose=0)"
      ]
     },
     "execution_count": 35,
     "metadata": {},
     "output_type": "execute_result"
    }
   ],
   "source": [
    "grid.fit(X_train, y_train)"
   ]
  },
  {
   "cell_type": "code",
   "execution_count": 47,
   "metadata": {},
   "outputs": [],
   "source": [
    "res = pd.DataFrame(grid.cv_results_)"
   ]
  },
  {
   "cell_type": "code",
   "execution_count": 48,
   "metadata": {},
   "outputs": [
    {
     "data": {
      "text/html": [
       "<div>\n",
       "<style scoped>\n",
       "    .dataframe tbody tr th:only-of-type {\n",
       "        vertical-align: middle;\n",
       "    }\n",
       "\n",
       "    .dataframe tbody tr th {\n",
       "        vertical-align: top;\n",
       "    }\n",
       "\n",
       "    .dataframe thead th {\n",
       "        text-align: right;\n",
       "    }\n",
       "</style>\n",
       "<table border=\"1\" class=\"dataframe\">\n",
       "  <thead>\n",
       "    <tr style=\"text-align: right;\">\n",
       "      <th></th>\n",
       "      <th>mean_fit_time</th>\n",
       "      <th>std_fit_time</th>\n",
       "      <th>mean_score_time</th>\n",
       "      <th>std_score_time</th>\n",
       "      <th>param_epochs</th>\n",
       "      <th>param_hidden_size</th>\n",
       "      <th>params</th>\n",
       "      <th>split0_test_score</th>\n",
       "      <th>split1_test_score</th>\n",
       "      <th>split2_test_score</th>\n",
       "      <th>...</th>\n",
       "      <th>mean_test_score</th>\n",
       "      <th>std_test_score</th>\n",
       "      <th>rank_test_score</th>\n",
       "      <th>split0_train_score</th>\n",
       "      <th>split1_train_score</th>\n",
       "      <th>split2_train_score</th>\n",
       "      <th>split3_train_score</th>\n",
       "      <th>split4_train_score</th>\n",
       "      <th>mean_train_score</th>\n",
       "      <th>std_train_score</th>\n",
       "    </tr>\n",
       "  </thead>\n",
       "  <tbody>\n",
       "    <tr>\n",
       "      <td>0</td>\n",
       "      <td>6.025750</td>\n",
       "      <td>0.121604</td>\n",
       "      <td>0.934897</td>\n",
       "      <td>0.037494</td>\n",
       "      <td>1</td>\n",
       "      <td>32</td>\n",
       "      <td>{'epochs': 1, 'hidden_size': 32}</td>\n",
       "      <td>0.934583</td>\n",
       "      <td>0.927500</td>\n",
       "      <td>0.924250</td>\n",
       "      <td>...</td>\n",
       "      <td>0.927917</td>\n",
       "      <td>0.005626</td>\n",
       "      <td>9</td>\n",
       "      <td>0.934104</td>\n",
       "      <td>0.933875</td>\n",
       "      <td>0.933500</td>\n",
       "      <td>0.929271</td>\n",
       "      <td>0.935854</td>\n",
       "      <td>0.933321</td>\n",
       "      <td>0.002181</td>\n",
       "    </tr>\n",
       "    <tr>\n",
       "      <td>1</td>\n",
       "      <td>6.387165</td>\n",
       "      <td>0.401532</td>\n",
       "      <td>0.966152</td>\n",
       "      <td>0.067356</td>\n",
       "      <td>1</td>\n",
       "      <td>64</td>\n",
       "      <td>{'epochs': 1, 'hidden_size': 64}</td>\n",
       "      <td>0.946500</td>\n",
       "      <td>0.939333</td>\n",
       "      <td>0.930917</td>\n",
       "      <td>...</td>\n",
       "      <td>0.940100</td>\n",
       "      <td>0.006106</td>\n",
       "      <td>8</td>\n",
       "      <td>0.951604</td>\n",
       "      <td>0.949083</td>\n",
       "      <td>0.939854</td>\n",
       "      <td>0.948042</td>\n",
       "      <td>0.947312</td>\n",
       "      <td>0.947179</td>\n",
       "      <td>0.003940</td>\n",
       "    </tr>\n",
       "    <tr>\n",
       "      <td>2</td>\n",
       "      <td>6.337506</td>\n",
       "      <td>0.451046</td>\n",
       "      <td>0.960214</td>\n",
       "      <td>0.062294</td>\n",
       "      <td>1</td>\n",
       "      <td>256</td>\n",
       "      <td>{'epochs': 1, 'hidden_size': 256}</td>\n",
       "      <td>0.962167</td>\n",
       "      <td>0.956917</td>\n",
       "      <td>0.956917</td>\n",
       "      <td>...</td>\n",
       "      <td>0.957833</td>\n",
       "      <td>0.003924</td>\n",
       "      <td>6</td>\n",
       "      <td>0.968125</td>\n",
       "      <td>0.966542</td>\n",
       "      <td>0.967917</td>\n",
       "      <td>0.967021</td>\n",
       "      <td>0.967229</td>\n",
       "      <td>0.967367</td>\n",
       "      <td>0.000583</td>\n",
       "    </tr>\n",
       "    <tr>\n",
       "      <td>3</td>\n",
       "      <td>26.587724</td>\n",
       "      <td>2.333972</td>\n",
       "      <td>0.835366</td>\n",
       "      <td>0.092323</td>\n",
       "      <td>5</td>\n",
       "      <td>32</td>\n",
       "      <td>{'epochs': 5, 'hidden_size': 32}</td>\n",
       "      <td>0.960167</td>\n",
       "      <td>0.955583</td>\n",
       "      <td>0.958167</td>\n",
       "      <td>...</td>\n",
       "      <td>0.956867</td>\n",
       "      <td>0.003196</td>\n",
       "      <td>7</td>\n",
       "      <td>0.970750</td>\n",
       "      <td>0.970167</td>\n",
       "      <td>0.971646</td>\n",
       "      <td>0.969063</td>\n",
       "      <td>0.967354</td>\n",
       "      <td>0.969796</td>\n",
       "      <td>0.001481</td>\n",
       "    </tr>\n",
       "    <tr>\n",
       "      <td>4</td>\n",
       "      <td>25.592521</td>\n",
       "      <td>1.697408</td>\n",
       "      <td>0.866651</td>\n",
       "      <td>0.097582</td>\n",
       "      <td>5</td>\n",
       "      <td>64</td>\n",
       "      <td>{'epochs': 5, 'hidden_size': 64}</td>\n",
       "      <td>0.968750</td>\n",
       "      <td>0.966833</td>\n",
       "      <td>0.970250</td>\n",
       "      <td>...</td>\n",
       "      <td>0.967600</td>\n",
       "      <td>0.002433</td>\n",
       "      <td>4</td>\n",
       "      <td>0.981917</td>\n",
       "      <td>0.984021</td>\n",
       "      <td>0.984521</td>\n",
       "      <td>0.981542</td>\n",
       "      <td>0.983250</td>\n",
       "      <td>0.983050</td>\n",
       "      <td>0.001158</td>\n",
       "    </tr>\n",
       "    <tr>\n",
       "      <td>5</td>\n",
       "      <td>28.306518</td>\n",
       "      <td>1.612541</td>\n",
       "      <td>0.947189</td>\n",
       "      <td>0.089548</td>\n",
       "      <td>5</td>\n",
       "      <td>256</td>\n",
       "      <td>{'epochs': 5, 'hidden_size': 256}</td>\n",
       "      <td>0.973833</td>\n",
       "      <td>0.974083</td>\n",
       "      <td>0.973917</td>\n",
       "      <td>...</td>\n",
       "      <td>0.974033</td>\n",
       "      <td>0.001850</td>\n",
       "      <td>2</td>\n",
       "      <td>0.992521</td>\n",
       "      <td>0.992562</td>\n",
       "      <td>0.992396</td>\n",
       "      <td>0.992688</td>\n",
       "      <td>0.994083</td>\n",
       "      <td>0.992850</td>\n",
       "      <td>0.000624</td>\n",
       "    </tr>\n",
       "    <tr>\n",
       "      <td>6</td>\n",
       "      <td>50.026700</td>\n",
       "      <td>0.648113</td>\n",
       "      <td>0.830380</td>\n",
       "      <td>0.012044</td>\n",
       "      <td>10</td>\n",
       "      <td>32</td>\n",
       "      <td>{'epochs': 10, 'hidden_size': 32}</td>\n",
       "      <td>0.964917</td>\n",
       "      <td>0.960500</td>\n",
       "      <td>0.956833</td>\n",
       "      <td>...</td>\n",
       "      <td>0.960917</td>\n",
       "      <td>0.002672</td>\n",
       "      <td>5</td>\n",
       "      <td>0.979625</td>\n",
       "      <td>0.981958</td>\n",
       "      <td>0.978562</td>\n",
       "      <td>0.985229</td>\n",
       "      <td>0.979500</td>\n",
       "      <td>0.980975</td>\n",
       "      <td>0.002403</td>\n",
       "    </tr>\n",
       "    <tr>\n",
       "      <td>7</td>\n",
       "      <td>49.753013</td>\n",
       "      <td>0.768863</td>\n",
       "      <td>0.835367</td>\n",
       "      <td>0.028256</td>\n",
       "      <td>10</td>\n",
       "      <td>64</td>\n",
       "      <td>{'epochs': 10, 'hidden_size': 64}</td>\n",
       "      <td>0.969500</td>\n",
       "      <td>0.969750</td>\n",
       "      <td>0.971083</td>\n",
       "      <td>...</td>\n",
       "      <td>0.969783</td>\n",
       "      <td>0.002038</td>\n",
       "      <td>3</td>\n",
       "      <td>0.993333</td>\n",
       "      <td>0.992500</td>\n",
       "      <td>0.993917</td>\n",
       "      <td>0.993625</td>\n",
       "      <td>0.992375</td>\n",
       "      <td>0.993150</td>\n",
       "      <td>0.000612</td>\n",
       "    </tr>\n",
       "    <tr>\n",
       "      <td>8</td>\n",
       "      <td>52.003170</td>\n",
       "      <td>0.490206</td>\n",
       "      <td>0.842732</td>\n",
       "      <td>0.040182</td>\n",
       "      <td>10</td>\n",
       "      <td>256</td>\n",
       "      <td>{'epochs': 10, 'hidden_size': 256}</td>\n",
       "      <td>0.978167</td>\n",
       "      <td>0.976333</td>\n",
       "      <td>0.976667</td>\n",
       "      <td>...</td>\n",
       "      <td>0.976817</td>\n",
       "      <td>0.001747</td>\n",
       "      <td>1</td>\n",
       "      <td>0.997563</td>\n",
       "      <td>0.996896</td>\n",
       "      <td>0.996542</td>\n",
       "      <td>0.996562</td>\n",
       "      <td>0.998417</td>\n",
       "      <td>0.997196</td>\n",
       "      <td>0.000713</td>\n",
       "    </tr>\n",
       "  </tbody>\n",
       "</table>\n",
       "<p>9 rows × 22 columns</p>\n",
       "</div>"
      ],
      "text/plain": [
       "   mean_fit_time  std_fit_time  mean_score_time  std_score_time param_epochs  \\\n",
       "0       6.025750      0.121604         0.934897        0.037494            1   \n",
       "1       6.387165      0.401532         0.966152        0.067356            1   \n",
       "2       6.337506      0.451046         0.960214        0.062294            1   \n",
       "3      26.587724      2.333972         0.835366        0.092323            5   \n",
       "4      25.592521      1.697408         0.866651        0.097582            5   \n",
       "5      28.306518      1.612541         0.947189        0.089548            5   \n",
       "6      50.026700      0.648113         0.830380        0.012044           10   \n",
       "7      49.753013      0.768863         0.835367        0.028256           10   \n",
       "8      52.003170      0.490206         0.842732        0.040182           10   \n",
       "\n",
       "  param_hidden_size                              params  split0_test_score  \\\n",
       "0                32    {'epochs': 1, 'hidden_size': 32}           0.934583   \n",
       "1                64    {'epochs': 1, 'hidden_size': 64}           0.946500   \n",
       "2               256   {'epochs': 1, 'hidden_size': 256}           0.962167   \n",
       "3                32    {'epochs': 5, 'hidden_size': 32}           0.960167   \n",
       "4                64    {'epochs': 5, 'hidden_size': 64}           0.968750   \n",
       "5               256   {'epochs': 5, 'hidden_size': 256}           0.973833   \n",
       "6                32   {'epochs': 10, 'hidden_size': 32}           0.964917   \n",
       "7                64   {'epochs': 10, 'hidden_size': 64}           0.969500   \n",
       "8               256  {'epochs': 10, 'hidden_size': 256}           0.978167   \n",
       "\n",
       "   split1_test_score  split2_test_score  ...  mean_test_score  std_test_score  \\\n",
       "0           0.927500           0.924250  ...         0.927917        0.005626   \n",
       "1           0.939333           0.930917  ...         0.940100        0.006106   \n",
       "2           0.956917           0.956917  ...         0.957833        0.003924   \n",
       "3           0.955583           0.958167  ...         0.956867        0.003196   \n",
       "4           0.966833           0.970250  ...         0.967600        0.002433   \n",
       "5           0.974083           0.973917  ...         0.974033        0.001850   \n",
       "6           0.960500           0.956833  ...         0.960917        0.002672   \n",
       "7           0.969750           0.971083  ...         0.969783        0.002038   \n",
       "8           0.976333           0.976667  ...         0.976817        0.001747   \n",
       "\n",
       "   rank_test_score  split0_train_score  split1_train_score  \\\n",
       "0                9            0.934104            0.933875   \n",
       "1                8            0.951604            0.949083   \n",
       "2                6            0.968125            0.966542   \n",
       "3                7            0.970750            0.970167   \n",
       "4                4            0.981917            0.984021   \n",
       "5                2            0.992521            0.992562   \n",
       "6                5            0.979625            0.981958   \n",
       "7                3            0.993333            0.992500   \n",
       "8                1            0.997563            0.996896   \n",
       "\n",
       "   split2_train_score  split3_train_score  split4_train_score  \\\n",
       "0            0.933500            0.929271            0.935854   \n",
       "1            0.939854            0.948042            0.947312   \n",
       "2            0.967917            0.967021            0.967229   \n",
       "3            0.971646            0.969063            0.967354   \n",
       "4            0.984521            0.981542            0.983250   \n",
       "5            0.992396            0.992688            0.994083   \n",
       "6            0.978562            0.985229            0.979500   \n",
       "7            0.993917            0.993625            0.992375   \n",
       "8            0.996542            0.996562            0.998417   \n",
       "\n",
       "   mean_train_score  std_train_score  \n",
       "0          0.933321         0.002181  \n",
       "1          0.947179         0.003940  \n",
       "2          0.967367         0.000583  \n",
       "3          0.969796         0.001481  \n",
       "4          0.983050         0.001158  \n",
       "5          0.992850         0.000624  \n",
       "6          0.980975         0.002403  \n",
       "7          0.993150         0.000612  \n",
       "8          0.997196         0.000713  \n",
       "\n",
       "[9 rows x 22 columns]"
      ]
     },
     "execution_count": 48,
     "metadata": {},
     "output_type": "execute_result"
    }
   ],
   "source": [
    "res"
   ]
  },
  {
   "cell_type": "code",
   "execution_count": 49,
   "metadata": {},
   "outputs": [
    {
     "data": {
      "text/html": [
       "<div>\n",
       "<style scoped>\n",
       "    .dataframe tbody tr th:only-of-type {\n",
       "        vertical-align: middle;\n",
       "    }\n",
       "\n",
       "    .dataframe tbody tr th {\n",
       "        vertical-align: top;\n",
       "    }\n",
       "\n",
       "    .dataframe thead th {\n",
       "        text-align: right;\n",
       "    }\n",
       "</style>\n",
       "<table border=\"1\" class=\"dataframe\">\n",
       "  <thead>\n",
       "    <tr style=\"text-align: right;\">\n",
       "      <th></th>\n",
       "      <th></th>\n",
       "      <th>mean_test_score</th>\n",
       "      <th>mean_train_score</th>\n",
       "    </tr>\n",
       "    <tr>\n",
       "      <th>param_epochs</th>\n",
       "      <th>param_hidden_size</th>\n",
       "      <th></th>\n",
       "      <th></th>\n",
       "    </tr>\n",
       "  </thead>\n",
       "  <tbody>\n",
       "    <tr>\n",
       "      <td rowspan=\"3\" valign=\"top\">1</td>\n",
       "      <td>32</td>\n",
       "      <td>0.927917</td>\n",
       "      <td>0.933321</td>\n",
       "    </tr>\n",
       "    <tr>\n",
       "      <td>64</td>\n",
       "      <td>0.940100</td>\n",
       "      <td>0.947179</td>\n",
       "    </tr>\n",
       "    <tr>\n",
       "      <td>256</td>\n",
       "      <td>0.957833</td>\n",
       "      <td>0.967367</td>\n",
       "    </tr>\n",
       "    <tr>\n",
       "      <td rowspan=\"3\" valign=\"top\">5</td>\n",
       "      <td>32</td>\n",
       "      <td>0.956867</td>\n",
       "      <td>0.969796</td>\n",
       "    </tr>\n",
       "    <tr>\n",
       "      <td>64</td>\n",
       "      <td>0.967600</td>\n",
       "      <td>0.983050</td>\n",
       "    </tr>\n",
       "    <tr>\n",
       "      <td>256</td>\n",
       "      <td>0.974033</td>\n",
       "      <td>0.992850</td>\n",
       "    </tr>\n",
       "    <tr>\n",
       "      <td rowspan=\"3\" valign=\"top\">10</td>\n",
       "      <td>32</td>\n",
       "      <td>0.960917</td>\n",
       "      <td>0.980975</td>\n",
       "    </tr>\n",
       "    <tr>\n",
       "      <td>64</td>\n",
       "      <td>0.969783</td>\n",
       "      <td>0.993150</td>\n",
       "    </tr>\n",
       "    <tr>\n",
       "      <td>256</td>\n",
       "      <td>0.976817</td>\n",
       "      <td>0.997196</td>\n",
       "    </tr>\n",
       "  </tbody>\n",
       "</table>\n",
       "</div>"
      ],
      "text/plain": [
       "                                mean_test_score  mean_train_score\n",
       "param_epochs param_hidden_size                                   \n",
       "1            32                        0.927917          0.933321\n",
       "             64                        0.940100          0.947179\n",
       "             256                       0.957833          0.967367\n",
       "5            32                        0.956867          0.969796\n",
       "             64                        0.967600          0.983050\n",
       "             256                       0.974033          0.992850\n",
       "10           32                        0.960917          0.980975\n",
       "             64                        0.969783          0.993150\n",
       "             256                       0.976817          0.997196"
      ]
     },
     "execution_count": 49,
     "metadata": {},
     "output_type": "execute_result"
    }
   ],
   "source": [
    "res.pivot_table(index=[\"param_epochs\", \"param_hidden_size\"],\n",
    "                values=['mean_train_score', \"mean_test_score\"])"
   ]
  },
  {
   "cell_type": "code",
   "execution_count": 50,
   "metadata": {},
   "outputs": [
    {
     "name": "stdout",
     "output_type": "stream",
     "text": [
      "10000/10000 [==============================] - 1s 73us/step\n"
     ]
    },
    {
     "data": {
      "text/plain": [
       "0.9793999791145325"
      ]
     },
     "execution_count": 50,
     "metadata": {},
     "output_type": "execute_result"
    }
   ],
   "source": [
    "grid.score(X_test, y_test)"
   ]
  },
  {
   "cell_type": "markdown",
   "metadata": {},
   "source": [
    "### Let's create a more advanced model:\n",
    "\n",
    "- 2 hidden layers\n",
    "\n",
    "- Each layer has 1024 neurons"
   ]
  },
  {
   "cell_type": "code",
   "execution_count": 47,
   "metadata": {
    "scrolled": true
   },
   "outputs": [
    {
     "name": "stdout",
     "output_type": "stream",
     "text": [
      "Train on 54000 samples, validate on 6000 samples\n",
      "Epoch 1/20\n",
      "54000/54000 [==============================] - 4s 82us/step - loss: 0.2036 - accuracy: 0.9391 - val_loss: 0.1004 - val_accuracy: 0.9703\n",
      "Epoch 2/20\n",
      "54000/54000 [==============================] - 4s 76us/step - loss: 0.0769 - accuracy: 0.9755 - val_loss: 0.0731 - val_accuracy: 0.9782\n",
      "Epoch 3/20\n",
      "54000/54000 [==============================] - 4s 76us/step - loss: 0.0473 - accuracy: 0.9846 - val_loss: 0.0717 - val_accuracy: 0.9783\n",
      "Epoch 4/20\n",
      "54000/54000 [==============================] - 4s 78us/step - loss: 0.0350 - accuracy: 0.9886 - val_loss: 0.0723 - val_accuracy: 0.9812\n",
      "Epoch 5/20\n",
      "54000/54000 [==============================] - 4s 77us/step - loss: 0.0246 - accuracy: 0.9920 - val_loss: 0.0901 - val_accuracy: 0.9758\n",
      "Epoch 6/20\n",
      "54000/54000 [==============================] - 4s 77us/step - loss: 0.0224 - accuracy: 0.9926 - val_loss: 0.0784 - val_accuracy: 0.9807\n",
      "Epoch 7/20\n",
      "54000/54000 [==============================] - 5s 89us/step - loss: 0.0211 - accuracy: 0.9931 - val_loss: 0.0818 - val_accuracy: 0.9822\n",
      "Epoch 8/20\n",
      "54000/54000 [==============================] - 4s 78us/step - loss: 0.0163 - accuracy: 0.9946 - val_loss: 0.0819 - val_accuracy: 0.9803\n",
      "Epoch 9/20\n",
      "54000/54000 [==============================] - 4s 77us/step - loss: 0.0181 - accuracy: 0.9940 - val_loss: 0.0971 - val_accuracy: 0.9803\n",
      "Epoch 10/20\n",
      "54000/54000 [==============================] - 4s 79us/step - loss: 0.0155 - accuracy: 0.9947 - val_loss: 0.0832 - val_accuracy: 0.9818\n",
      "Epoch 11/20\n",
      "54000/54000 [==============================] - 4s 80us/step - loss: 0.0109 - accuracy: 0.9967 - val_loss: 0.0892 - val_accuracy: 0.9783\n",
      "Epoch 12/20\n",
      "54000/54000 [==============================] - 4s 78us/step - loss: 0.0118 - accuracy: 0.9961 - val_loss: 0.0966 - val_accuracy: 0.9807\n",
      "Epoch 13/20\n",
      "54000/54000 [==============================] - 4s 76us/step - loss: 0.0129 - accuracy: 0.9957 - val_loss: 0.0868 - val_accuracy: 0.9838\n",
      "Epoch 14/20\n",
      "54000/54000 [==============================] - 4s 76us/step - loss: 0.0101 - accuracy: 0.9968 - val_loss: 0.0853 - val_accuracy: 0.9815\n",
      "Epoch 15/20\n",
      "54000/54000 [==============================] - 4s 74us/step - loss: 0.0105 - accuracy: 0.9970 - val_loss: 0.0988 - val_accuracy: 0.9810\n",
      "Epoch 16/20\n",
      "54000/54000 [==============================] - 4s 76us/step - loss: 0.0085 - accuracy: 0.9972 - val_loss: 0.0939 - val_accuracy: 0.9812\n",
      "Epoch 17/20\n",
      "54000/54000 [==============================] - 4s 76us/step - loss: 0.0127 - accuracy: 0.9960 - val_loss: 0.0931 - val_accuracy: 0.9833\n",
      "Epoch 18/20\n",
      "54000/54000 [==============================] - 4s 80us/step - loss: 0.0063 - accuracy: 0.9981 - val_loss: 0.0810 - val_accuracy: 0.9868\n",
      "Epoch 19/20\n",
      "54000/54000 [==============================] - 4s 78us/step - loss: 0.0083 - accuracy: 0.9975 - val_loss: 0.0856 - val_accuracy: 0.9848\n",
      "Epoch 20/20\n",
      "54000/54000 [==============================] - 4s 77us/step - loss: 0.0064 - accuracy: 0.9984 - val_loss: 0.0931 - val_accuracy: 0.9830\n"
     ]
    }
   ],
   "source": [
    "model = Sequential([\n",
    "    Dense(1024, input_shape=(784,), activation='relu'),\n",
    "    Dense(1024, activation='relu'),\n",
    "    Dense(10, activation='softmax'),\n",
    "])\n",
    "model.compile(\"adam\", \"categorical_crossentropy\", metrics=['accuracy'])\n",
    "history = model.fit(X_train, y_train, batch_size=128,\n",
    "                    epochs=20, verbose=1, validation_split=.1)"
   ]
  },
  {
   "cell_type": "code",
   "execution_count": 39,
   "metadata": {},
   "outputs": [],
   "source": [
    "score = model.evaluate(X_test, y_test, verbose=0)"
   ]
  },
  {
   "cell_type": "code",
   "execution_count": 40,
   "metadata": {},
   "outputs": [
    {
     "data": {
      "text/plain": [
       "[0.10338941164854659, 0.9811000227928162]"
      ]
     },
     "execution_count": 40,
     "metadata": {},
     "output_type": "execute_result"
    }
   ],
   "source": [
    "score"
   ]
  },
  {
   "cell_type": "code",
   "execution_count": 41,
   "metadata": {},
   "outputs": [
    {
     "name": "stdout",
     "output_type": "stream",
     "text": [
      "Model: \"sequential_53\"\n",
      "_________________________________________________________________\n",
      "Layer (type)                 Output Shape              Param #   \n",
      "=================================================================\n",
      "dense_104 (Dense)            (None, 1024)              803840    \n",
      "_________________________________________________________________\n",
      "dense_105 (Dense)            (None, 1024)              1049600   \n",
      "_________________________________________________________________\n",
      "dense_106 (Dense)            (None, 10)                10250     \n",
      "=================================================================\n",
      "Total params: 1,863,690\n",
      "Trainable params: 1,863,690\n",
      "Non-trainable params: 0\n",
      "_________________________________________________________________\n"
     ]
    }
   ],
   "source": [
    "model.summary()"
   ]
  },
  {
   "cell_type": "code",
   "execution_count": 49,
   "metadata": {},
   "outputs": [
    {
     "data": {
      "text/plain": [
       "Text(0, 0.5, 'loss')"
      ]
     },
     "execution_count": 49,
     "metadata": {},
     "output_type": "execute_result"
    },
    {
     "data": {
      "image/png": "[encoded data removed]",
      "text/plain": [
       "<Figure size 432x288 with 2 Axes>"
      ]
     },
     "metadata": {},
     "output_type": "display_data"
    }
   ],
   "source": [
    "df = pd.DataFrame(history.history)\n",
    "df[['accuracy', 'val_accuracy']].plot()\n",
    "plt.ylabel(\"accuracy\")\n",
    "df[['loss', 'val_loss']].plot(linestyle='--', ax=plt.twinx())\n",
    "plt.ylabel(\"loss\")"
   ]
  },
  {
   "cell_type": "markdown",
   "metadata": {},
   "source": [
    "### As you can see in plot above,  `val_loss` start to increase very early (around epoch=1) which shows *overfitting*\n",
    "\n",
    "- The model is very complex"
   ]
  },
  {
   "cell_type": "markdown",
   "metadata": {},
   "source": [
    "### Dropout:\n",
    "- To remove *Overfitting* we use dropout"
   ]
  },
  {
   "cell_type": "code",
   "execution_count": 50,
   "metadata": {},
   "outputs": [
    {
     "name": "stdout",
     "output_type": "stream",
     "text": [
      "Train on 54000 samples, validate on 6000 samples\n",
      "Epoch 1/20\n",
      "54000/54000 [==============================] - 5s 87us/step - loss: 0.2987 - accuracy: 0.9086 - val_loss: 0.1059 - val_accuracy: 0.9687\n",
      "Epoch 2/20\n",
      "54000/54000 [==============================] - 5s 86us/step - loss: 0.1417 - accuracy: 0.9569 - val_loss: 0.0781 - val_accuracy: 0.9763\n",
      "Epoch 3/20\n",
      "54000/54000 [==============================] - 4s 83us/step - loss: 0.1095 - accuracy: 0.9660 - val_loss: 0.0674 - val_accuracy: 0.9807\n",
      "Epoch 4/20\n",
      "54000/54000 [==============================] - 4s 80us/step - loss: 0.0951 - accuracy: 0.9698 - val_loss: 0.0751 - val_accuracy: 0.9787\n",
      "Epoch 5/20\n",
      "54000/54000 [==============================] - 4s 79us/step - loss: 0.0836 - accuracy: 0.9743 - val_loss: 0.0602 - val_accuracy: 0.9822\n",
      "Epoch 6/20\n",
      "54000/54000 [==============================] - 4s 79us/step - loss: 0.0728 - accuracy: 0.9774 - val_loss: 0.0627 - val_accuracy: 0.9813\n",
      "Epoch 7/20\n",
      "54000/54000 [==============================] - 4s 79us/step - loss: 0.0708 - accuracy: 0.9778 - val_loss: 0.0703 - val_accuracy: 0.9785\n",
      "Epoch 8/20\n",
      "54000/54000 [==============================] - 4s 78us/step - loss: 0.0654 - accuracy: 0.9791 - val_loss: 0.0687 - val_accuracy: 0.9823\n",
      "Epoch 9/20\n",
      "54000/54000 [==============================] - 4s 79us/step - loss: 0.0598 - accuracy: 0.9813 - val_loss: 0.0596 - val_accuracy: 0.9838\n",
      "Epoch 10/20\n",
      "54000/54000 [==============================] - 4s 79us/step - loss: 0.0570 - accuracy: 0.9828 - val_loss: 0.0622 - val_accuracy: 0.9822\n",
      "Epoch 11/20\n",
      "54000/54000 [==============================] - 4s 78us/step - loss: 0.0533 - accuracy: 0.9821 - val_loss: 0.0664 - val_accuracy: 0.9842\n",
      "Epoch 12/20\n",
      "54000/54000 [==============================] - 4s 78us/step - loss: 0.0543 - accuracy: 0.9826 - val_loss: 0.0603 - val_accuracy: 0.9847\n",
      "Epoch 13/20\n",
      "54000/54000 [==============================] - 4s 78us/step - loss: 0.0511 - accuracy: 0.9830 - val_loss: 0.0659 - val_accuracy: 0.9843\n",
      "Epoch 14/20\n",
      "54000/54000 [==============================] - 4s 78us/step - loss: 0.0467 - accuracy: 0.9852 - val_loss: 0.0680 - val_accuracy: 0.9833\n",
      "Epoch 15/20\n",
      "54000/54000 [==============================] - 4s 80us/step - loss: 0.0424 - accuracy: 0.9864 - val_loss: 0.0765 - val_accuracy: 0.9822\n",
      "Epoch 16/20\n",
      "54000/54000 [==============================] - 4s 78us/step - loss: 0.0452 - accuracy: 0.9855 - val_loss: 0.0662 - val_accuracy: 0.9838\n",
      "Epoch 17/20\n",
      "54000/54000 [==============================] - 5s 87us/step - loss: 0.0440 - accuracy: 0.9867 - val_loss: 0.0618 - val_accuracy: 0.9858\n",
      "Epoch 18/20\n",
      "54000/54000 [==============================] - 5s 84us/step - loss: 0.0438 - accuracy: 0.9867 - val_loss: 0.0630 - val_accuracy: 0.9835\n",
      "Epoch 19/20\n",
      "54000/54000 [==============================] - 5s 91us/step - loss: 0.0437 - accuracy: 0.9868 - val_loss: 0.0580 - val_accuracy: 0.9855\n",
      "Epoch 20/20\n",
      "54000/54000 [==============================] - 4s 79us/step - loss: 0.0366 - accuracy: 0.9882 - val_loss: 0.0622 - val_accuracy: 0.9837\n"
     ]
    }
   ],
   "source": [
    "from keras.layers import Dropout\n",
    "\n",
    "model_dropout = Sequential([\n",
    "    Dense(1024, input_shape=(784,), activation='relu'),\n",
    "    Dropout(.5),\n",
    "    Dense(1024, activation='relu'),\n",
    "    Dropout(.5),\n",
    "    Dense(10, activation='softmax'),\n",
    "])\n",
    "model_dropout.compile(\"adam\", \"categorical_crossentropy\", metrics=['accuracy'])\n",
    "history_dropout = model_dropout.fit(X_train, y_train, batch_size=128,\n",
    "                            epochs=20, verbose=1, validation_split=.1)"
   ]
  },
  {
   "cell_type": "code",
   "execution_count": 54,
   "metadata": {},
   "outputs": [
    {
     "name": "stdout",
     "output_type": "stream",
     "text": [
      "Model: \"sequential_10\"\n",
      "_________________________________________________________________\n",
      "Layer (type)                 Output Shape              Param #   \n",
      "=================================================================\n",
      "dense_19 (Dense)             (None, 1024)              803840    \n",
      "_________________________________________________________________\n",
      "dropout_1 (Dropout)          (None, 1024)              0         \n",
      "_________________________________________________________________\n",
      "dense_20 (Dense)             (None, 1024)              1049600   \n",
      "_________________________________________________________________\n",
      "dropout_2 (Dropout)          (None, 1024)              0         \n",
      "_________________________________________________________________\n",
      "dense_21 (Dense)             (None, 10)                10250     \n",
      "=================================================================\n",
      "Total params: 1,863,690\n",
      "Trainable params: 1,863,690\n",
      "Non-trainable params: 0\n",
      "_________________________________________________________________\n"
     ]
    }
   ],
   "source": [
    "model_dropout.summary()"
   ]
  },
  {
   "cell_type": "code",
   "execution_count": 55,
   "metadata": {},
   "outputs": [
    {
     "data": {
      "text/plain": [
       "Text(0, 0.5, 'loss')"
      ]
     },
     "execution_count": 55,
     "metadata": {},
     "output_type": "execute_result"
    },
    {
     "data": {
      "image/png": "[encoded data removed]",
      "text/plain": [
       "<Figure size 432x288 with 2 Axes>"
      ]
     },
     "metadata": {},
     "output_type": "display_data"
    }
   ],
   "source": [
    "df = pd.DataFrame(history_dropout.history)\n",
    "df[['accuracy', 'val_accuracy']].plot()\n",
    "plt.ylabel(\"accuracy\")\n",
    "df[['loss', 'val_loss']].plot(linestyle='--', ax=plt.twinx())\n",
    "plt.ylabel(\"loss\")"
   ]
  },
  {
   "cell_type": "markdown",
   "metadata": {},
   "source": [
    "### As you can see there's no *overfitting* problem anymore\n",
    "\n",
    "- loss function decreasing constantly"
   ]
  },
  {
   "cell_type": "code",
   "execution_count": 56,
   "metadata": {},
   "outputs": [],
   "source": [
    "score = model_dropout.evaluate(X_test, y_test, verbose=0)"
   ]
  },
  {
   "cell_type": "code",
   "execution_count": 57,
   "metadata": {},
   "outputs": [
    {
     "data": {
      "text/plain": [
       "[0.06551973431938476, 0.9836999773979187]"
      ]
     },
     "execution_count": 57,
     "metadata": {},
     "output_type": "execute_result"
    }
   ],
   "source": [
    "score"
   ]
  },
  {
   "cell_type": "code",
   "execution_count": 58,
   "metadata": {},
   "outputs": [
    {
     "data": {
      "text/plain": [
       "array([0., 0., 0., 0., 0., 0., 0., 1., 0., 0.], dtype=float32)"
      ]
     },
     "execution_count": 58,
     "metadata": {},
     "output_type": "execute_result"
    }
   ],
   "source": [
    "model_dropout.predict(X_test)[0]"
   ]
  },
  {
   "cell_type": "markdown",
   "metadata": {},
   "source": [
    "# Batch Normalization"
   ]
  },
  {
   "cell_type": "code",
   "execution_count": 59,
   "metadata": {},
   "outputs": [],
   "source": [
    "from keras.layers import BatchNormalization\n",
    "\n",
    "model_bn = Sequential([\n",
    "    Dense(512, input_shape=(784,)),\n",
    "    BatchNormalization(),\n",
    "    Activation(\"relu\"),\n",
    "    Dense(512),\n",
    "    BatchNormalization(),\n",
    "    Activation(\"relu\"),\n",
    "    Dense(10, activation='softmax'),\n",
    "])\n",
    "model_bn.compile(\"adam\", \"categorical_crossentropy\", metrics=['accuracy'])\n"
   ]
  },
  {
   "cell_type": "code",
   "execution_count": 60,
   "metadata": {},
   "outputs": [
    {
     "name": "stdout",
     "output_type": "stream",
     "text": [
      "Model: \"sequential_12\"\n",
      "_________________________________________________________________\n",
      "Layer (type)                 Output Shape              Param #   \n",
      "=================================================================\n",
      "dense_25 (Dense)             (None, 512)               401920    \n",
      "_________________________________________________________________\n",
      "batch_normalization_3 (Batch (None, 512)               2048      \n",
      "_________________________________________________________________\n",
      "activation_14 (Activation)   (None, 512)               0         \n",
      "_________________________________________________________________\n",
      "dense_26 (Dense)             (None, 512)               262656    \n",
      "_________________________________________________________________\n",
      "batch_normalization_4 (Batch (None, 512)               2048      \n",
      "_________________________________________________________________\n",
      "activation_15 (Activation)   (None, 512)               0         \n",
      "_________________________________________________________________\n",
      "dense_27 (Dense)             (None, 10)                5130      \n",
      "=================================================================\n",
      "Total params: 673,802\n",
      "Trainable params: 671,754\n",
      "Non-trainable params: 2,048\n",
      "_________________________________________________________________\n"
     ]
    }
   ],
   "source": [
    "model_bn.summary()"
   ]
  },
  {
   "cell_type": "code",
   "execution_count": 61,
   "metadata": {},
   "outputs": [
    {
     "name": "stdout",
     "output_type": "stream",
     "text": [
      "Train on 54000 samples, validate on 6000 samples\n",
      "Epoch 1/10\n",
      "54000/54000 [==============================] - 4s 77us/step - loss: 0.0034 - accuracy: 0.9991 - val_loss: 0.1184 - val_accuracy: 0.9828\n",
      "Epoch 2/10\n",
      "54000/54000 [==============================] - 4s 78us/step - loss: 0.0047 - accuracy: 0.9989 - val_loss: 0.1190 - val_accuracy: 0.9828\n",
      "Epoch 3/10\n",
      "54000/54000 [==============================] - 4s 75us/step - loss: 0.0137 - accuracy: 0.9964 - val_loss: 0.1211 - val_accuracy: 0.9822\n",
      "Epoch 4/10\n",
      "54000/54000 [==============================] - 4s 74us/step - loss: 0.0078 - accuracy: 0.9980 - val_loss: 0.1076 - val_accuracy: 0.9832\n",
      "Epoch 5/10\n",
      "54000/54000 [==============================] - 4s 77us/step - loss: 0.0045 - accuracy: 0.9988 - val_loss: 0.0995 - val_accuracy: 0.9855\n",
      "Epoch 6/10\n",
      "54000/54000 [==============================] - 4s 74us/step - loss: 0.0019 - accuracy: 0.9994 - val_loss: 0.1095 - val_accuracy: 0.9845\n",
      "Epoch 7/10\n",
      "54000/54000 [==============================] - 4s 74us/step - loss: 0.0070 - accuracy: 0.9982 - val_loss: 0.1561 - val_accuracy: 0.9813\n",
      "Epoch 8/10\n",
      "54000/54000 [==============================] - 4s 78us/step - loss: 0.0074 - accuracy: 0.9979 - val_loss: 0.1068 - val_accuracy: 0.9822\n",
      "Epoch 9/10\n",
      "54000/54000 [==============================] - 4s 77us/step - loss: 0.0058 - accuracy: 0.9986 - val_loss: 0.1205 - val_accuracy: 0.9845\n",
      "Epoch 10/10\n",
      "54000/54000 [==============================] - 4s 77us/step - loss: 0.0034 - accuracy: 0.9992 - val_loss: 0.1225 - val_accuracy: 0.9830\n"
     ]
    }
   ],
   "source": [
    "history_bn = model.fit(X_train, y_train, batch_size=128,\n",
    "                    epochs=10, verbose=1, validation_split=.1)"
   ]
  },
  {
   "cell_type": "code",
   "execution_count": 62,
   "metadata": {},
   "outputs": [
    {
     "data": {
      "text/plain": [
       "Text(0, 0.5, 'loss')"
      ]
     },
     "execution_count": 62,
     "metadata": {},
     "output_type": "execute_result"
    },
    {
     "data": {
      "image/png": "[encoded data removed]",
      "text/plain": [
       "<Figure size 432x288 with 2 Axes>"
      ]
     },
     "metadata": {},
     "output_type": "display_data"
    }
   ],
   "source": [
    "df = pd.DataFrame(history_bn.history)\n",
    "df[['accuracy', 'val_accuracy']].plot()\n",
    "plt.ylabel(\"accuracy\")\n",
    "df[['loss', 'val_loss']].plot(linestyle='--', ax=plt.twinx())\n",
    "plt.ylabel(\"loss\")"
   ]
  },
  {
   "cell_type": "code",
   "execution_count": null,
   "metadata": {},
   "outputs": [],
   "source": []
  }
 ],
 "metadata": {
  "anaconda-cloud": {},
  "kernelspec": {
   "display_name": "Python 3",
   "language": "python",
   "name": "python3"
  },
  "language_info": {
   "codemirror_mode": {
    "name": "ipython",
    "version": 3
   },
   "file_extension": ".py",
   "mimetype": "text/x-python",
   "name": "python",
   "nbconvert_exporter": "python",
   "pygments_lexer": "ipython3",
   "version": "3.7.4"
  }
 },
 "nbformat": 4,
 "nbformat_minor": 2
}
